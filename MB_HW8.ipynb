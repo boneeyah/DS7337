{
 "cells": [
  {
   "cell_type": "markdown",
   "id": "9c2418a5-eac3-4ddd-8585-e78ebad89feb",
   "metadata": {},
   "source": [
    "# NLP - HW8\n",
    "### Miguel Bonilla"
   ]
  },
  {
   "cell_type": "markdown",
   "id": "08939c84-ed53-4134-a50c-61476deb8474",
   "metadata": {},
   "source": [
    "- [1. Load Sentiment Vocabulary](#1.-Load-Sentiment-Vocabulary)\n",
    "    - [a. Normalize Data](#a.-Normalize-Data)\n",
    "    - [b. Vader Sentiment Analyzer](#b.-Vader-Sentiment-Analyzer)\n",
    "- [2. Computer Sentiment Scores for Each Cluster](#2.-Compute-Sentiment-Scores-for-Each-Cluster)\n",
    "- [3. Sentiment Analysis of Chunks](#3.-Sentiment-Analysis-of-Chunks)"
   ]
  },
  {
   "cell_type": "markdown",
   "id": "09db3f4f-fc17-4b5a-821f-50fc145bdd55",
   "metadata": {},
   "source": [
    "Perform a vocabulary-based sentiment analysis of the movie reviews you used in homework 5 and\n",
    "homework 7, by doing the following:\n",
    "1. In Python, load one of the sentiment vocabularies referenced in the textbook, and run the\n",
    "sentiment analyzer as explained in the corresponding reference. Add words to the\n",
    "sentiment vocabulary, if you think you need to, to better fit your particular text collection.\n",
    "2. For each of the clusters you created in homework 7, compute the average, median, high,\n",
    "and low sentiment scores for each cluster. Explain whether you think this reveals anything\n",
    "interesting about the clusters.\n",
    "3. For extra credit, analyze sentiment of chunks as follows:\n",
    "     - a. Take the chunks from homework 5, and in Python, run each chunk individually\n",
    "through your sentiment analyzer that you used in question 1. If the chunk registers\n",
    "a nonneutral sentiment, save it in a tabular format (the chunk, the sentiment score).\n",
    "     - b. Now sort the table twice, once to show the highest negative-sentiment-scoring\n",
    "chunks at the top and again to show the highest positive-sentiment-scoring chunks\n",
    "at the top. Examine the upper portions of both sorted lists, to identify any trends,\n",
    "and explain what you see.\n",
    "\n",
    "Submit all of your inputs and outputs and your code for this assignment, along with a brief written\n",
    "explanation of your findings."
   ]
  },
  {
   "cell_type": "code",
   "execution_count": 1,
   "id": "82021634-8ce4-4247-8e71-ff3cf79a73f5",
   "metadata": {},
   "outputs": [],
   "source": [
    "import pandas as pd\n",
    "import numpy as np\n",
    "from requests import get\n",
    "from bs4 import BeautifulSoup\n",
    "import contractions\n",
    "from nltk.tokenize import word_tokenize\n",
    "from nltk.tokenize import sent_tokenize\n",
    "import nltk\n",
    "from unidecode import unidecode\n",
    "from nltk.sentiment.vader import SentimentIntensityAnalyzer\n",
    "from sklearn.feature_extraction.text import CountVectorizer\n",
    "from sklearn.cluster import KMeans\n",
    "from collections import Counter\n",
    "import ast"
   ]
  },
  {
   "cell_type": "markdown",
   "id": "78f8eeb4-7499-4b71-9ac1-508ebd2f877f",
   "metadata": {},
   "source": [
    "### 1. Load Sentiment Vocabulary\n",
    "#### a. Normalize Data"
   ]
  },
  {
   "cell_type": "code",
   "execution_count": 2,
   "id": "9e12435c-00a4-4ed4-a308-c43ffce6adf7",
   "metadata": {},
   "outputs": [],
   "source": [
    "### assign headers since IMDB rejects the requests without it\n",
    "headers = {'User-Agent':'Mozilla/5.0 (X11; Linux x86_64) AppleWebKit/537.36 (KHTML, like Gecko) Chrome/110.0.0.0 Safari/537.36 Edg/110.0.1587.50'}"
   ]
  },
  {
   "cell_type": "code",
   "execution_count": 3,
   "id": "e03578dd-f10b-4452-a67f-4c4426b5dbd4",
   "metadata": {},
   "outputs": [],
   "source": [
    "## load static URL list (from HW5)\n",
    "url_list = pd.read_csv(\"https://raw.githubusercontent.com/boneeyah/DS7337/main/mb_hw5_urls.csv\")"
   ]
  },
  {
   "cell_type": "code",
   "execution_count": 4,
   "id": "2a99cab3-62e2-47a2-82da-48d5ade31321",
   "metadata": {},
   "outputs": [],
   "source": [
    "# function goes through the table with the URLs to get each direct URL\n",
    "# Parses through the content of each URL to grab the main review\n",
    "# tokenizes the sentences of each review\n",
    "# returns a dataframe with the movie title, review id, and the setence tokens\n",
    "def grab_review(links_table):\n",
    "    text = []\n",
    "    for i in range(len(links_table)):\n",
    "        review = get(links_table.url[i],headers)\n",
    "        review_soup = BeautifulSoup(review.content, 'html.parser')\n",
    "        text.append(review_soup.find(class_='text show-more__control').text)\n",
    "    return(pd.DataFrame({'movie':links_table.movie,\n",
    "                         'review':links_table.review,\n",
    "                         'text':text                         \n",
    "                        }))"
   ]
  },
  {
   "cell_type": "code",
   "execution_count": 5,
   "id": "ae82caa2-05d1-4cae-b39b-d00ff8b4bf50",
   "metadata": {},
   "outputs": [],
   "source": [
    "review_text = grab_review(url_list)"
   ]
  },
  {
   "cell_type": "code",
   "execution_count": 6,
   "id": "dfba2acc-b41a-4c14-9098-9bb2e0b23163",
   "metadata": {},
   "outputs": [],
   "source": [
    "special = ['\\x96',':',',','-','(',')','[',']','–','/','#','``',';','.','&','\"',\"''\",'?','!','....','--','...','*','..',\"'\"]\n",
    "stop_words = nltk.corpus.stopwords.words('english') + ['movie','film','horror', 'thing','quiet','place','alien','covenant','shining','films','john','one']\n",
    "special = stop_words + [\"'s\",\"'t\",\"'d\",\"'ll\",\"'m\",\"'re\",\"'ve\",\"n't\"] + special"
   ]
  },
  {
   "cell_type": "code",
   "execution_count": 7,
   "id": "66beac2b-376a-46b5-8691-42c641975ed4",
   "metadata": {},
   "outputs": [],
   "source": [
    "def normalize_list(review_list):\n",
    "    expanded_words = [contractions.fix(term) for term in review_list] #expands contractions\n",
    "    term = [word_tokenize(term.lower()) for term in expanded_words] #tokenizes the expanded strings\n",
    "    blank_list = []\n",
    "    for i in range(len(review_list)):\n",
    "        blank_list.append(' '.join([unidecode(w) for w in term[i] if w not in special and w.isalpha()])) #removes special characters numbers, puts string back together\n",
    "    return(np.array(blank_list))"
   ]
  },
  {
   "cell_type": "code",
   "execution_count": 8,
   "id": "ebc37c16-798e-4a4a-ac5d-c71e039d7652",
   "metadata": {},
   "outputs": [],
   "source": [
    "review_text['norm_text'] = normalize_list(review_text.text)"
   ]
  },
  {
   "cell_type": "code",
   "execution_count": 9,
   "id": "a54adfe8-2cd2-4f5d-a539-ae1d74dfa9b1",
   "metadata": {},
   "outputs": [
    {
     "data": {
      "text/plain": [
       "(100, 68)"
      ]
     },
     "execution_count": 9,
     "metadata": {},
     "output_type": "execute_result"
    }
   ],
   "source": [
    "cv = CountVectorizer(ngram_range=(1,2), max_df=.8,min_df=20)\n",
    "cv_matrix = cv.fit_transform(review_text.norm_text)\n",
    "cv_matrix.shape"
   ]
  },
  {
   "cell_type": "code",
   "execution_count": 10,
   "id": "54707c45-087c-4182-8c68-a74bf0765f2f",
   "metadata": {},
   "outputs": [
    {
     "data": {
      "text/html": [
       "<style>#sk-container-id-1 {color: black;background-color: white;}#sk-container-id-1 pre{padding: 0;}#sk-container-id-1 div.sk-toggleable {background-color: white;}#sk-container-id-1 label.sk-toggleable__label {cursor: pointer;display: block;width: 100%;margin-bottom: 0;padding: 0.3em;box-sizing: border-box;text-align: center;}#sk-container-id-1 label.sk-toggleable__label-arrow:before {content: \"▸\";float: left;margin-right: 0.25em;color: #696969;}#sk-container-id-1 label.sk-toggleable__label-arrow:hover:before {color: black;}#sk-container-id-1 div.sk-estimator:hover label.sk-toggleable__label-arrow:before {color: black;}#sk-container-id-1 div.sk-toggleable__content {max-height: 0;max-width: 0;overflow: hidden;text-align: left;background-color: #f0f8ff;}#sk-container-id-1 div.sk-toggleable__content pre {margin: 0.2em;color: black;border-radius: 0.25em;background-color: #f0f8ff;}#sk-container-id-1 input.sk-toggleable__control:checked~div.sk-toggleable__content {max-height: 200px;max-width: 100%;overflow: auto;}#sk-container-id-1 input.sk-toggleable__control:checked~label.sk-toggleable__label-arrow:before {content: \"▾\";}#sk-container-id-1 div.sk-estimator input.sk-toggleable__control:checked~label.sk-toggleable__label {background-color: #d4ebff;}#sk-container-id-1 div.sk-label input.sk-toggleable__control:checked~label.sk-toggleable__label {background-color: #d4ebff;}#sk-container-id-1 input.sk-hidden--visually {border: 0;clip: rect(1px 1px 1px 1px);clip: rect(1px, 1px, 1px, 1px);height: 1px;margin: -1px;overflow: hidden;padding: 0;position: absolute;width: 1px;}#sk-container-id-1 div.sk-estimator {font-family: monospace;background-color: #f0f8ff;border: 1px dotted black;border-radius: 0.25em;box-sizing: border-box;margin-bottom: 0.5em;}#sk-container-id-1 div.sk-estimator:hover {background-color: #d4ebff;}#sk-container-id-1 div.sk-parallel-item::after {content: \"\";width: 100%;border-bottom: 1px solid gray;flex-grow: 1;}#sk-container-id-1 div.sk-label:hover label.sk-toggleable__label {background-color: #d4ebff;}#sk-container-id-1 div.sk-serial::before {content: \"\";position: absolute;border-left: 1px solid gray;box-sizing: border-box;top: 0;bottom: 0;left: 50%;z-index: 0;}#sk-container-id-1 div.sk-serial {display: flex;flex-direction: column;align-items: center;background-color: white;padding-right: 0.2em;padding-left: 0.2em;position: relative;}#sk-container-id-1 div.sk-item {position: relative;z-index: 1;}#sk-container-id-1 div.sk-parallel {display: flex;align-items: stretch;justify-content: center;background-color: white;position: relative;}#sk-container-id-1 div.sk-item::before, #sk-container-id-1 div.sk-parallel-item::before {content: \"\";position: absolute;border-left: 1px solid gray;box-sizing: border-box;top: 0;bottom: 0;left: 50%;z-index: -1;}#sk-container-id-1 div.sk-parallel-item {display: flex;flex-direction: column;z-index: 1;position: relative;background-color: white;}#sk-container-id-1 div.sk-parallel-item:first-child::after {align-self: flex-end;width: 50%;}#sk-container-id-1 div.sk-parallel-item:last-child::after {align-self: flex-start;width: 50%;}#sk-container-id-1 div.sk-parallel-item:only-child::after {width: 0;}#sk-container-id-1 div.sk-dashed-wrapped {border: 1px dashed gray;margin: 0 0.4em 0.5em 0.4em;box-sizing: border-box;padding-bottom: 0.4em;background-color: white;}#sk-container-id-1 div.sk-label label {font-family: monospace;font-weight: bold;display: inline-block;line-height: 1.2em;}#sk-container-id-1 div.sk-label-container {text-align: center;}#sk-container-id-1 div.sk-container {/* jupyter's `normalize.less` sets `[hidden] { display: none; }` but bootstrap.min.css set `[hidden] { display: none !important; }` so we also need the `!important` here to be able to override the default hidden behavior on the sphinx rendered scikit-learn.org. See: https://github.com/scikit-learn/scikit-learn/issues/21755 */display: inline-block !important;position: relative;}#sk-container-id-1 div.sk-text-repr-fallback {display: none;}</style><div id=\"sk-container-id-1\" class=\"sk-top-container\"><div class=\"sk-text-repr-fallback\"><pre>KMeans(max_iter=1000, n_clusters=4, n_init=500, random_state=326)</pre><b>In a Jupyter environment, please rerun this cell to show the HTML representation or trust the notebook. <br />On GitHub, the HTML representation is unable to render, please try loading this page with nbviewer.org.</b></div><div class=\"sk-container\" hidden><div class=\"sk-item\"><div class=\"sk-estimator sk-toggleable\"><input class=\"sk-toggleable__control sk-hidden--visually\" id=\"sk-estimator-id-1\" type=\"checkbox\" checked><label for=\"sk-estimator-id-1\" class=\"sk-toggleable__label sk-toggleable__label-arrow\">KMeans</label><div class=\"sk-toggleable__content\"><pre>KMeans(max_iter=1000, n_clusters=4, n_init=500, random_state=326)</pre></div></div></div></div></div>"
      ],
      "text/plain": [
       "KMeans(max_iter=1000, n_clusters=4, n_init=500, random_state=326)"
      ]
     },
     "execution_count": 10,
     "metadata": {},
     "output_type": "execute_result"
    }
   ],
   "source": [
    "NUM_Clusters = 4\n",
    "km4 = KMeans(n_clusters=NUM_Clusters, max_iter=1000,n_init=500,random_state=326).fit(cv_matrix)\n",
    "km4"
   ]
  },
  {
   "cell_type": "code",
   "execution_count": 11,
   "id": "7d1d99ac-b623-4e75-9a9a-3985c301f020",
   "metadata": {},
   "outputs": [
    {
     "data": {
      "text/plain": [
       "Counter({0: 20, 2: 66, 3: 4, 1: 10})"
      ]
     },
     "execution_count": 11,
     "metadata": {},
     "output_type": "execute_result"
    }
   ],
   "source": [
    "Counter(km4.labels_)"
   ]
  },
  {
   "cell_type": "code",
   "execution_count": 12,
   "id": "298013b4-1ba4-411e-b651-4d9aa39dd0eb",
   "metadata": {},
   "outputs": [],
   "source": [
    "review_text['cluster'] = km4.labels_"
   ]
  },
  {
   "cell_type": "markdown",
   "id": "d5649ec5-f573-45c6-b2b6-ba6ee808605c",
   "metadata": {},
   "source": [
    "#### b. Vader Sentiment Analyzer"
   ]
  },
  {
   "cell_type": "code",
   "execution_count": 13,
   "id": "f04797d6-8809-4680-ae70-0a60b3b85bef",
   "metadata": {},
   "outputs": [],
   "source": [
    "def sent_analyzer(review,threshold,verbose):\n",
    "    analyzer = SentimentIntensityAnalyzer()\n",
    "    pol_scores = []\n",
    "    comb_score = []\n",
    "    for i in range(len(review)):\n",
    "        score_list = analyzer.polarity_scores(review[i])\n",
    "        agg_score = score_list['compound']\n",
    "        comb_score.append(agg_score)\n",
    "        pol_scores.append('positive' if agg_score >=threshold else 'negative' if agg_score <=-threshold else 'neutral')\n",
    "    return(pd.DataFrame({'compound score':comb_score,'sentiment':pol_scores}))\n",
    "        "
   ]
  },
  {
   "cell_type": "code",
   "execution_count": 14,
   "id": "84c3783d-483c-4a32-b875-acb72f381d06",
   "metadata": {},
   "outputs": [
    {
     "data": {
      "text/html": [
       "<div>\n",
       "<style scoped>\n",
       "    .dataframe tbody tr th:only-of-type {\n",
       "        vertical-align: middle;\n",
       "    }\n",
       "\n",
       "    .dataframe tbody tr th {\n",
       "        vertical-align: top;\n",
       "    }\n",
       "\n",
       "    .dataframe thead th {\n",
       "        text-align: right;\n",
       "    }\n",
       "</style>\n",
       "<table border=\"1\" class=\"dataframe\">\n",
       "  <thead>\n",
       "    <tr style=\"text-align: right;\">\n",
       "      <th></th>\n",
       "      <th>movie</th>\n",
       "      <th>review</th>\n",
       "      <th>text</th>\n",
       "      <th>norm_text</th>\n",
       "      <th>cluster</th>\n",
       "      <th>compound score</th>\n",
       "      <th>sentiment</th>\n",
       "    </tr>\n",
       "  </thead>\n",
       "  <tbody>\n",
       "    <tr>\n",
       "      <th>0</th>\n",
       "      <td>The_Thing</td>\n",
       "      <td>The_Thing_0</td>\n",
       "      <td>\"I know I'm human. And if you were all these t...</td>\n",
       "      <td>know human things would attack right still hum...</td>\n",
       "      <td>0</td>\n",
       "      <td>0.9294</td>\n",
       "      <td>positive</td>\n",
       "    </tr>\n",
       "    <tr>\n",
       "      <th>1</th>\n",
       "      <td>The_Thing</td>\n",
       "      <td>The_Thing_1</td>\n",
       "      <td>A classic film. John Carpenter's \"The Thing\" i...</td>\n",
       "      <td>classic carpenter entertaining ever made fast ...</td>\n",
       "      <td>0</td>\n",
       "      <td>0.9989</td>\n",
       "      <td>positive</td>\n",
       "    </tr>\n",
       "    <tr>\n",
       "      <th>2</th>\n",
       "      <td>The_Thing</td>\n",
       "      <td>The_Thing_2</td>\n",
       "      <td>John Carpenter shows how much he loves the 195...</td>\n",
       "      <td>carpenter shows much loves original giving utm...</td>\n",
       "      <td>2</td>\n",
       "      <td>0.8807</td>\n",
       "      <td>positive</td>\n",
       "    </tr>\n",
       "    <tr>\n",
       "      <th>3</th>\n",
       "      <td>The_Thing</td>\n",
       "      <td>The_Thing_3</td>\n",
       "      <td>\"The ultimate in alien terror,\" it says. It's ...</td>\n",
       "      <td>ultimate terror says wrong greatest ever made ...</td>\n",
       "      <td>2</td>\n",
       "      <td>0.9829</td>\n",
       "      <td>positive</td>\n",
       "    </tr>\n",
       "    <tr>\n",
       "      <th>4</th>\n",
       "      <td>The_Thing</td>\n",
       "      <td>The_Thing_4</td>\n",
       "      <td>Remake of the classic 1951 \"The Thing From Ano...</td>\n",
       "      <td>remake classic another world men completely is...</td>\n",
       "      <td>2</td>\n",
       "      <td>-0.9619</td>\n",
       "      <td>negative</td>\n",
       "    </tr>\n",
       "    <tr>\n",
       "      <th>...</th>\n",
       "      <td>...</td>\n",
       "      <td>...</td>\n",
       "      <td>...</td>\n",
       "      <td>...</td>\n",
       "      <td>...</td>\n",
       "      <td>...</td>\n",
       "      <td>...</td>\n",
       "    </tr>\n",
       "    <tr>\n",
       "      <th>95</th>\n",
       "      <td>The_Shining</td>\n",
       "      <td>The_Shining_20</td>\n",
       "      <td>Horror films are not my cup of tea. But The Sh...</td>\n",
       "      <td>cup tea gotten reconsider preference incredibl...</td>\n",
       "      <td>1</td>\n",
       "      <td>0.9777</td>\n",
       "      <td>positive</td>\n",
       "    </tr>\n",
       "    <tr>\n",
       "      <th>96</th>\n",
       "      <td>The_Shining</td>\n",
       "      <td>The_Shining_21</td>\n",
       "      <td>The Shining is directed by Stanley Kubrick and...</td>\n",
       "      <td>directed stanley kubrick based novel steven ki...</td>\n",
       "      <td>2</td>\n",
       "      <td>0.9915</td>\n",
       "      <td>positive</td>\n",
       "    </tr>\n",
       "    <tr>\n",
       "      <th>97</th>\n",
       "      <td>The_Shining</td>\n",
       "      <td>The_Shining_22</td>\n",
       "      <td>The Shining (1980) is a movie in my DVD collec...</td>\n",
       "      <td>dvd collection recently rewatched hbomax story...</td>\n",
       "      <td>1</td>\n",
       "      <td>0.9923</td>\n",
       "      <td>positive</td>\n",
       "    </tr>\n",
       "    <tr>\n",
       "      <th>98</th>\n",
       "      <td>The_Shining</td>\n",
       "      <td>The_Shining_23</td>\n",
       "      <td>*!!- SPOILERS - !!*Before I begin this, let me...</td>\n",
       "      <td>spoilers begin let say advantages seeing big s...</td>\n",
       "      <td>3</td>\n",
       "      <td>0.9967</td>\n",
       "      <td>positive</td>\n",
       "    </tr>\n",
       "    <tr>\n",
       "      <th>99</th>\n",
       "      <td>The_Shining</td>\n",
       "      <td>The_Shining_24</td>\n",
       "      <td>I shall never, ever be able to understand the ...</td>\n",
       "      <td>shall never ever able understand phenomenon kn...</td>\n",
       "      <td>1</td>\n",
       "      <td>0.9415</td>\n",
       "      <td>positive</td>\n",
       "    </tr>\n",
       "  </tbody>\n",
       "</table>\n",
       "<p>100 rows × 7 columns</p>\n",
       "</div>"
      ],
      "text/plain": [
       "          movie          review  \\\n",
       "0     The_Thing     The_Thing_0   \n",
       "1     The_Thing     The_Thing_1   \n",
       "2     The_Thing     The_Thing_2   \n",
       "3     The_Thing     The_Thing_3   \n",
       "4     The_Thing     The_Thing_4   \n",
       "..          ...             ...   \n",
       "95  The_Shining  The_Shining_20   \n",
       "96  The_Shining  The_Shining_21   \n",
       "97  The_Shining  The_Shining_22   \n",
       "98  The_Shining  The_Shining_23   \n",
       "99  The_Shining  The_Shining_24   \n",
       "\n",
       "                                                 text  \\\n",
       "0   \"I know I'm human. And if you were all these t...   \n",
       "1   A classic film. John Carpenter's \"The Thing\" i...   \n",
       "2   John Carpenter shows how much he loves the 195...   \n",
       "3   \"The ultimate in alien terror,\" it says. It's ...   \n",
       "4   Remake of the classic 1951 \"The Thing From Ano...   \n",
       "..                                                ...   \n",
       "95  Horror films are not my cup of tea. But The Sh...   \n",
       "96  The Shining is directed by Stanley Kubrick and...   \n",
       "97  The Shining (1980) is a movie in my DVD collec...   \n",
       "98  *!!- SPOILERS - !!*Before I begin this, let me...   \n",
       "99  I shall never, ever be able to understand the ...   \n",
       "\n",
       "                                            norm_text  cluster  \\\n",
       "0   know human things would attack right still hum...        0   \n",
       "1   classic carpenter entertaining ever made fast ...        0   \n",
       "2   carpenter shows much loves original giving utm...        2   \n",
       "3   ultimate terror says wrong greatest ever made ...        2   \n",
       "4   remake classic another world men completely is...        2   \n",
       "..                                                ...      ...   \n",
       "95  cup tea gotten reconsider preference incredibl...        1   \n",
       "96  directed stanley kubrick based novel steven ki...        2   \n",
       "97  dvd collection recently rewatched hbomax story...        1   \n",
       "98  spoilers begin let say advantages seeing big s...        3   \n",
       "99  shall never ever able understand phenomenon kn...        1   \n",
       "\n",
       "    compound score sentiment  \n",
       "0           0.9294  positive  \n",
       "1           0.9989  positive  \n",
       "2           0.8807  positive  \n",
       "3           0.9829  positive  \n",
       "4          -0.9619  negative  \n",
       "..             ...       ...  \n",
       "95          0.9777  positive  \n",
       "96          0.9915  positive  \n",
       "97          0.9923  positive  \n",
       "98          0.9967  positive  \n",
       "99          0.9415  positive  \n",
       "\n",
       "[100 rows x 7 columns]"
      ]
     },
     "execution_count": 14,
     "metadata": {},
     "output_type": "execute_result"
    }
   ],
   "source": [
    "agg_list = sent_analyzer(review_text.norm_text,.1,True)\n",
    "review_text = review_text.join(agg_list)\n",
    "review_text"
   ]
  },
  {
   "cell_type": "markdown",
   "id": "7146850c-d7f3-40cf-8be4-a6312379ab75",
   "metadata": {},
   "source": [
    "The vader sentiment analyzer appears to have done a good job at assigning sentiment scores on the normalized corpus. No additional words were added to the vader sentiment analyzer lexicon."
   ]
  },
  {
   "cell_type": "markdown",
   "id": "eb781816-2874-4608-98cf-874386bbfdf9",
   "metadata": {},
   "source": [
    "### 2. Compute Sentiment Scores for Each Cluster"
   ]
  },
  {
   "cell_type": "code",
   "execution_count": 15,
   "id": "caf67c42-6d53-4c68-bfe0-76245db560a7",
   "metadata": {},
   "outputs": [
    {
     "data": {
      "text/html": [
       "<div>\n",
       "<style scoped>\n",
       "    .dataframe tbody tr th:only-of-type {\n",
       "        vertical-align: middle;\n",
       "    }\n",
       "\n",
       "    .dataframe tbody tr th {\n",
       "        vertical-align: top;\n",
       "    }\n",
       "\n",
       "    .dataframe thead tr th {\n",
       "        text-align: left;\n",
       "    }\n",
       "\n",
       "    .dataframe thead tr:last-of-type th {\n",
       "        text-align: right;\n",
       "    }\n",
       "</style>\n",
       "<table border=\"1\" class=\"dataframe\">\n",
       "  <thead>\n",
       "    <tr>\n",
       "      <th></th>\n",
       "      <th colspan=\"6\" halign=\"left\">compound score</th>\n",
       "    </tr>\n",
       "    <tr>\n",
       "      <th></th>\n",
       "      <th>count</th>\n",
       "      <th>mean</th>\n",
       "      <th>std</th>\n",
       "      <th>min</th>\n",
       "      <th>50%</th>\n",
       "      <th>max</th>\n",
       "    </tr>\n",
       "    <tr>\n",
       "      <th>cluster</th>\n",
       "      <th></th>\n",
       "      <th></th>\n",
       "      <th></th>\n",
       "      <th></th>\n",
       "      <th></th>\n",
       "      <th></th>\n",
       "    </tr>\n",
       "  </thead>\n",
       "  <tbody>\n",
       "    <tr>\n",
       "      <th>0</th>\n",
       "      <td>20.0</td>\n",
       "      <td>0.398990</td>\n",
       "      <td>0.867324</td>\n",
       "      <td>-0.9777</td>\n",
       "      <td>0.95290</td>\n",
       "      <td>0.9989</td>\n",
       "    </tr>\n",
       "    <tr>\n",
       "      <th>1</th>\n",
       "      <td>10.0</td>\n",
       "      <td>0.606320</td>\n",
       "      <td>0.616949</td>\n",
       "      <td>-0.8925</td>\n",
       "      <td>0.92605</td>\n",
       "      <td>0.9923</td>\n",
       "    </tr>\n",
       "    <tr>\n",
       "      <th>2</th>\n",
       "      <td>66.0</td>\n",
       "      <td>0.011556</td>\n",
       "      <td>0.849469</td>\n",
       "      <td>-0.9915</td>\n",
       "      <td>0.00090</td>\n",
       "      <td>0.9933</td>\n",
       "    </tr>\n",
       "    <tr>\n",
       "      <th>3</th>\n",
       "      <td>4.0</td>\n",
       "      <td>0.508025</td>\n",
       "      <td>0.972619</td>\n",
       "      <td>-0.9509</td>\n",
       "      <td>0.99315</td>\n",
       "      <td>0.9967</td>\n",
       "    </tr>\n",
       "  </tbody>\n",
       "</table>\n",
       "</div>"
      ],
      "text/plain": [
       "        compound score                                             \n",
       "                 count      mean       std     min      50%     max\n",
       "cluster                                                            \n",
       "0                 20.0  0.398990  0.867324 -0.9777  0.95290  0.9989\n",
       "1                 10.0  0.606320  0.616949 -0.8925  0.92605  0.9923\n",
       "2                 66.0  0.011556  0.849469 -0.9915  0.00090  0.9933\n",
       "3                  4.0  0.508025  0.972619 -0.9509  0.99315  0.9967"
      ]
     },
     "execution_count": 15,
     "metadata": {},
     "output_type": "execute_result"
    }
   ],
   "source": [
    "review_text.groupby('cluster').describe(percentiles = [.5])"
   ]
  },
  {
   "cell_type": "markdown",
   "id": "6812dd32-7ba2-48fd-9497-3b9085eaff71",
   "metadata": {},
   "source": [
    "The results give a lot of insight for the sentiments in each cluster. The cluster which appears to be the most distinct is cluster 2 (N=66) for which the median and average sentiment are both closer to zero. Clusters 0 (N=20), 1 (N=10), 3 (N=4) have very similar min and max sentiment scores, however there is a slight noticeable difference in the median sentiment scores (.95, .92 and .99, respectively); and a a large difference in their average sentiments cores (.40, .6 and .5 respectively)."
   ]
  },
  {
   "cell_type": "markdown",
   "id": "58e99e61-c6d0-4f6d-b77c-ee51abc4cbc2",
   "metadata": {},
   "source": [
    "### 3. Sentiment Analysis of Chunks"
   ]
  },
  {
   "cell_type": "markdown",
   "id": "ff5d11e3-f042-41de-aeb7-6a8f95b3db4b",
   "metadata": {},
   "source": [
    "The Vader Sentiment Score Analyzer takes strings as input, without taking into account the POS tags, therefore we will start by reconstructing the word chunks by removing the tags and joining the words for each chunk together by first iterating through each touple in a chunk, and taking the first object (the word) from each touple."
   ]
  },
  {
   "cell_type": "code",
   "execution_count": 16,
   "id": "b089403e-480c-4eb4-830b-c7f316f84c2c",
   "metadata": {},
   "outputs": [],
   "source": [
    "np_chunks = pd.read_csv(\"https://raw.githubusercontent.com/boneeyah/DS7337/main/mb_hw5_npchunks.csv\")"
   ]
  },
  {
   "cell_type": "code",
   "execution_count": 17,
   "id": "92d5eacc-2e35-4f2d-8c5a-7a648f4d8570",
   "metadata": {},
   "outputs": [],
   "source": [
    "review_id = np_chunks.iloc[:,0]\n",
    "np_chunks = np_chunks['NP-chunks']"
   ]
  },
  {
   "cell_type": "code",
   "execution_count": 18,
   "id": "72da1352-2895-4110-a213-330853587b74",
   "metadata": {},
   "outputs": [
    {
     "data": {
      "text/plain": [
       "0             [('This', 'DT'), ('thing', 'NN')]\n",
       "1                            [('inside', 'NN')]\n",
       "2           [('an', 'DT'), ('imitation', 'NN')]\n",
       "3                            [('nobody', 'NN')]\n",
       "4       [('John', 'NNP'), ('Carpenter', 'NNP')]\n",
       "                         ...                   \n",
       "7691                          [('screw', 'NN')]\n",
       "7692                          [('cause', 'NN')]\n",
       "7693                          [('death', 'NN')]\n",
       "7694                         [('mayhem', 'NN')]\n",
       "7695            [('the', 'DT'), ('film', 'NN')]\n",
       "Name: NP-chunks, Length: 7696, dtype: object"
      ]
     },
     "execution_count": 18,
     "metadata": {},
     "output_type": "execute_result"
    }
   ],
   "source": [
    "np_chunks"
   ]
  },
  {
   "cell_type": "code",
   "execution_count": 19,
   "id": "d62cd84b-e0d1-4b17-9782-b52e434b3bb1",
   "metadata": {},
   "outputs": [],
   "source": [
    "total_list = []\n",
    "for j in range(len(np_chunks)):\n",
    "    new_list = []\n",
    "    for i in range(len(ast.literal_eval(np_chunks[j]))):\n",
    "        new_list.append(ast.literal_eval(np_chunks[j])[i][0])\n",
    "    total_list.append(' '.join(new_list))"
   ]
  },
  {
   "cell_type": "code",
   "execution_count": 20,
   "id": "fdc82342-eab6-458d-a6e1-2c564ddf3ffc",
   "metadata": {},
   "outputs": [],
   "source": [
    "np_chunks_sent = pd.DataFrame({'review_id':review_id,'review':total_list})\n",
    "np_chunks_sent = np_chunks_sent.join(sent_analyzer(np_chunks_sent['review'],.1,True))"
   ]
  },
  {
   "cell_type": "code",
   "execution_count": 21,
   "id": "3fe7a7e5-9a8c-48fa-b03f-235d3cfda151",
   "metadata": {},
   "outputs": [
    {
     "data": {
      "text/html": [
       "<div>\n",
       "<style scoped>\n",
       "    .dataframe tbody tr th:only-of-type {\n",
       "        vertical-align: middle;\n",
       "    }\n",
       "\n",
       "    .dataframe tbody tr th {\n",
       "        vertical-align: top;\n",
       "    }\n",
       "\n",
       "    .dataframe thead th {\n",
       "        text-align: right;\n",
       "    }\n",
       "</style>\n",
       "<table border=\"1\" class=\"dataframe\">\n",
       "  <thead>\n",
       "    <tr style=\"text-align: right;\">\n",
       "      <th></th>\n",
       "      <th>review_id</th>\n",
       "      <th>review</th>\n",
       "      <th>compound score</th>\n",
       "      <th>sentiment</th>\n",
       "    </tr>\n",
       "  </thead>\n",
       "  <tbody>\n",
       "    <tr>\n",
       "      <th>0</th>\n",
       "      <td>The_Thing_0</td>\n",
       "      <td>This thing</td>\n",
       "      <td>0.0000</td>\n",
       "      <td>neutral</td>\n",
       "    </tr>\n",
       "    <tr>\n",
       "      <th>1</th>\n",
       "      <td>The_Thing_0</td>\n",
       "      <td>inside</td>\n",
       "      <td>0.0000</td>\n",
       "      <td>neutral</td>\n",
       "    </tr>\n",
       "    <tr>\n",
       "      <th>2</th>\n",
       "      <td>The_Thing_0</td>\n",
       "      <td>an imitation</td>\n",
       "      <td>0.0000</td>\n",
       "      <td>neutral</td>\n",
       "    </tr>\n",
       "    <tr>\n",
       "      <th>3</th>\n",
       "      <td>The_Thing_0</td>\n",
       "      <td>nobody</td>\n",
       "      <td>0.0000</td>\n",
       "      <td>neutral</td>\n",
       "    </tr>\n",
       "    <tr>\n",
       "      <th>4</th>\n",
       "      <td>The_Thing_0</td>\n",
       "      <td>John Carpenter</td>\n",
       "      <td>0.0000</td>\n",
       "      <td>neutral</td>\n",
       "    </tr>\n",
       "    <tr>\n",
       "      <th>...</th>\n",
       "      <td>...</td>\n",
       "      <td>...</td>\n",
       "      <td>...</td>\n",
       "      <td>...</td>\n",
       "    </tr>\n",
       "    <tr>\n",
       "      <th>7691</th>\n",
       "      <td>The_Shining_24</td>\n",
       "      <td>screw</td>\n",
       "      <td>-0.1027</td>\n",
       "      <td>negative</td>\n",
       "    </tr>\n",
       "    <tr>\n",
       "      <th>7692</th>\n",
       "      <td>The_Shining_24</td>\n",
       "      <td>cause</td>\n",
       "      <td>0.0000</td>\n",
       "      <td>neutral</td>\n",
       "    </tr>\n",
       "    <tr>\n",
       "      <th>7693</th>\n",
       "      <td>The_Shining_24</td>\n",
       "      <td>death</td>\n",
       "      <td>-0.5994</td>\n",
       "      <td>negative</td>\n",
       "    </tr>\n",
       "    <tr>\n",
       "      <th>7694</th>\n",
       "      <td>The_Shining_24</td>\n",
       "      <td>mayhem</td>\n",
       "      <td>0.0000</td>\n",
       "      <td>neutral</td>\n",
       "    </tr>\n",
       "    <tr>\n",
       "      <th>7695</th>\n",
       "      <td>The_Shining_24</td>\n",
       "      <td>the film</td>\n",
       "      <td>0.0000</td>\n",
       "      <td>neutral</td>\n",
       "    </tr>\n",
       "  </tbody>\n",
       "</table>\n",
       "<p>7696 rows × 4 columns</p>\n",
       "</div>"
      ],
      "text/plain": [
       "           review_id          review  compound score sentiment\n",
       "0        The_Thing_0      This thing          0.0000   neutral\n",
       "1        The_Thing_0          inside          0.0000   neutral\n",
       "2        The_Thing_0    an imitation          0.0000   neutral\n",
       "3        The_Thing_0          nobody          0.0000   neutral\n",
       "4        The_Thing_0  John Carpenter          0.0000   neutral\n",
       "...              ...             ...             ...       ...\n",
       "7691  The_Shining_24           screw         -0.1027  negative\n",
       "7692  The_Shining_24           cause          0.0000   neutral\n",
       "7693  The_Shining_24           death         -0.5994  negative\n",
       "7694  The_Shining_24          mayhem          0.0000   neutral\n",
       "7695  The_Shining_24        the film          0.0000   neutral\n",
       "\n",
       "[7696 rows x 4 columns]"
      ]
     },
     "execution_count": 21,
     "metadata": {},
     "output_type": "execute_result"
    }
   ],
   "source": [
    "np_chunks_sent"
   ]
  },
  {
   "cell_type": "code",
   "execution_count": 22,
   "id": "80c28e05-2748-4e23-b9f6-0564b45c7fe4",
   "metadata": {},
   "outputs": [
    {
     "data": {
      "text/html": [
       "<div>\n",
       "<style scoped>\n",
       "    .dataframe tbody tr th:only-of-type {\n",
       "        vertical-align: middle;\n",
       "    }\n",
       "\n",
       "    .dataframe tbody tr th {\n",
       "        vertical-align: top;\n",
       "    }\n",
       "\n",
       "    .dataframe thead th {\n",
       "        text-align: right;\n",
       "    }\n",
       "</style>\n",
       "<table border=\"1\" class=\"dataframe\">\n",
       "  <thead>\n",
       "    <tr style=\"text-align: right;\">\n",
       "      <th></th>\n",
       "      <th>review_id</th>\n",
       "      <th>review</th>\n",
       "      <th>compound score</th>\n",
       "      <th>sentiment</th>\n",
       "    </tr>\n",
       "  </thead>\n",
       "  <tbody>\n",
       "    <tr>\n",
       "      <th>6484</th>\n",
       "      <td>The_Shining_13</td>\n",
       "      <td>a brilliant cinematic masterpiece</td>\n",
       "      <td>0.8360</td>\n",
       "      <td>positive</td>\n",
       "    </tr>\n",
       "    <tr>\n",
       "      <th>3842</th>\n",
       "      <td>Alien_Covenant_2</td>\n",
       "      <td>Heaven Paradise</td>\n",
       "      <td>0.8176</td>\n",
       "      <td>positive</td>\n",
       "    </tr>\n",
       "    <tr>\n",
       "      <th>1664</th>\n",
       "      <td>The_Thing_19</td>\n",
       "      <td>a true masterpiece</td>\n",
       "      <td>0.7845</td>\n",
       "      <td>positive</td>\n",
       "    </tr>\n",
       "    <tr>\n",
       "      <th>7154</th>\n",
       "      <td>The_Shining_22</td>\n",
       "      <td>A true masterpiece</td>\n",
       "      <td>0.7845</td>\n",
       "      <td>positive</td>\n",
       "    </tr>\n",
       "    <tr>\n",
       "      <th>2873</th>\n",
       "      <td>A_Quiet_Place_13</td>\n",
       "      <td>great talent</td>\n",
       "      <td>0.7845</td>\n",
       "      <td>positive</td>\n",
       "    </tr>\n",
       "  </tbody>\n",
       "</table>\n",
       "</div>"
      ],
      "text/plain": [
       "             review_id                             review  compound score  \\\n",
       "6484    The_Shining_13  a brilliant cinematic masterpiece          0.8360   \n",
       "3842  Alien_Covenant_2                    Heaven Paradise          0.8176   \n",
       "1664      The_Thing_19                 a true masterpiece          0.7845   \n",
       "7154    The_Shining_22                 A true masterpiece          0.7845   \n",
       "2873  A_Quiet_Place_13                       great talent          0.7845   \n",
       "\n",
       "     sentiment  \n",
       "6484  positive  \n",
       "3842  positive  \n",
       "1664  positive  \n",
       "7154  positive  \n",
       "2873  positive  "
      ]
     },
     "execution_count": 22,
     "metadata": {},
     "output_type": "execute_result"
    }
   ],
   "source": [
    "np_chunks_sent.sort_values(\"compound score\", ascending=False).head()"
   ]
  },
  {
   "cell_type": "code",
   "execution_count": 23,
   "id": "b5747579-2a1b-4833-8945-0765d28a11be",
   "metadata": {},
   "outputs": [
    {
     "data": {
      "text/html": [
       "<div>\n",
       "<style scoped>\n",
       "    .dataframe tbody tr th:only-of-type {\n",
       "        vertical-align: middle;\n",
       "    }\n",
       "\n",
       "    .dataframe tbody tr th {\n",
       "        vertical-align: top;\n",
       "    }\n",
       "\n",
       "    .dataframe thead th {\n",
       "        text-align: right;\n",
       "    }\n",
       "</style>\n",
       "<table border=\"1\" class=\"dataframe\">\n",
       "  <thead>\n",
       "    <tr style=\"text-align: right;\">\n",
       "      <th></th>\n",
       "      <th>review_id</th>\n",
       "      <th>review</th>\n",
       "      <th>compound score</th>\n",
       "      <th>sentiment</th>\n",
       "    </tr>\n",
       "  </thead>\n",
       "  <tbody>\n",
       "    <tr>\n",
       "      <th>3743</th>\n",
       "      <td>Alien_Covenant_2</td>\n",
       "      <td>mad killer</td>\n",
       "      <td>-0.8176</td>\n",
       "      <td>negative</td>\n",
       "    </tr>\n",
       "    <tr>\n",
       "      <th>2959</th>\n",
       "      <td>A_Quiet_Place_15</td>\n",
       "      <td>worst problem</td>\n",
       "      <td>-0.7783</td>\n",
       "      <td>negative</td>\n",
       "    </tr>\n",
       "    <tr>\n",
       "      <th>2821</th>\n",
       "      <td>A_Quiet_Place_13</td>\n",
       "      <td>unfair criticism</td>\n",
       "      <td>-0.7184</td>\n",
       "      <td>negative</td>\n",
       "    </tr>\n",
       "    <tr>\n",
       "      <th>4239</th>\n",
       "      <td>Alien_Covenant_6</td>\n",
       "      <td>panicky idiot</td>\n",
       "      <td>-0.7003</td>\n",
       "      <td>negative</td>\n",
       "    </tr>\n",
       "    <tr>\n",
       "      <th>4954</th>\n",
       "      <td>Alien_Covenant_17</td>\n",
       "      <td>either kill</td>\n",
       "      <td>-0.6908</td>\n",
       "      <td>negative</td>\n",
       "    </tr>\n",
       "  </tbody>\n",
       "</table>\n",
       "</div>"
      ],
      "text/plain": [
       "              review_id            review  compound score sentiment\n",
       "3743   Alien_Covenant_2        mad killer         -0.8176  negative\n",
       "2959   A_Quiet_Place_15     worst problem         -0.7783  negative\n",
       "2821   A_Quiet_Place_13  unfair criticism         -0.7184  negative\n",
       "4239   Alien_Covenant_6     panicky idiot         -0.7003  negative\n",
       "4954  Alien_Covenant_17       either kill         -0.6908  negative"
      ]
     },
     "execution_count": 23,
     "metadata": {},
     "output_type": "execute_result"
    }
   ],
   "source": [
    "np_chunks_sent.sort_values(\"compound score\").head()"
   ]
  },
  {
   "cell_type": "markdown",
   "id": "ceee763f-ffe5-4c93-b61b-ecb3757a7c3c",
   "metadata": {},
   "source": [
    "should add to lexicon, 'horror' 'frightening' 'fear', 'scary' as positive"
   ]
  },
  {
   "cell_type": "code",
   "execution_count": 24,
   "id": "111c7a5e-74cb-4f28-9c86-94e1a516f780",
   "metadata": {},
   "outputs": [],
   "source": [
    "np_chunks_sent.to_csv('MB_hw8_chunk_sent.csv')\n",
    "review_text.to_csv('MB_h8_review_sent.csv')\n",
    "review_text.groupby('cluster').describe(percentiles = [.5]).to_csv('MB_h8_sent_agg.csv')"
   ]
  }
 ],
 "metadata": {
  "kernelspec": {
   "display_name": "Python 3 (ipykernel)",
   "language": "python",
   "name": "python3"
  },
  "language_info": {
   "codemirror_mode": {
    "name": "ipython",
    "version": 3
   },
   "file_extension": ".py",
   "mimetype": "text/x-python",
   "name": "python",
   "nbconvert_exporter": "python",
   "pygments_lexer": "ipython3",
   "version": "3.9.12"
  }
 },
 "nbformat": 4,
 "nbformat_minor": 5
}
