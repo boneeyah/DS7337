{
 "cells": [
  {
   "cell_type": "code",
   "execution_count": null,
   "id": "e951d7dc-4afd-416d-9a10-49a1e24df3d8",
   "metadata": {},
   "outputs": [],
   "source": []
  },
  {
   "cell_type": "code",
   "execution_count": null,
   "id": "2c1bb60d-e1bb-4b57-ab74-26891792bdad",
   "metadata": {},
   "outputs": [],
   "source": []
  },
  {
   "cell_type": "code",
   "execution_count": 16,
   "id": "82021634-8ce4-4247-8e71-ff3cf79a73f5",
   "metadata": {},
   "outputs": [],
   "source": [
    "import pandas as pd\n",
    "import numpy as np\n",
    "from requests import get\n",
    "from bs4 import BeautifulSoup\n",
    "import contractions\n",
    "from nltk.tokenize import word_tokenize\n",
    "from nltk.tokenize import sent_tokenize\n",
    "import nltk\n",
    "from unidecode import unidecode\n",
    "from nltk.sentiment.vader import SentimentIntensityAnalyzer"
   ]
  },
  {
   "cell_type": "code",
   "execution_count": 2,
   "id": "9e12435c-00a4-4ed4-a308-c43ffce6adf7",
   "metadata": {},
   "outputs": [],
   "source": [
    "### assign headers since IMDB rejects the requests without it\n",
    "headers = {'User-Agent':'Mozilla/5.0 (X11; Linux x86_64) AppleWebKit/537.36 (KHTML, like Gecko) Chrome/110.0.0.0 Safari/537.36 Edg/110.0.1587.50'}"
   ]
  },
  {
   "cell_type": "code",
   "execution_count": 3,
   "id": "e03578dd-f10b-4452-a67f-4c4426b5dbd4",
   "metadata": {},
   "outputs": [],
   "source": [
    "## load static URL list (from HW5)\n",
    "\n",
    "url_list = pd.read_csv(\"https://raw.githubusercontent.com/boneeyah/DS7337/main/mb_hw5_urls.csv\")"
   ]
  },
  {
   "cell_type": "code",
   "execution_count": 4,
   "id": "2a99cab3-62e2-47a2-82da-48d5ade31321",
   "metadata": {},
   "outputs": [],
   "source": [
    "# function goes through the table with the URLs to get each direct URL\n",
    "# Parses through the content of each URL to grab the main review\n",
    "# tokenizes the sentences of each review\n",
    "# returns a dataframe with the movie title, review id, and the setence tokens\n",
    "def grab_review(links_table):\n",
    "    text = []\n",
    "    for i in range(len(links_table)):\n",
    "        review = get(links_table.url[i],headers)\n",
    "        review_soup = BeautifulSoup(review.content, 'html.parser')\n",
    "        text.append(review_soup.find(class_='text show-more__control').text)\n",
    "    return(pd.DataFrame({'movie':links_table.movie,\n",
    "                         'review':links_table.review,\n",
    "                         'text':text                         \n",
    "                        }))"
   ]
  },
  {
   "cell_type": "code",
   "execution_count": 5,
   "id": "ae82caa2-05d1-4cae-b39b-d00ff8b4bf50",
   "metadata": {},
   "outputs": [],
   "source": [
    "review_text = grab_review(url_list)"
   ]
  },
  {
   "cell_type": "code",
   "execution_count": 6,
   "id": "dfba2acc-b41a-4c14-9098-9bb2e0b23163",
   "metadata": {},
   "outputs": [],
   "source": [
    "special = ['\\x96',':',',','-','(',')','[',']','–','/','#','``',';','.','&','\"',\"''\",'?','!','....','--','...','*','..',\"'\"]\n",
    "stop_words = nltk.corpus.stopwords.words('english') + ['movie','film','horror', 'thing','quiet','place','alien','covenant','shining','films','john','one']\n",
    "special = stop_words + [\"'s\",\"'t\",\"'d\",\"'ll\",\"'m\",\"'re\",\"'ve\",\"n't\"] + special"
   ]
  },
  {
   "cell_type": "code",
   "execution_count": 7,
   "id": "66beac2b-376a-46b5-8691-42c641975ed4",
   "metadata": {},
   "outputs": [],
   "source": [
    "def normalize_list(review_list):\n",
    "    expanded_words = [contractions.fix(term) for term in review_list] #expands contractions\n",
    "    term = [word_tokenize(term.lower()) for term in expanded_words] #tokenizes the expanded strings\n",
    "    blank_list = []\n",
    "    for i in range(len(review_list)):\n",
    "        blank_list.append(' '.join([unidecode(w) for w in term[i] if w not in special and w.isalpha()])) #removes special characters numbers, puts string back together\n",
    "    return(np.array(blank_list))"
   ]
  },
  {
   "cell_type": "code",
   "execution_count": 23,
   "id": "ebc37c16-798e-4a4a-ac5d-c71e039d7652",
   "metadata": {},
   "outputs": [],
   "source": [
    "review_text['norm_text'] = normalize_list(review_text.text)"
   ]
  },
  {
   "cell_type": "code",
   "execution_count": 51,
   "id": "f04797d6-8809-4680-ae70-0a60b3b85bef",
   "metadata": {},
   "outputs": [],
   "source": [
    "def sent_analyzer(review,threshold,verbose):\n",
    "    analyzer = SentimentIntensityAnalyzer()\n",
    "    pol_scores = []\n",
    "    comb_score = []\n",
    "    for i in range(len(review.norm_text)):\n",
    "        score_list = analyzer.polarity_scores(review.norm_text[i])\n",
    "        agg_score = score_list['compound']\n",
    "        comb_score.append(agg_score)\n",
    "        pol_scores.append('positive' if agg_score >=threshold else 'negative')\n",
    "    return(pd.DataFrame({'compound score':comb_score,'sentiment':pol_scores}))\n",
    "        \n",
    "    "
   ]
  },
  {
   "cell_type": "code",
   "execution_count": 52,
   "id": "84c3783d-483c-4a32-b875-acb72f381d06",
   "metadata": {},
   "outputs": [
    {
     "data": {
      "text/html": [
       "<div>\n",
       "<style scoped>\n",
       "    .dataframe tbody tr th:only-of-type {\n",
       "        vertical-align: middle;\n",
       "    }\n",
       "\n",
       "    .dataframe tbody tr th {\n",
       "        vertical-align: top;\n",
       "    }\n",
       "\n",
       "    .dataframe thead th {\n",
       "        text-align: right;\n",
       "    }\n",
       "</style>\n",
       "<table border=\"1\" class=\"dataframe\">\n",
       "  <thead>\n",
       "    <tr style=\"text-align: right;\">\n",
       "      <th></th>\n",
       "      <th>compound score</th>\n",
       "      <th>sentiment</th>\n",
       "    </tr>\n",
       "  </thead>\n",
       "  <tbody>\n",
       "    <tr>\n",
       "      <th>0</th>\n",
       "      <td>0.9294</td>\n",
       "      <td>positive</td>\n",
       "    </tr>\n",
       "    <tr>\n",
       "      <th>1</th>\n",
       "      <td>0.9989</td>\n",
       "      <td>positive</td>\n",
       "    </tr>\n",
       "    <tr>\n",
       "      <th>2</th>\n",
       "      <td>0.8807</td>\n",
       "      <td>positive</td>\n",
       "    </tr>\n",
       "    <tr>\n",
       "      <th>3</th>\n",
       "      <td>0.9829</td>\n",
       "      <td>positive</td>\n",
       "    </tr>\n",
       "    <tr>\n",
       "      <th>4</th>\n",
       "      <td>-0.9619</td>\n",
       "      <td>negative</td>\n",
       "    </tr>\n",
       "    <tr>\n",
       "      <th>...</th>\n",
       "      <td>...</td>\n",
       "      <td>...</td>\n",
       "    </tr>\n",
       "    <tr>\n",
       "      <th>95</th>\n",
       "      <td>0.9777</td>\n",
       "      <td>positive</td>\n",
       "    </tr>\n",
       "    <tr>\n",
       "      <th>96</th>\n",
       "      <td>0.9915</td>\n",
       "      <td>positive</td>\n",
       "    </tr>\n",
       "    <tr>\n",
       "      <th>97</th>\n",
       "      <td>0.9923</td>\n",
       "      <td>positive</td>\n",
       "    </tr>\n",
       "    <tr>\n",
       "      <th>98</th>\n",
       "      <td>0.9967</td>\n",
       "      <td>positive</td>\n",
       "    </tr>\n",
       "    <tr>\n",
       "      <th>99</th>\n",
       "      <td>0.9415</td>\n",
       "      <td>positive</td>\n",
       "    </tr>\n",
       "  </tbody>\n",
       "</table>\n",
       "<p>100 rows × 2 columns</p>\n",
       "</div>"
      ],
      "text/plain": [
       "    compound score sentiment\n",
       "0           0.9294  positive\n",
       "1           0.9989  positive\n",
       "2           0.8807  positive\n",
       "3           0.9829  positive\n",
       "4          -0.9619  negative\n",
       "..             ...       ...\n",
       "95          0.9777  positive\n",
       "96          0.9915  positive\n",
       "97          0.9923  positive\n",
       "98          0.9967  positive\n",
       "99          0.9415  positive\n",
       "\n",
       "[100 rows x 2 columns]"
      ]
     },
     "execution_count": 52,
     "metadata": {},
     "output_type": "execute_result"
    }
   ],
   "source": [
    "agg_list = sent_analyzer(review_text,.1,True)\n",
    "agg_list"
   ]
  },
  {
   "cell_type": "code",
   "execution_count": 22,
   "id": "698e349f-4c6c-452c-a412-6248640afe21",
   "metadata": {},
   "outputs": [
    {
     "data": {
      "text/plain": [
       "{'neg': 0.123, 'neu': 0.516, 'pos': 0.362, 'compound': 0.9989}"
      ]
     },
     "execution_count": 22,
     "metadata": {},
     "output_type": "execute_result"
    }
   ],
   "source": [
    "analyzer.polarity_scores(norm_text[])"
   ]
  },
  {
   "cell_type": "code",
   "execution_count": 25,
   "id": "f0a9cc93-367f-48d9-b5da-cff520b01d1e",
   "metadata": {},
   "outputs": [
    {
     "data": {
      "text/plain": [
       "100"
      ]
     },
     "execution_count": 25,
     "metadata": {},
     "output_type": "execute_result"
    }
   ],
   "source": [
    "len(review_text.norm_text)"
   ]
  }
 ],
 "metadata": {
  "kernelspec": {
   "display_name": "Python 3 (ipykernel)",
   "language": "python",
   "name": "python3"
  },
  "language_info": {
   "codemirror_mode": {
    "name": "ipython",
    "version": 3
   },
   "file_extension": ".py",
   "mimetype": "text/x-python",
   "name": "python",
   "nbconvert_exporter": "python",
   "pygments_lexer": "ipython3",
   "version": "3.9.15"
  }
 },
 "nbformat": 4,
 "nbformat_minor": 5
}
