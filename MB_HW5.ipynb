{
 "cells": [
  {
   "cell_type": "markdown",
   "id": "fd5ce193-5599-40ac-a5f9-fd127322d1a5",
   "metadata": {},
   "source": [
    "# NLP - HW5\n",
    "### Miguel Bonilla"
   ]
  },
  {
   "cell_type": "code",
   "execution_count": 89,
   "id": "67b0e07f-2cae-4baf-934e-199e6207b1ec",
   "metadata": {},
   "outputs": [],
   "source": [
    "from bs4 import BeautifulSoup\n",
    "from requests import get\n",
    "import pandas as pd\n",
    "from nltk.tokenize import word_tokenize\n",
    "from nltk.tokenize import sent_tokenize\n",
    "import nltk, re,pprint\n",
    "from pattern.en import parsetree\n",
    "import pattern.en"
   ]
  },
  {
   "cell_type": "markdown",
   "id": "95d4bc99-e21d-47d7-8133-9aba61f9fed9",
   "metadata": {},
   "source": [
    "- [1. Compile a List of Reviews](#1.-Compile-a-List-of-Reviews)\n",
    "- [2. Extract Noun Phrase Chunks](#2.-Extract-Noun-Phrase-Chunks)\n",
    "- [3. Output All the Chunks](#3.-Output-All-the-Chunks)"
   ]
  },
  {
   "cell_type": "markdown",
   "id": "4bcae084-387a-4494-ae37-8b973bb494f5",
   "metadata": {},
   "source": [
    "1. Compile a list of static links (permalinks) to individual user movie reviews from one particular  website. This will be your working dataset for this assignment, as well as for assignments 7 and 8.   \n",
    "a. It does not matter if you use a crawler or if you manually collect the links, but you will \n",
    "need at least 100 movie review links. Note that, as of this writing, the robots.txt file of \n",
    "IMDB.com allows the crawling of user reviews.  \n",
    "b. Each link should be to a web page that has only one user review of only one movie, e.g., \n",
    "the user review permalinks on the IMDB site.  \n",
    "c. Choose reviews of movies that are all in the same genre, e.g., sci-fi, mystery, romance, \n",
    "superhero, etc.    \n",
    "d. Make sure your collection includes reviews of several movies in your chosen genre and \n",
    "that it includes a mix of negative and positive reviews.  \n",
    "2. Extract noun phrase (NP) chunks from your reviews using the following procedure:  \n",
    "a. In Python, use BeautifulSoup to grab the main review text from each link.  \n",
    "b. Next run each review text through a tokenizer, and then try to NP-chunk it with a \n",
    "shallow parser.  \n",
    "c. You probably will have too many unknown words, owing to proper names of characters, \n",
    "actors, and so on that are not in your working dictionary. Make sure the main names \n",
    "that are relevant to the movies in your collection of reviews are added to the working \n",
    "lexicon, and then run the NP chunker again.  \n",
    "3. Output all the chunks in a single list for each review, and submit that output for this assignment.   \n",
    "Also submit a brief written summary of what you did (describe your selection of genre, your \n",
    "source of reviews, how many you collected, and by what means)."
   ]
  },
  {
   "cell_type": "markdown",
   "id": "7641bf79-6838-4745-b831-bfe063b0a62c",
   "metadata": {},
   "source": [
    "### 1. Compile a List of Reviews"
   ]
  },
  {
   "cell_type": "markdown",
   "id": "1527e5cd-88a1-466b-bd2f-9ed25d45db47",
   "metadata": {},
   "source": [
    "Using BeautifulSoup to crawl through the featured 25 reviews for each of the films, for a total of 100 reviews. The four movies are: \"The Thing (1982)\", \"A Quiet Place\", \"Alien Covenant\", and \"The Shining\". Each of these has a mix of positive and negative reviews, though the distribution of these depends on the 'quality' of the film. "
   ]
  },
  {
   "cell_type": "code",
   "execution_count": 2,
   "id": "f273cf07-89ee-4319-bfa5-1820eda61b59",
   "metadata": {},
   "outputs": [],
   "source": [
    "### assign headers since IMDB rejects the requests without it\n",
    "headers = {'User-Agent':'Mozilla/5.0 (X11; Linux x86_64) AppleWebKit/537.36 (KHTML, like Gecko) Chrome/110.0.0.0 Safari/537.36 Edg/110.0.1587.50'}"
   ]
  },
  {
   "cell_type": "code",
   "execution_count": 3,
   "id": "e86e5c8a-0039-49fe-83d4-7d979c52e0a9",
   "metadata": {},
   "outputs": [],
   "source": [
    "## The Thing (1982)\n",
    "url1 = 'https://www.imdb.com/title/tt0084787/reviews/?ref_=tt_ov_rt'\n",
    "## A Quiet Place\n",
    "url2 = 'https://www.imdb.com/title/tt6644200/reviews/?ref_=adv_li_tt'\n",
    "## Alien Covenant\n",
    "url3 = 'https://www.imdb.com/title/tt2316204/reviews/?ref_=adv_li_tt'\n",
    "## The Shining\n",
    "url4 = 'https://www.imdb.com/title/tt0081505/reviews/?ref_=fn_al_tt_1'\n",
    "\n",
    "#movie list\n",
    "movies = ['The_Thing','A_Quiet_Place','Alien_Covenant','The_Shining']\n",
    "#url list\n",
    "urls = [url1, url2, url3, url4]"
   ]
  },
  {
   "cell_type": "code",
   "execution_count": 4,
   "id": "6745c94b-5790-4d68-a04e-d5fc3ce28450",
   "metadata": {},
   "outputs": [],
   "source": [
    "def get_links(movielist,urllist):\n",
    "    refs = []\n",
    "    title = []\n",
    "    index = []\n",
    "    for i in range(len(movielist)):\n",
    "        movie = get(urllist[i],headers=headers)\n",
    "        movie_soup = BeautifulSoup(movie.content,'html.parser')\n",
    "        container = movie_soup.find_all(class_='title')\n",
    "        for j in range(len(container)):\n",
    "            refs.append('https://www.imdb.com'+ container[j]['href'])\n",
    "            title.append(movielist[i])\n",
    "            index.append('{}_{}'.format(movielist[i],j))\n",
    "    return(pd.DataFrame({'movie':title,\n",
    "                         'url':refs,\n",
    "                         'review':index\n",
    "                        }))"
   ]
  },
  {
   "cell_type": "code",
   "execution_count": 5,
   "id": "525b8625-d059-47f7-a117-5c01b6e7e707",
   "metadata": {},
   "outputs": [
    {
     "data": {
      "text/html": [
       "<div>\n",
       "<style scoped>\n",
       "    .dataframe tbody tr th:only-of-type {\n",
       "        vertical-align: middle;\n",
       "    }\n",
       "\n",
       "    .dataframe tbody tr th {\n",
       "        vertical-align: top;\n",
       "    }\n",
       "\n",
       "    .dataframe thead th {\n",
       "        text-align: right;\n",
       "    }\n",
       "</style>\n",
       "<table border=\"1\" class=\"dataframe\">\n",
       "  <thead>\n",
       "    <tr style=\"text-align: right;\">\n",
       "      <th></th>\n",
       "      <th>movie</th>\n",
       "      <th>url</th>\n",
       "      <th>review</th>\n",
       "    </tr>\n",
       "  </thead>\n",
       "  <tbody>\n",
       "    <tr>\n",
       "      <th>0</th>\n",
       "      <td>The_Thing</td>\n",
       "      <td>https://www.imdb.com/review/rw0197822/?ref_=tt...</td>\n",
       "      <td>The_Thing_0</td>\n",
       "    </tr>\n",
       "    <tr>\n",
       "      <th>1</th>\n",
       "      <td>The_Thing</td>\n",
       "      <td>https://www.imdb.com/review/rw3346521/?ref_=tt...</td>\n",
       "      <td>The_Thing_1</td>\n",
       "    </tr>\n",
       "    <tr>\n",
       "      <th>2</th>\n",
       "      <td>The_Thing</td>\n",
       "      <td>https://www.imdb.com/review/rw1833451/?ref_=tt...</td>\n",
       "      <td>The_Thing_2</td>\n",
       "    </tr>\n",
       "    <tr>\n",
       "      <th>3</th>\n",
       "      <td>The_Thing</td>\n",
       "      <td>https://www.imdb.com/review/rw6379386/?ref_=tt...</td>\n",
       "      <td>The_Thing_3</td>\n",
       "    </tr>\n",
       "    <tr>\n",
       "      <th>4</th>\n",
       "      <td>The_Thing</td>\n",
       "      <td>https://www.imdb.com/review/rw0197779/?ref_=tt...</td>\n",
       "      <td>The_Thing_4</td>\n",
       "    </tr>\n",
       "    <tr>\n",
       "      <th>...</th>\n",
       "      <td>...</td>\n",
       "      <td>...</td>\n",
       "      <td>...</td>\n",
       "    </tr>\n",
       "    <tr>\n",
       "      <th>95</th>\n",
       "      <td>The_Shining</td>\n",
       "      <td>https://www.imdb.com/review/rw0179869/?ref_=tt...</td>\n",
       "      <td>The_Shining_20</td>\n",
       "    </tr>\n",
       "    <tr>\n",
       "      <th>96</th>\n",
       "      <td>The_Shining</td>\n",
       "      <td>https://www.imdb.com/review/rw7669173/?ref_=tt...</td>\n",
       "      <td>The_Shining_21</td>\n",
       "    </tr>\n",
       "    <tr>\n",
       "      <th>97</th>\n",
       "      <td>The_Shining</td>\n",
       "      <td>https://www.imdb.com/review/rw0180168/?ref_=tt...</td>\n",
       "      <td>The_Shining_22</td>\n",
       "    </tr>\n",
       "    <tr>\n",
       "      <th>98</th>\n",
       "      <td>The_Shining</td>\n",
       "      <td>https://www.imdb.com/review/rw2504629/?ref_=tt...</td>\n",
       "      <td>The_Shining_23</td>\n",
       "    </tr>\n",
       "    <tr>\n",
       "      <th>99</th>\n",
       "      <td>The_Shining</td>\n",
       "      <td>https://www.imdb.com/review/rw2873010/?ref_=tt...</td>\n",
       "      <td>The_Shining_24</td>\n",
       "    </tr>\n",
       "  </tbody>\n",
       "</table>\n",
       "<p>100 rows × 3 columns</p>\n",
       "</div>"
      ],
      "text/plain": [
       "          movie                                                url  \\\n",
       "0     The_Thing  https://www.imdb.com/review/rw0197822/?ref_=tt...   \n",
       "1     The_Thing  https://www.imdb.com/review/rw3346521/?ref_=tt...   \n",
       "2     The_Thing  https://www.imdb.com/review/rw1833451/?ref_=tt...   \n",
       "3     The_Thing  https://www.imdb.com/review/rw6379386/?ref_=tt...   \n",
       "4     The_Thing  https://www.imdb.com/review/rw0197779/?ref_=tt...   \n",
       "..          ...                                                ...   \n",
       "95  The_Shining  https://www.imdb.com/review/rw0179869/?ref_=tt...   \n",
       "96  The_Shining  https://www.imdb.com/review/rw7669173/?ref_=tt...   \n",
       "97  The_Shining  https://www.imdb.com/review/rw0180168/?ref_=tt...   \n",
       "98  The_Shining  https://www.imdb.com/review/rw2504629/?ref_=tt...   \n",
       "99  The_Shining  https://www.imdb.com/review/rw2873010/?ref_=tt...   \n",
       "\n",
       "            review  \n",
       "0      The_Thing_0  \n",
       "1      The_Thing_1  \n",
       "2      The_Thing_2  \n",
       "3      The_Thing_3  \n",
       "4      The_Thing_4  \n",
       "..             ...  \n",
       "95  The_Shining_20  \n",
       "96  The_Shining_21  \n",
       "97  The_Shining_22  \n",
       "98  The_Shining_23  \n",
       "99  The_Shining_24  \n",
       "\n",
       "[100 rows x 3 columns]"
      ]
     },
     "execution_count": 5,
     "metadata": {},
     "output_type": "execute_result"
    }
   ],
   "source": [
    "review_links = get_links(movies,urls)\n",
    "review_links"
   ]
  },
  {
   "cell_type": "code",
   "execution_count": 6,
   "id": "4e1e8e9a-00d3-4be9-9b24-6516e1cf9f3b",
   "metadata": {},
   "outputs": [
    {
     "data": {
      "text/plain": [
       "'https://www.imdb.com/review/rw3346521/?ref_=tt_urv'"
      ]
     },
     "execution_count": 6,
     "metadata": {},
     "output_type": "execute_result"
    }
   ],
   "source": [
    "review_links.url[1]"
   ]
  },
  {
   "cell_type": "markdown",
   "id": "db073a5a-8195-47e8-8430-215b0f35c243",
   "metadata": {},
   "source": [
    "### 2. Extract Noun Phrase Chunks"
   ]
  },
  {
   "cell_type": "markdown",
   "id": "d5d3e815-dc50-4573-968b-258de01278d3",
   "metadata": {},
   "source": [
    "#### a. Grab the review text from each link"
   ]
  },
  {
   "cell_type": "code",
   "execution_count": 24,
   "id": "c650d443-3e42-4677-a742-6aab31c173b2",
   "metadata": {},
   "outputs": [],
   "source": [
    "def grab_review(links_table):\n",
    "    tokens = []\n",
    "    for i in range(len(links_table)):\n",
    "        review = get(links_table.url[i],headers)\n",
    "        review_soup = BeautifulSoup(review.content, 'html.parser')\n",
    "        sent = []\n",
    "        for string in review_soup.find(class_='text show-more__control').stripped_strings:\n",
    "            sent.append(sent_tokenize(string))\n",
    "        tokens.append([item for sublist in sent for item in sublist])\n",
    "    return(pd.DataFrame({'movie':links_table.movie,\n",
    "                         'review':links_table.review,\n",
    "                         'tokens':tokens                         \n",
    "                        }))"
   ]
  },
  {
   "cell_type": "code",
   "execution_count": 25,
   "id": "fd670b79-5c1f-4f83-b999-d651f984f15e",
   "metadata": {},
   "outputs": [],
   "source": [
    "tokens = grab_review(review_links)"
   ]
  },
  {
   "cell_type": "code",
   "execution_count": 26,
   "id": "35106de2-f20d-4b8b-b398-acb2e73c99d4",
   "metadata": {},
   "outputs": [
    {
     "data": {
      "text/html": [
       "<div>\n",
       "<style scoped>\n",
       "    .dataframe tbody tr th:only-of-type {\n",
       "        vertical-align: middle;\n",
       "    }\n",
       "\n",
       "    .dataframe tbody tr th {\n",
       "        vertical-align: top;\n",
       "    }\n",
       "\n",
       "    .dataframe thead th {\n",
       "        text-align: right;\n",
       "    }\n",
       "</style>\n",
       "<table border=\"1\" class=\"dataframe\">\n",
       "  <thead>\n",
       "    <tr style=\"text-align: right;\">\n",
       "      <th></th>\n",
       "      <th>movie</th>\n",
       "      <th>review</th>\n",
       "      <th>tokens</th>\n",
       "    </tr>\n",
       "  </thead>\n",
       "  <tbody>\n",
       "    <tr>\n",
       "      <th>0</th>\n",
       "      <td>The_Thing</td>\n",
       "      <td>The_Thing_0</td>\n",
       "      <td>[\"I know I'm human., And if you were all these...</td>\n",
       "    </tr>\n",
       "    <tr>\n",
       "      <th>1</th>\n",
       "      <td>The_Thing</td>\n",
       "      <td>The_Thing_1</td>\n",
       "      <td>[A classic film., John Carpenter's \"The Thing\"...</td>\n",
       "    </tr>\n",
       "    <tr>\n",
       "      <th>2</th>\n",
       "      <td>The_Thing</td>\n",
       "      <td>The_Thing_2</td>\n",
       "      <td>[John Carpenter shows how much he loves the 19...</td>\n",
       "    </tr>\n",
       "    <tr>\n",
       "      <th>3</th>\n",
       "      <td>The_Thing</td>\n",
       "      <td>The_Thing_3</td>\n",
       "      <td>[\"The ultimate in alien terror,\" it says., It'...</td>\n",
       "    </tr>\n",
       "    <tr>\n",
       "      <th>4</th>\n",
       "      <td>The_Thing</td>\n",
       "      <td>The_Thing_4</td>\n",
       "      <td>[Remake of the classic 1951 \"The Thing From An...</td>\n",
       "    </tr>\n",
       "    <tr>\n",
       "      <th>...</th>\n",
       "      <td>...</td>\n",
       "      <td>...</td>\n",
       "      <td>...</td>\n",
       "    </tr>\n",
       "    <tr>\n",
       "      <th>95</th>\n",
       "      <td>The_Shining</td>\n",
       "      <td>The_Shining_20</td>\n",
       "      <td>[Chilling, majestic piece of cinematic fright,...</td>\n",
       "    </tr>\n",
       "    <tr>\n",
       "      <th>96</th>\n",
       "      <td>The_Shining</td>\n",
       "      <td>The_Shining_21</td>\n",
       "      <td>[The Shining is directed by Stanley Kubrick an...</td>\n",
       "    </tr>\n",
       "    <tr>\n",
       "      <th>97</th>\n",
       "      <td>The_Shining</td>\n",
       "      <td>The_Shining_22</td>\n",
       "      <td>[*!, !- SPOILERS - !!, *, Before I begin this,...</td>\n",
       "    </tr>\n",
       "    <tr>\n",
       "      <th>98</th>\n",
       "      <td>The_Shining</td>\n",
       "      <td>The_Shining_23</td>\n",
       "      <td>[This film is currently the 48th highest rated...</td>\n",
       "    </tr>\n",
       "    <tr>\n",
       "      <th>99</th>\n",
       "      <td>The_Shining</td>\n",
       "      <td>The_Shining_24</td>\n",
       "      <td>[This is probably the most overrated movie of ...</td>\n",
       "    </tr>\n",
       "  </tbody>\n",
       "</table>\n",
       "<p>100 rows × 3 columns</p>\n",
       "</div>"
      ],
      "text/plain": [
       "          movie          review  \\\n",
       "0     The_Thing     The_Thing_0   \n",
       "1     The_Thing     The_Thing_1   \n",
       "2     The_Thing     The_Thing_2   \n",
       "3     The_Thing     The_Thing_3   \n",
       "4     The_Thing     The_Thing_4   \n",
       "..          ...             ...   \n",
       "95  The_Shining  The_Shining_20   \n",
       "96  The_Shining  The_Shining_21   \n",
       "97  The_Shining  The_Shining_22   \n",
       "98  The_Shining  The_Shining_23   \n",
       "99  The_Shining  The_Shining_24   \n",
       "\n",
       "                                               tokens  \n",
       "0   [\"I know I'm human., And if you were all these...  \n",
       "1   [A classic film., John Carpenter's \"The Thing\"...  \n",
       "2   [John Carpenter shows how much he loves the 19...  \n",
       "3   [\"The ultimate in alien terror,\" it says., It'...  \n",
       "4   [Remake of the classic 1951 \"The Thing From An...  \n",
       "..                                                ...  \n",
       "95  [Chilling, majestic piece of cinematic fright,...  \n",
       "96  [The Shining is directed by Stanley Kubrick an...  \n",
       "97  [*!, !- SPOILERS - !!, *, Before I begin this,...  \n",
       "98  [This film is currently the 48th highest rated...  \n",
       "99  [This is probably the most overrated movie of ...  \n",
       "\n",
       "[100 rows x 3 columns]"
      ]
     },
     "execution_count": 26,
     "metadata": {},
     "output_type": "execute_result"
    }
   ],
   "source": [
    "tokens"
   ]
  },
  {
   "cell_type": "markdown",
   "id": "cd104781-2aea-4a91-b777-9ae28c5a1a6d",
   "metadata": {},
   "source": [
    "#### b. NP Chunking"
   ]
  },
  {
   "cell_type": "markdown",
   "id": "ba534345-eb1f-404d-aab5-a7645ab4877c",
   "metadata": {},
   "source": [
    "Define function for tokenizing and pos tagging each word in each of the reviews."
   ]
  },
  {
   "cell_type": "code",
   "execution_count": 118,
   "id": "a0781f12-29aa-4fc5-bf69-a561118552ee",
   "metadata": {},
   "outputs": [],
   "source": [
    "unrecognized = '\\x96' #unrecognized character which shows in multiple reviews, removing it so as to not have it tagged"
   ]
  },
  {
   "cell_type": "code",
   "execution_count": 190,
   "id": "a7c10b41-6133-4f2c-83a7-c4fcfd6d4ebd",
   "metadata": {},
   "outputs": [],
   "source": [
    "def tagger(review_tokens):\n",
    "    tags = []\n",
    "    for i in range(len(review_tokens.tokens)):\n",
    "        words_review = []\n",
    "        for j in review_tokens.tokens[i]:\n",
    "            words_review.append(nltk.pos_tag([w for w in word_tokenize(j) if w not in unrecognized]))\n",
    "        tags.append([item for sublist in words_review for item in sublist])\n",
    "    return(pd.DataFrame({'tags':tags}))"
   ]
  },
  {
   "cell_type": "code",
   "execution_count": 120,
   "id": "64e466cd-0997-48aa-bc6b-5f197a1f454d",
   "metadata": {},
   "outputs": [],
   "source": [
    "tokens['tags'] = tagger(tokens)"
   ]
  },
  {
   "cell_type": "code",
   "execution_count": 172,
   "id": "0d19049f-27e8-478f-be24-21fb57a7b1c1",
   "metadata": {},
   "outputs": [],
   "source": [
    "## grammar from nltk.org/book, defines NP-chunks as a Determinant or Possessive Pronoun followed by either an adjective (or multiple adjectives) and a noun, or one or more proper nouns\n",
    "grammar = r\"\"\"\n",
    "  NP: {<DT|PP\\$>?<JJ>*<NN>}   # chunk determiner/possessive, adjectives and noun\n",
    "      {<DT>*<NNP>+}              # chunk sequences of proper nouns\n",
    "\"\"\"\n",
    "cp = nltk.RegexpParser(grammar)"
   ]
  },
  {
   "cell_type": "code",
   "execution_count": 173,
   "id": "6ed2d7ff-35b9-40fd-b797-bdc2e5e5ee3f",
   "metadata": {},
   "outputs": [],
   "source": [
    "### define function for NP chunking the previously pos_tagged tokens for each of the reviews on our table\n",
    "def chunker(review_tokens):\n",
    "    chunks = []\n",
    "    review_id = []\n",
    "    for i in range(len(review_tokens)):\n",
    "        tree = cp.parse(review_tokens.tags[i])\n",
    "        for subtree in tree.subtrees():\n",
    "            if subtree.label() == 'NP':\n",
    "                chunks.append(subtree.leaves())\n",
    "                review_id.append(review_tokens.review[i])\n",
    "    return(pd.DataFrame({'NP-chunks':chunks},index=review_id))"
   ]
  },
  {
   "cell_type": "code",
   "execution_count": 174,
   "id": "0de7fcad-0d14-428a-9116-dd8f72b9507d",
   "metadata": {},
   "outputs": [],
   "source": [
    "df = chunker(tokens)\n",
    "len(df)\n",
    "df.to_csv('npchunks.csv')"
   ]
  },
  {
   "cell_type": "code",
   "execution_count": 180,
   "id": "9770f15d-4fbe-4fbc-870b-6274118fa569",
   "metadata": {},
   "outputs": [
    {
     "name": "stdout",
     "output_type": "stream",
     "text": [
      "(NP Antarctica/NNP)\n",
      "(NP winter/NN)\n",
      "(NP The/DT team/NN)\n",
      "(NP an/DT American/JJ research/NN)\n",
      "(NP base/NN)\n",
      "(NP get/NN)\n",
      "(NP a/DT couple/NN)\n",
      "(NP a/DT dog/NN)\n",
      "(NP a/DT helicopter/NN)\n",
      "(NP nothing/NN)\n",
      "(NP a/DT dog/NN)\n",
      "(NP a/DT couple/NN)\n",
      "(NP the/DT beginning/NN)\n",
      "(NP horror/thriller/NN)\n",
      "(NP film/NN)\n",
      "(NP the/DT end/NN)\n",
      "(NP the/DT tense/NN)\n",
      "(NP paranoid/JJ mood/NN)\n",
      "(NP Helpless/NNP)\n",
      "(NP no-mans/JJ land/NN)\n",
      "(NP Ennio/NNP Morricone/NNP)\n",
      "(NP a/DT Razzie/NNP Award/NNP)\n",
      "(NP score/NN)\n",
      "(NP score/NN)\n",
      "(NP the/DT right/JJ mood/NN)\n",
      "(NP The/DT acting/NN)\n",
      "(NP performance/NN)\n",
      "(NP the/DT dog/NN)\n",
      "(NP Russell/NNP)\n",
      "(NP nothing/NN)\n",
      "(NP Rob/NNP Bottin/NNP)\n",
      "(NP a/DT great/JJ job/NN)\n",
      "(NP witch/NN)\n",
      "(NP today/NN)\n",
      "(NP a/DT milestone/NN)\n",
      "(NP makeup/NN)\n",
      "(NP The/DT movie/NN)\n",
      "(NP a/DT big/JJ response/NN)\n",
      "(NP the/DT big/JJ screen/NN)\n",
      "(NP the/DT time/NN)\n",
      "(NP fact/NN)\n",
      "(NP an/DT unknown/JJ movie/NN)\n",
      "(NP Nobody/NN)\n",
      "(NP the/DT movie/NN)\n",
      "(NP a/DT cult/NN)\n",
      "(NP film/NN)\n",
      "(NP video/NN)\n",
      "(NP DVD/NNP)\n",
      "(NP a/DT long/JJ time/NN)\n",
      "(NP the/DT haircut/NN)\n",
      "(NP the/DT movie/NN)\n",
      "(NP date/NN)\n",
      "(NP This/DT movie/NN)\n",
      "(NP The/DT movie/NN)\n",
      "(NP favorite/NN)\n",
      "(NP the/DT first/JJ time/NN)\n",
      "(NP the/DT only/JJ thing/NN)\n",
      "(NP this/DT movie/NN)\n"
     ]
    }
   ],
   "source": [
    "tree = cp.parse(tokens.tags[6])\n",
    "for subtree in tree.subtrees():\n",
    "    if subtree.label() == 'NP':\n",
    "        print(subtree)"
   ]
  },
  {
   "cell_type": "code",
   "execution_count": 175,
   "id": "3f9cba48-f852-4abe-8769-01e878f025a4",
   "metadata": {},
   "outputs": [
    {
     "data": {
      "text/plain": [
       "7235"
      ]
     },
     "execution_count": 175,
     "metadata": {},
     "output_type": "execute_result"
    }
   ],
   "source": [
    "len(df)"
   ]
  },
  {
   "cell_type": "code",
   "execution_count": 167,
   "id": "a76908d2-5e81-49e6-bc7d-02a133cb5051",
   "metadata": {},
   "outputs": [
    {
     "data": {
      "text/plain": [
       "7235"
      ]
     },
     "execution_count": 167,
     "metadata": {},
     "output_type": "execute_result"
    }
   ],
   "source": [
    "len(df)"
   ]
  },
  {
   "cell_type": "markdown",
   "id": "703b7c8c-e51c-4152-a569-350d9dc558e2",
   "metadata": {},
   "source": [
    "#### c. Add to Lexicon"
   ]
  },
  {
   "cell_type": "code",
   "execution_count": 209,
   "id": "6f254c0e-e096-452e-881f-19d37fa188c4",
   "metadata": {},
   "outputs": [],
   "source": [
    "tagger2 = nltk.tag.PerceptronTagger(load=True)\n",
    "tagger2.train([[('the','DT'), ('shining','NNP')],\n",
    "              [('alien','NNP'), ('covenant','NNP')],\n",
    "              [('the','DT'),('thing','NNP')]\n",
    "             ])"
   ]
  },
  {
   "cell_type": "code",
   "execution_count": 201,
   "id": "8e5f8d91-af4b-427c-ae0a-f8af82f95a3a",
   "metadata": {},
   "outputs": [],
   "source": [
    "def tagger1(review_tokens):\n",
    "    tags = []\n",
    "    for i in range(len(review_tokens.tokens)):\n",
    "        words_review = []\n",
    "        for j in review_tokens.tokens[i]:\n",
    "            words_review.append(tagger2.tag([w for w in word_tokenize(j) if w not in unrecognized]))\n",
    "        tags.append([item for sublist in words_review for item in sublist])\n",
    "    return(pd.DataFrame({'tags':tags}))"
   ]
  },
  {
   "cell_type": "code",
   "execution_count": 210,
   "id": "58459bf8-a405-4a1e-9818-81079d4ecef5",
   "metadata": {},
   "outputs": [
    {
     "data": {
      "text/plain": [
       "[('the', 'DT'), ('thing', 'NN')]"
      ]
     },
     "execution_count": 210,
     "metadata": {},
     "output_type": "execute_result"
    }
   ],
   "source": [
    "tagger2.tag(['the','thing'])"
   ]
  },
  {
   "cell_type": "code",
   "execution_count": 202,
   "id": "a2867462-4e8c-4620-8d0e-0b160c861541",
   "metadata": {},
   "outputs": [],
   "source": [
    "tokens['tags'] = tagger1(tokens)"
   ]
  },
  {
   "cell_type": "code",
   "execution_count": 203,
   "id": "4c17b1d4-78d1-4a3f-8ff9-994a7bc57009",
   "metadata": {},
   "outputs": [
    {
     "data": {
      "text/plain": [
       "7120"
      ]
     },
     "execution_count": 203,
     "metadata": {},
     "output_type": "execute_result"
    }
   ],
   "source": [
    "df2 = chunker(tokens)\n",
    "len(df2)"
   ]
  },
  {
   "cell_type": "code",
   "execution_count": 204,
   "id": "1fcff240-f5a1-47d4-b376-ffb48889c099",
   "metadata": {},
   "outputs": [
    {
     "name": "stdout",
     "output_type": "stream",
     "text": [
      "(NP Antarctica/NNP)\n",
      "(NP winter/NN)\n",
      "(NP The/DT team/NN)\n",
      "(NP an/DT American/JJ research/NN)\n",
      "(NP base/NN)\n",
      "(NP a/DT couple/NN)\n",
      "(NP a/DT dog/NN)\n",
      "(NP a/DT helicopter/NN)\n",
      "(NP the/DT Norwegians/NNP)\n",
      "(NP nothing/NN)\n",
      "(NP a/DT dog/NN)\n",
      "(NP a/DT couple/NN)\n",
      "(NP the/DT beginning/NN)\n",
      "(NP horror/thriller/NN)\n",
      "(NP film/NN)\n",
      "(NP the/DT end/NN)\n",
      "(NP the/DT tense/NN)\n",
      "(NP paranoid/JJ mood/NN)\n",
      "(NP Helpless/NNP)\n",
      "(NP no-mans/JJ land/NN)\n",
      "(NP Ennio/NNP Morricone/NNP)\n",
      "(NP a/DT Razzie/NNP Award/NNP)\n",
      "(NP score/NN)\n",
      "(NP score/NN)\n",
      "(NP the/DT right/JJ mood/NN)\n",
      "(NP The/DT acting/NN)\n",
      "(NP performance/NN)\n",
      "(NP the/DT dog/NN)\n",
      "(NP Russell/NNP)\n",
      "(NP nothing/NN)\n",
      "(NP Well/NNP)\n",
      "(NP Bodyparts/NNP)\n",
      "(NP Rob/NNP Bottin/NNP)\n",
      "(NP a/DT great/JJ job/NN)\n",
      "(NP witch/NN)\n",
      "(NP today/NN)\n",
      "(NP a/DT milestone/NN)\n",
      "(NP makeup/NN)\n",
      "(NP The/DT movie/NN)\n",
      "(NP a/DT big/JJ response/NN)\n",
      "(NP the/DT big/JJ screen/NN)\n",
      "(NP the/DT time/NN)\n",
      "(NP fact/NN)\n",
      "(NP an/DT unknown/JJ movie/NN)\n",
      "(NP Nobody/NNP)\n",
      "(NP the/DT movie/NN)\n",
      "(NP a/DT cult/NN)\n",
      "(NP film/NN)\n",
      "(NP video/NN)\n",
      "(NP DVD/NNP)\n",
      "(NP Twenty/NNP)\n",
      "(NP a/DT long/JJ time/NN)\n",
      "(NP the/DT haircut/NN)\n",
      "(NP the/DT movie/NN)\n",
      "(NP date/NN)\n",
      "(NP This/DT movie/NN)\n",
      "(NP The/DT movie/NN)\n",
      "(NP the/DT first/JJ time/NN)\n",
      "(NP the/DT only/JJ thing/NN)\n",
      "(NP this/DT movie/NN)\n",
      "(NP MacReady/NNP)\n"
     ]
    }
   ],
   "source": [
    "tree = cp.parse(tokens.tags[6])\n",
    "for subtree in tree.subtrees():\n",
    "    if subtree.label() == 'NP':\n",
    "        print(subtree)"
   ]
  },
  {
   "cell_type": "code",
   "execution_count": 186,
   "id": "6f464275-f838-4cc1-83c9-904ad579303b",
   "metadata": {},
   "outputs": [
    {
     "data": {
      "text/plain": [
       "[('thing', 'NNP')]"
      ]
     },
     "execution_count": 186,
     "metadata": {},
     "output_type": "execute_result"
    }
   ],
   "source": [
    "tagger.tag(['thing'])"
   ]
  },
  {
   "cell_type": "code",
   "execution_count": 184,
   "id": "5fdaa855-4e2c-4f00-a140-b116d1202ea0",
   "metadata": {},
   "outputs": [
    {
     "data": {
      "text/plain": [
       "['Antarctica, winter 1982.',\n",
       " 'The team on an American research base get surprised by a couple of mad Norwegians who is chasing a dog with a helicopter, trying to kill it.',\n",
       " 'All the Norwegians are killed and the Americans are left with nothing, but a dog, a couple of bodies and questions.',\n",
       " \"That's the beginning of the greatest horror/thriller film I've ever seen.\",\n",
       " 'From the very beginning all to the end you feel the tense, paranoid mood.',\n",
       " 'Helpless and alone out in no-mans land.',\n",
       " 'Ennio Morricone was nominated for a Razzie Award for his score.',\n",
       " \"Why I don't know 'cause as far as I can see his score is simple, creepy and very good.\",\n",
       " 'It really gets you in the right mood.',\n",
       " 'The acting is great!',\n",
       " \"The best performance is probably given by the dog who's just amazing.\",\n",
       " 'As for Russell and the others on two legs I can say nothing less.',\n",
       " 'You may think 1982 and special effects are not the most impressive?',\n",
       " 'Well, think again!',\n",
       " \"You haven't seen it all until you've seen this.\",\n",
       " 'Bodyparts falling off and creatures changing forms...',\n",
       " 'Rob Bottin has done a great job witch today stands as a milestone is special effects makeup.',\n",
       " \"The movie didn't get a big response when it first hit the big screen due to other alien films at the time and so it's not very well known.\",\n",
       " 'In fact you can almost consider it an unknown movie.',\n",
       " \"Nobody I've asked have heard of it.\",\n",
       " 'However the movie has managed to survive for over twenty years as a cult film on video and DVD.',\n",
       " 'Twenty years is a long time and except for the haircut the movie is still pretty much up to date.',\n",
       " 'This movie is to be considered a classic.',\n",
       " 'The movie is without doubt one of my, if not my favorite.',\n",
       " \"I've seen it several times, but it's just as good as the first time I saw it.\",\n",
       " \"As a Norwegian the only thing I don't like about this movie is that MacReady keeps calling the Norwegians swedes!\"]"
      ]
     },
     "execution_count": 184,
     "metadata": {},
     "output_type": "execute_result"
    }
   ],
   "source": [
    "for j in review_tokens.tokens[i]:\n",
    "            words_review.append(nltk.pos_tag([w for w in word_tokenize(j) if w not in unrecognized]))"
   ]
  },
  {
   "cell_type": "code",
   "execution_count": null,
   "id": "e05df3ff-4e41-43ad-ba22-e8cd3c7267d6",
   "metadata": {},
   "outputs": [],
   "source": [
    "words_review.append(nltk.pos_tag([w for w in word_tokenize(j) if w not in unrecognized]))"
   ]
  },
  {
   "cell_type": "markdown",
   "id": "aff75405-21a1-4c6c-b91e-f08ca23cabce",
   "metadata": {},
   "source": [
    "### 3. Output All the Chunks"
   ]
  },
  {
   "cell_type": "code",
   "execution_count": 88,
   "id": "5a5d5664-fbd6-46b6-b012-ff03d7764700",
   "metadata": {},
   "outputs": [
    {
     "data": {
      "text/plain": [
       "[('This', 'DT'), ('thing', 'NN')]"
      ]
     },
     "execution_count": 88,
     "metadata": {},
     "output_type": "execute_result"
    }
   ],
   "source": [
    "tree[32].leaves()"
   ]
  },
  {
   "cell_type": "code",
   "execution_count": null,
   "id": "781eef1a-62f4-4fca-bde3-27fe50ba4567",
   "metadata": {},
   "outputs": [],
   "source": []
  },
  {
   "cell_type": "code",
   "execution_count": null,
   "id": "76e886f5-c91f-403e-8a10-6e9a7bb38b9b",
   "metadata": {},
   "outputs": [],
   "source": [
    "print('hi my name is {}'.format('Miguel'))"
   ]
  },
  {
   "cell_type": "code",
   "execution_count": null,
   "id": "46289d19-7205-40ab-b010-fe1f42800e9b",
   "metadata": {},
   "outputs": [],
   "source": [
    "print('{}_{}'.format('Miguel','Bonilla'))"
   ]
  },
  {
   "cell_type": "code",
   "execution_count": null,
   "id": "933ac353-4f33-4bf2-8daf-b8704b8d6e51",
   "metadata": {},
   "outputs": [],
   "source": []
  }
 ],
 "metadata": {
  "kernelspec": {
   "display_name": "Python 3 (ipykernel)",
   "language": "python",
   "name": "python3"
  },
  "language_info": {
   "codemirror_mode": {
    "name": "ipython",
    "version": 3
   },
   "file_extension": ".py",
   "mimetype": "text/x-python",
   "name": "python",
   "nbconvert_exporter": "python",
   "pygments_lexer": "ipython3",
   "version": "3.9.12"
  }
 },
 "nbformat": 4,
 "nbformat_minor": 5
}
