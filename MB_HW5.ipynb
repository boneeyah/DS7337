{
 "cells": [
  {
   "cell_type": "markdown",
   "id": "fd5ce193-5599-40ac-a5f9-fd127322d1a5",
   "metadata": {},
   "source": [
    "# NLP - HW5\n",
    "### Miguel Bonilla"
   ]
  },
  {
   "cell_type": "code",
   "execution_count": 1,
   "id": "67b0e07f-2cae-4baf-934e-199e6207b1ec",
   "metadata": {},
   "outputs": [],
   "source": [
    "from bs4 import BeautifulSoup\n",
    "from requests import get\n",
    "import pandas as pd\n",
    "from nltk.tokenize import word_tokenize\n",
    "from nltk.tokenize import sent_tokenize"
   ]
  },
  {
   "cell_type": "markdown",
   "id": "95d4bc99-e21d-47d7-8133-9aba61f9fed9",
   "metadata": {},
   "source": [
    "- [1. Compile a List of Reviews](#1.-Compile-a-List-of-Reviews)\n",
    "- [2. Extract Noun Phrase Chunks](#2.-Extract-Noun-Phrase-Chunks)\n",
    "- [3. Output All the Chunks](#3.-Output-All-the-Chunks)"
   ]
  },
  {
   "cell_type": "markdown",
   "id": "7641bf79-6838-4745-b831-bfe063b0a62c",
   "metadata": {},
   "source": [
    "### 1. Compile a List of Reviews"
   ]
  },
  {
   "cell_type": "markdown",
   "id": "1527e5cd-88a1-466b-bd2f-9ed25d45db47",
   "metadata": {},
   "source": [
    "Using BeautifulSoup to crawl through the featured 25 reviews for each of the films, for a total of 100 reviews. The four movies are: \"The Thing (1982)\", \"A Quiet Place\", \"Alien Covenant\", and \"The Shining\". Each of these has a mix of positive and negative reviews, though the distribution of these depends on the 'quality' of the film. "
   ]
  },
  {
   "cell_type": "code",
   "execution_count": 2,
   "id": "f273cf07-89ee-4319-bfa5-1820eda61b59",
   "metadata": {},
   "outputs": [],
   "source": [
    "### assign headers since IMDB rejects the requests without it\n",
    "headers = {'User-Agent':'Mozilla/5.0 (X11; Linux x86_64) AppleWebKit/537.36 (KHTML, like Gecko) Chrome/110.0.0.0 Safari/537.36 Edg/110.0.1587.50'}"
   ]
  },
  {
   "cell_type": "code",
   "execution_count": 3,
   "id": "e86e5c8a-0039-49fe-83d4-7d979c52e0a9",
   "metadata": {},
   "outputs": [],
   "source": [
    "## The Thing (1982)\n",
    "url1 = 'https://www.imdb.com/title/tt0084787/reviews/?ref_=tt_ov_rt'\n",
    "## A Quiet Place\n",
    "url2 = 'https://www.imdb.com/title/tt6644200/reviews/?ref_=adv_li_tt'\n",
    "## Alien Covenant\n",
    "url3 = 'https://www.imdb.com/title/tt2316204/reviews/?ref_=adv_li_tt'\n",
    "## The Shining\n",
    "url4 = 'https://www.imdb.com/title/tt0081505/reviews/?ref_=fn_al_tt_1'\n",
    "\n",
    "#movie list\n",
    "movies = ['The_Thing','A_Quiet_Place','Alien_Covenant','The_Shining']\n",
    "#url list\n",
    "urls = [url1, url2, url3, url4]"
   ]
  },
  {
   "cell_type": "code",
   "execution_count": 25,
   "id": "6745c94b-5790-4d68-a04e-d5fc3ce28450",
   "metadata": {},
   "outputs": [],
   "source": [
    "def get_links(movielist,urllist):\n",
    "    refs = []\n",
    "    title = []\n",
    "    index = []\n",
    "    for i in range(len(movielist)):\n",
    "        movie = get(urllist[i],headers=headers)\n",
    "        movie_soup = BeautifulSoup(movie.content,'html.parser')\n",
    "        container = movie_soup.find_all(class_='title')\n",
    "        for j in range(len(container)):\n",
    "            refs.append('https://www.imdb.com'+ container[j]['href'])\n",
    "            title.append(movielist[i])\n",
    "            index.append('{}_{}'.format(movielist[i],j))\n",
    "    return(pd.DataFrame({'movie':title,\n",
    "                         'url':refs,\n",
    "                         'review':index\n",
    "                        }))"
   ]
  },
  {
   "cell_type": "code",
   "execution_count": 26,
   "id": "525b8625-d059-47f7-a117-5c01b6e7e707",
   "metadata": {},
   "outputs": [
    {
     "data": {
      "text/html": [
       "<div>\n",
       "<style scoped>\n",
       "    .dataframe tbody tr th:only-of-type {\n",
       "        vertical-align: middle;\n",
       "    }\n",
       "\n",
       "    .dataframe tbody tr th {\n",
       "        vertical-align: top;\n",
       "    }\n",
       "\n",
       "    .dataframe thead th {\n",
       "        text-align: right;\n",
       "    }\n",
       "</style>\n",
       "<table border=\"1\" class=\"dataframe\">\n",
       "  <thead>\n",
       "    <tr style=\"text-align: right;\">\n",
       "      <th></th>\n",
       "      <th>movie</th>\n",
       "      <th>url</th>\n",
       "      <th>review</th>\n",
       "    </tr>\n",
       "  </thead>\n",
       "  <tbody>\n",
       "    <tr>\n",
       "      <th>0</th>\n",
       "      <td>The_Thing</td>\n",
       "      <td>https://www.imdb.com/review/rw0197822/?ref_=tt...</td>\n",
       "      <td>The_Thing_0</td>\n",
       "    </tr>\n",
       "    <tr>\n",
       "      <th>1</th>\n",
       "      <td>The_Thing</td>\n",
       "      <td>https://www.imdb.com/review/rw3346521/?ref_=tt...</td>\n",
       "      <td>The_Thing_1</td>\n",
       "    </tr>\n",
       "    <tr>\n",
       "      <th>2</th>\n",
       "      <td>The_Thing</td>\n",
       "      <td>https://www.imdb.com/review/rw1833451/?ref_=tt...</td>\n",
       "      <td>The_Thing_2</td>\n",
       "    </tr>\n",
       "    <tr>\n",
       "      <th>3</th>\n",
       "      <td>The_Thing</td>\n",
       "      <td>https://www.imdb.com/review/rw6379386/?ref_=tt...</td>\n",
       "      <td>The_Thing_3</td>\n",
       "    </tr>\n",
       "    <tr>\n",
       "      <th>4</th>\n",
       "      <td>The_Thing</td>\n",
       "      <td>https://www.imdb.com/review/rw0197779/?ref_=tt...</td>\n",
       "      <td>The_Thing_4</td>\n",
       "    </tr>\n",
       "    <tr>\n",
       "      <th>...</th>\n",
       "      <td>...</td>\n",
       "      <td>...</td>\n",
       "      <td>...</td>\n",
       "    </tr>\n",
       "    <tr>\n",
       "      <th>95</th>\n",
       "      <td>The_Shining</td>\n",
       "      <td>https://www.imdb.com/review/rw0179869/?ref_=tt...</td>\n",
       "      <td>The_Shining_20</td>\n",
       "    </tr>\n",
       "    <tr>\n",
       "      <th>96</th>\n",
       "      <td>The_Shining</td>\n",
       "      <td>https://www.imdb.com/review/rw7669173/?ref_=tt...</td>\n",
       "      <td>The_Shining_21</td>\n",
       "    </tr>\n",
       "    <tr>\n",
       "      <th>97</th>\n",
       "      <td>The_Shining</td>\n",
       "      <td>https://www.imdb.com/review/rw0180168/?ref_=tt...</td>\n",
       "      <td>The_Shining_22</td>\n",
       "    </tr>\n",
       "    <tr>\n",
       "      <th>98</th>\n",
       "      <td>The_Shining</td>\n",
       "      <td>https://www.imdb.com/review/rw2504629/?ref_=tt...</td>\n",
       "      <td>The_Shining_23</td>\n",
       "    </tr>\n",
       "    <tr>\n",
       "      <th>99</th>\n",
       "      <td>The_Shining</td>\n",
       "      <td>https://www.imdb.com/review/rw2873010/?ref_=tt...</td>\n",
       "      <td>The_Shining_24</td>\n",
       "    </tr>\n",
       "  </tbody>\n",
       "</table>\n",
       "<p>100 rows × 3 columns</p>\n",
       "</div>"
      ],
      "text/plain": [
       "          movie                                                url  \\\n",
       "0     The_Thing  https://www.imdb.com/review/rw0197822/?ref_=tt...   \n",
       "1     The_Thing  https://www.imdb.com/review/rw3346521/?ref_=tt...   \n",
       "2     The_Thing  https://www.imdb.com/review/rw1833451/?ref_=tt...   \n",
       "3     The_Thing  https://www.imdb.com/review/rw6379386/?ref_=tt...   \n",
       "4     The_Thing  https://www.imdb.com/review/rw0197779/?ref_=tt...   \n",
       "..          ...                                                ...   \n",
       "95  The_Shining  https://www.imdb.com/review/rw0179869/?ref_=tt...   \n",
       "96  The_Shining  https://www.imdb.com/review/rw7669173/?ref_=tt...   \n",
       "97  The_Shining  https://www.imdb.com/review/rw0180168/?ref_=tt...   \n",
       "98  The_Shining  https://www.imdb.com/review/rw2504629/?ref_=tt...   \n",
       "99  The_Shining  https://www.imdb.com/review/rw2873010/?ref_=tt...   \n",
       "\n",
       "            review  \n",
       "0      The_Thing_0  \n",
       "1      The_Thing_1  \n",
       "2      The_Thing_2  \n",
       "3      The_Thing_3  \n",
       "4      The_Thing_4  \n",
       "..             ...  \n",
       "95  The_Shining_20  \n",
       "96  The_Shining_21  \n",
       "97  The_Shining_22  \n",
       "98  The_Shining_23  \n",
       "99  The_Shining_24  \n",
       "\n",
       "[100 rows x 3 columns]"
      ]
     },
     "execution_count": 26,
     "metadata": {},
     "output_type": "execute_result"
    }
   ],
   "source": [
    "review_links = get_links(movies,urls)\n",
    "review_links"
   ]
  },
  {
   "cell_type": "code",
   "execution_count": 6,
   "id": "4e1e8e9a-00d3-4be9-9b24-6516e1cf9f3b",
   "metadata": {},
   "outputs": [
    {
     "data": {
      "text/plain": [
       "'https://www.imdb.com/review/rw3346521/?ref_=tt_urv'"
      ]
     },
     "execution_count": 6,
     "metadata": {},
     "output_type": "execute_result"
    }
   ],
   "source": [
    "review_links.url[1]"
   ]
  },
  {
   "cell_type": "markdown",
   "id": "db073a5a-8195-47e8-8430-215b0f35c243",
   "metadata": {},
   "source": [
    "### 2. Extract Noun Phrase Chunks"
   ]
  },
  {
   "cell_type": "markdown",
   "id": "d5d3e815-dc50-4573-968b-258de01278d3",
   "metadata": {},
   "source": [
    "#### a. Grab the review text from each link"
   ]
  },
  {
   "cell_type": "code",
   "execution_count": 27,
   "id": "c650d443-3e42-4677-a742-6aab31c173b2",
   "metadata": {},
   "outputs": [],
   "source": [
    "def grab_review(links_table):\n",
    "    tokens = []\n",
    "    for i in range(len(links_table)):\n",
    "        review = get(links_table.url[i],headers)\n",
    "        review_soup = BeautifulSoup(review.content, 'html.parser')\n",
    "        sent = []\n",
    "        for string in review_soup.find(class_='text show-more__control').stripped_strings:\n",
    "            sent.append(sent_tokenize(string))\n",
    "        tokens.append([item for sublist in sent for item in sublist])\n",
    "    return(pd.DataFrame({'movie':links_table.movie,\n",
    "                         'tokens':tokens,\n",
    "                         'review':links_table.review\n",
    "                        }))"
   ]
  },
  {
   "cell_type": "code",
   "execution_count": 28,
   "id": "fd670b79-5c1f-4f83-b999-d651f984f15e",
   "metadata": {},
   "outputs": [],
   "source": [
    "tokens2 = grab_review(review_links)"
   ]
  },
  {
   "cell_type": "code",
   "execution_count": 29,
   "id": "a259d5be-2770-45f7-9eda-7cc1aecf5d0f",
   "metadata": {},
   "outputs": [
    {
     "data": {
      "text/html": [
       "<div>\n",
       "<style scoped>\n",
       "    .dataframe tbody tr th:only-of-type {\n",
       "        vertical-align: middle;\n",
       "    }\n",
       "\n",
       "    .dataframe tbody tr th {\n",
       "        vertical-align: top;\n",
       "    }\n",
       "\n",
       "    .dataframe thead th {\n",
       "        text-align: right;\n",
       "    }\n",
       "</style>\n",
       "<table border=\"1\" class=\"dataframe\">\n",
       "  <thead>\n",
       "    <tr style=\"text-align: right;\">\n",
       "      <th></th>\n",
       "      <th>movie</th>\n",
       "      <th>tokens</th>\n",
       "      <th>review</th>\n",
       "    </tr>\n",
       "  </thead>\n",
       "  <tbody>\n",
       "    <tr>\n",
       "      <th>0</th>\n",
       "      <td>The_Thing</td>\n",
       "      <td>[\"I know I'm human., And if you were all these...</td>\n",
       "      <td>The_Thing_0</td>\n",
       "    </tr>\n",
       "    <tr>\n",
       "      <th>1</th>\n",
       "      <td>The_Thing</td>\n",
       "      <td>[A classic film., John Carpenter's \"The Thing\"...</td>\n",
       "      <td>The_Thing_1</td>\n",
       "    </tr>\n",
       "    <tr>\n",
       "      <th>2</th>\n",
       "      <td>The_Thing</td>\n",
       "      <td>[John Carpenter shows how much he loves the 19...</td>\n",
       "      <td>The_Thing_2</td>\n",
       "    </tr>\n",
       "    <tr>\n",
       "      <th>3</th>\n",
       "      <td>The_Thing</td>\n",
       "      <td>[\"The ultimate in alien terror,\" it says., It'...</td>\n",
       "      <td>The_Thing_3</td>\n",
       "    </tr>\n",
       "    <tr>\n",
       "      <th>4</th>\n",
       "      <td>The_Thing</td>\n",
       "      <td>[Remake of the classic 1951 \"The Thing From An...</td>\n",
       "      <td>The_Thing_4</td>\n",
       "    </tr>\n",
       "    <tr>\n",
       "      <th>...</th>\n",
       "      <td>...</td>\n",
       "      <td>...</td>\n",
       "      <td>...</td>\n",
       "    </tr>\n",
       "    <tr>\n",
       "      <th>95</th>\n",
       "      <td>The_Shining</td>\n",
       "      <td>[Chilling, majestic piece of cinematic fright,...</td>\n",
       "      <td>The_Shining_20</td>\n",
       "    </tr>\n",
       "    <tr>\n",
       "      <th>96</th>\n",
       "      <td>The_Shining</td>\n",
       "      <td>[The Shining is directed by Stanley Kubrick an...</td>\n",
       "      <td>The_Shining_21</td>\n",
       "    </tr>\n",
       "    <tr>\n",
       "      <th>97</th>\n",
       "      <td>The_Shining</td>\n",
       "      <td>[*!, !- SPOILERS - !, !, *, Before I begin thi...</td>\n",
       "      <td>The_Shining_22</td>\n",
       "    </tr>\n",
       "    <tr>\n",
       "      <th>98</th>\n",
       "      <td>The_Shining</td>\n",
       "      <td>[This film is currently the 48th highest rated...</td>\n",
       "      <td>The_Shining_23</td>\n",
       "    </tr>\n",
       "    <tr>\n",
       "      <th>99</th>\n",
       "      <td>The_Shining</td>\n",
       "      <td>[This is probably the most overrated movie of ...</td>\n",
       "      <td>The_Shining_24</td>\n",
       "    </tr>\n",
       "  </tbody>\n",
       "</table>\n",
       "<p>100 rows × 3 columns</p>\n",
       "</div>"
      ],
      "text/plain": [
       "          movie                                             tokens  \\\n",
       "0     The_Thing  [\"I know I'm human., And if you were all these...   \n",
       "1     The_Thing  [A classic film., John Carpenter's \"The Thing\"...   \n",
       "2     The_Thing  [John Carpenter shows how much he loves the 19...   \n",
       "3     The_Thing  [\"The ultimate in alien terror,\" it says., It'...   \n",
       "4     The_Thing  [Remake of the classic 1951 \"The Thing From An...   \n",
       "..          ...                                                ...   \n",
       "95  The_Shining  [Chilling, majestic piece of cinematic fright,...   \n",
       "96  The_Shining  [The Shining is directed by Stanley Kubrick an...   \n",
       "97  The_Shining  [*!, !- SPOILERS - !, !, *, Before I begin thi...   \n",
       "98  The_Shining  [This film is currently the 48th highest rated...   \n",
       "99  The_Shining  [This is probably the most overrated movie of ...   \n",
       "\n",
       "            review  \n",
       "0      The_Thing_0  \n",
       "1      The_Thing_1  \n",
       "2      The_Thing_2  \n",
       "3      The_Thing_3  \n",
       "4      The_Thing_4  \n",
       "..             ...  \n",
       "95  The_Shining_20  \n",
       "96  The_Shining_21  \n",
       "97  The_Shining_22  \n",
       "98  The_Shining_23  \n",
       "99  The_Shining_24  \n",
       "\n",
       "[100 rows x 3 columns]"
      ]
     },
     "execution_count": 29,
     "metadata": {},
     "output_type": "execute_result"
    }
   ],
   "source": [
    "tokens2"
   ]
  },
  {
   "cell_type": "markdown",
   "id": "aff75405-21a1-4c6c-b91e-f08ca23cabce",
   "metadata": {},
   "source": [
    "### 3. Output All the Chunks"
   ]
  },
  {
   "cell_type": "code",
   "execution_count": null,
   "id": "781eef1a-62f4-4fca-bde3-27fe50ba4567",
   "metadata": {},
   "outputs": [],
   "source": []
  },
  {
   "cell_type": "code",
   "execution_count": 14,
   "id": "76e886f5-c91f-403e-8a10-6e9a7bb38b9b",
   "metadata": {},
   "outputs": [
    {
     "name": "stdout",
     "output_type": "stream",
     "text": [
      "hi my name is Miguel\n"
     ]
    }
   ],
   "source": [
    "print('hi my name is {}'.format('Miguel'))"
   ]
  },
  {
   "cell_type": "code",
   "execution_count": 17,
   "id": "46289d19-7205-40ab-b010-fe1f42800e9b",
   "metadata": {},
   "outputs": [
    {
     "name": "stdout",
     "output_type": "stream",
     "text": [
      "Miguel_Bonilla\n"
     ]
    }
   ],
   "source": [
    "print('{}_{}'.format('Miguel','Bonilla'))"
   ]
  },
  {
   "cell_type": "code",
   "execution_count": null,
   "id": "933ac353-4f33-4bf2-8daf-b8704b8d6e51",
   "metadata": {},
   "outputs": [],
   "source": []
  }
 ],
 "metadata": {
  "kernelspec": {
   "display_name": "Python 3 (ipykernel)",
   "language": "python",
   "name": "python3"
  },
  "language_info": {
   "codemirror_mode": {
    "name": "ipython",
    "version": 3
   },
   "file_extension": ".py",
   "mimetype": "text/x-python",
   "name": "python",
   "nbconvert_exporter": "python",
   "pygments_lexer": "ipython3",
   "version": "3.9.15"
  }
 },
 "nbformat": 4,
 "nbformat_minor": 5
}
