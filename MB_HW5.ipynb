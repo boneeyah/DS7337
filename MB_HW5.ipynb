{
 "cells": [
  {
   "cell_type": "markdown",
   "id": "fd5ce193-5599-40ac-a5f9-fd127322d1a5",
   "metadata": {},
   "source": [
    "# NLP - HW5\n",
    "### Miguel Bonilla"
   ]
  },
  {
   "cell_type": "code",
   "execution_count": 2,
   "id": "67b0e07f-2cae-4baf-934e-199e6207b1ec",
   "metadata": {},
   "outputs": [],
   "source": [
    "from bs4 import BeautifulSoup\n",
    "from requests import get\n",
    "import pandas as pd\n",
    "from nltk.tokenize import word_tokenize\n",
    "from nltk.tokenize import sent_tokenize"
   ]
  },
  {
   "cell_type": "markdown",
   "id": "95d4bc99-e21d-47d7-8133-9aba61f9fed9",
   "metadata": {},
   "source": [
    "- [1. Compile a List of Reviews](#1.-Compile-a-List-of-Reviews)\n",
    "- [2. Extract Noun Phrase Chunks](#2.-Extract-Noun-Phrase-Chunks)\n",
    "- [3. Output All the Chunks](#3.-Output-All-the-Chunks)"
   ]
  },
  {
   "cell_type": "markdown",
   "id": "7641bf79-6838-4745-b831-bfe063b0a62c",
   "metadata": {},
   "source": [
    "### 1. Compile a List of Reviews"
   ]
  },
  {
   "cell_type": "markdown",
   "id": "1527e5cd-88a1-466b-bd2f-9ed25d45db47",
   "metadata": {},
   "source": [
    "Using BeautifulSoup to crawl through the featured 25 reviews for each of the films, for a total of 100 reviews. The four movies are: \"The Thing (1982)\", \"A Quiet Place\", \"Alien Covenant\", and \"The Shining\". Each of these has a mix of positive and negative reviews, though the distribution of these depends on the 'quality' of the film. "
   ]
  },
  {
   "cell_type": "code",
   "execution_count": 3,
   "id": "f273cf07-89ee-4319-bfa5-1820eda61b59",
   "metadata": {},
   "outputs": [],
   "source": [
    "### assign headers since IMDB rejects the requests without it\n",
    "headers = {'User-Agent':'Mozilla/5.0 (X11; Linux x86_64) AppleWebKit/537.36 (KHTML, like Gecko) Chrome/110.0.0.0 Safari/537.36 Edg/110.0.1587.50'}"
   ]
  },
  {
   "cell_type": "code",
   "execution_count": 4,
   "id": "e86e5c8a-0039-49fe-83d4-7d979c52e0a9",
   "metadata": {},
   "outputs": [],
   "source": [
    "## The Thing (1982)\n",
    "url1 = 'https://www.imdb.com/title/tt0084787/reviews/?ref_=tt_ov_rt'\n",
    "## A Quiet Place\n",
    "url2 = 'https://www.imdb.com/title/tt6644200/reviews/?ref_=adv_li_tt'\n",
    "## Alien Covenant\n",
    "url3 = 'https://www.imdb.com/title/tt2316204/reviews/?ref_=adv_li_tt'\n",
    "## The Shining\n",
    "url4 = 'https://www.imdb.com/title/tt0081505/reviews/?ref_=fn_al_tt_1'\n",
    "\n",
    "#movie list\n",
    "movies = ['The_Thing','A_Quiet_Place','Alien_Covenant','The_Shining']\n",
    "#url list\n",
    "urls = [url1, url2, url3, url4]"
   ]
  },
  {
   "cell_type": "code",
   "execution_count": 5,
   "id": "6745c94b-5790-4d68-a04e-d5fc3ce28450",
   "metadata": {},
   "outputs": [],
   "source": [
    "def get_links(movielist,urllist):\n",
    "    refs = []\n",
    "    index = []\n",
    "    for i in range(len(movielist)):\n",
    "        movie = get(urllist[i],headers=headers)\n",
    "        movie_soup = BeautifulSoup(movie.content,'html.parser')\n",
    "        container = movie_soup.find_all(class_='title')\n",
    "        for j in range(len(container)):\n",
    "            refs.append('https://www.imdb.com'+ container[j]['href'])\n",
    "            index.append(movielist[i])\n",
    "    return(pd.DataFrame({'movie':index,'url':refs}))\n",
    "        "
   ]
  },
  {
   "cell_type": "code",
   "execution_count": 6,
   "id": "525b8625-d059-47f7-a117-5c01b6e7e707",
   "metadata": {},
   "outputs": [
    {
     "data": {
      "text/html": [
       "<div>\n",
       "<style scoped>\n",
       "    .dataframe tbody tr th:only-of-type {\n",
       "        vertical-align: middle;\n",
       "    }\n",
       "\n",
       "    .dataframe tbody tr th {\n",
       "        vertical-align: top;\n",
       "    }\n",
       "\n",
       "    .dataframe thead th {\n",
       "        text-align: right;\n",
       "    }\n",
       "</style>\n",
       "<table border=\"1\" class=\"dataframe\">\n",
       "  <thead>\n",
       "    <tr style=\"text-align: right;\">\n",
       "      <th></th>\n",
       "      <th>movie</th>\n",
       "      <th>url</th>\n",
       "    </tr>\n",
       "  </thead>\n",
       "  <tbody>\n",
       "    <tr>\n",
       "      <th>0</th>\n",
       "      <td>The_Thing</td>\n",
       "      <td>https://www.imdb.com/review/rw0197822/?ref_=tt...</td>\n",
       "    </tr>\n",
       "    <tr>\n",
       "      <th>1</th>\n",
       "      <td>The_Thing</td>\n",
       "      <td>https://www.imdb.com/review/rw3346521/?ref_=tt...</td>\n",
       "    </tr>\n",
       "    <tr>\n",
       "      <th>2</th>\n",
       "      <td>The_Thing</td>\n",
       "      <td>https://www.imdb.com/review/rw1833451/?ref_=tt...</td>\n",
       "    </tr>\n",
       "    <tr>\n",
       "      <th>3</th>\n",
       "      <td>The_Thing</td>\n",
       "      <td>https://www.imdb.com/review/rw6379386/?ref_=tt...</td>\n",
       "    </tr>\n",
       "    <tr>\n",
       "      <th>4</th>\n",
       "      <td>The_Thing</td>\n",
       "      <td>https://www.imdb.com/review/rw0197779/?ref_=tt...</td>\n",
       "    </tr>\n",
       "    <tr>\n",
       "      <th>...</th>\n",
       "      <td>...</td>\n",
       "      <td>...</td>\n",
       "    </tr>\n",
       "    <tr>\n",
       "      <th>95</th>\n",
       "      <td>The_Shining</td>\n",
       "      <td>https://www.imdb.com/review/rw0179869/?ref_=tt...</td>\n",
       "    </tr>\n",
       "    <tr>\n",
       "      <th>96</th>\n",
       "      <td>The_Shining</td>\n",
       "      <td>https://www.imdb.com/review/rw7669173/?ref_=tt...</td>\n",
       "    </tr>\n",
       "    <tr>\n",
       "      <th>97</th>\n",
       "      <td>The_Shining</td>\n",
       "      <td>https://www.imdb.com/review/rw0180168/?ref_=tt...</td>\n",
       "    </tr>\n",
       "    <tr>\n",
       "      <th>98</th>\n",
       "      <td>The_Shining</td>\n",
       "      <td>https://www.imdb.com/review/rw2504629/?ref_=tt...</td>\n",
       "    </tr>\n",
       "    <tr>\n",
       "      <th>99</th>\n",
       "      <td>The_Shining</td>\n",
       "      <td>https://www.imdb.com/review/rw2873010/?ref_=tt...</td>\n",
       "    </tr>\n",
       "  </tbody>\n",
       "</table>\n",
       "<p>100 rows × 2 columns</p>\n",
       "</div>"
      ],
      "text/plain": [
       "          movie                                                url\n",
       "0     The_Thing  https://www.imdb.com/review/rw0197822/?ref_=tt...\n",
       "1     The_Thing  https://www.imdb.com/review/rw3346521/?ref_=tt...\n",
       "2     The_Thing  https://www.imdb.com/review/rw1833451/?ref_=tt...\n",
       "3     The_Thing  https://www.imdb.com/review/rw6379386/?ref_=tt...\n",
       "4     The_Thing  https://www.imdb.com/review/rw0197779/?ref_=tt...\n",
       "..          ...                                                ...\n",
       "95  The_Shining  https://www.imdb.com/review/rw0179869/?ref_=tt...\n",
       "96  The_Shining  https://www.imdb.com/review/rw7669173/?ref_=tt...\n",
       "97  The_Shining  https://www.imdb.com/review/rw0180168/?ref_=tt...\n",
       "98  The_Shining  https://www.imdb.com/review/rw2504629/?ref_=tt...\n",
       "99  The_Shining  https://www.imdb.com/review/rw2873010/?ref_=tt...\n",
       "\n",
       "[100 rows x 2 columns]"
      ]
     },
     "execution_count": 6,
     "metadata": {},
     "output_type": "execute_result"
    }
   ],
   "source": [
    "review_links = get_links(movies,urls)\n",
    "review_links"
   ]
  },
  {
   "cell_type": "code",
   "execution_count": 7,
   "id": "4e1e8e9a-00d3-4be9-9b24-6516e1cf9f3b",
   "metadata": {},
   "outputs": [
    {
     "data": {
      "text/plain": [
       "'https://www.imdb.com/review/rw3346521/?ref_=tt_urv'"
      ]
     },
     "execution_count": 7,
     "metadata": {},
     "output_type": "execute_result"
    }
   ],
   "source": [
    "review_links.url[1]"
   ]
  },
  {
   "cell_type": "markdown",
   "id": "db073a5a-8195-47e8-8430-215b0f35c243",
   "metadata": {},
   "source": [
    "### 2. Extract Noun Phrase Chunks"
   ]
  },
  {
   "cell_type": "markdown",
   "id": "d5d3e815-dc50-4573-968b-258de01278d3",
   "metadata": {},
   "source": [
    "#### a. Grab the review text from each link"
   ]
  },
  {
   "cell_type": "code",
   "execution_count": 8,
   "id": "fd670b79-5c1f-4f83-b999-d651f984f15e",
   "metadata": {},
   "outputs": [],
   "source": [
    "review = get(review_links.url[1],headers)"
   ]
  },
  {
   "cell_type": "code",
   "execution_count": 9,
   "id": "8525a7e8-1ff4-46c6-a262-027506b4b400",
   "metadata": {},
   "outputs": [],
   "source": [
    "review_soup =BeautifulSoup(review.content,'html.parser')"
   ]
  },
  {
   "cell_type": "code",
   "execution_count": 10,
   "id": "75c002c2-66fa-4054-bca9-ee6399580029",
   "metadata": {},
   "outputs": [],
   "source": [
    "container = review_soup.find(class_='text show-more__control').stripped_strings"
   ]
  },
  {
   "cell_type": "code",
   "execution_count": 14,
   "id": "5e5b4b16-d142-4d83-a088-a97a2d8d6220",
   "metadata": {},
   "outputs": [
    {
     "name": "stdout",
     "output_type": "stream",
     "text": [
      "['A classic film.', 'John Carpenter\\'s \"The Thing\" is one of the most entertaining horror films ever made - fast, clever and purely exciting from start to finish.', 'It is one of my personal favorite horror movies.', 'This is how all movies of the genre should be made.', 'Set on an isolated base in Antarctica, this version seems almost to pick up where the original version (The Thing From Another World) left off.', 'The American scientists discover a decimated Norwegian base some miles distant.', 'Everyone is dead, and only the half charred remains of some unidentifiable thing left to smolder outside the compound might offer any answers to what may have happened.', 'The Thing is brought back to the American base and, too late, the scientists realize that it is alive and lethal.', 'The Thing thaws out and is off, not only killing anyone and anything that crosses Its path, but also absorbing them, making Itself into whoever and whatever it wants.', 'The film then turns into a brilliant paranoia piece.', 'Everyone is suspect, anyone can be The Thing, and no one trusts anyone anymore.', 'Gone is the strength and security found when human beings band together in spite of their differences to battle a monster.', 'The group splinters and fear rules supreme.', 'Who is the Thing?']\n",
      "['Seriously I Love this movie I love it To Death.', 'I love Escape From New York and I love Escape From L.A. but I also love The Thing so much better this is definitely the best Carpenter film a truly masterpiece classic I love R.J. MacReady - Kurt Russell I love everything about this film that is.', 'Science Fiction, Horror and an Action Epic Film.', 'A lot of the practical effects were left out but the it looked nice and the acting was good and it expanded upon the monsters background and showing you the inside of the ship.', 'It must of been tough to bring across on screen the visual design.']\n",
      "['In my opinion, nobody has topped this film in the 25-odd years since its release.', 'I\\'ll put any of \"The Thing\\'s\" old-school effects up against any CGI-driven movie, or this cast against almost any other ensemble.', 'If you haven\\'t seen the film yet, I envy you because I WISH I could see \"The Thing\" again for the first time.', 'WOW!', 'Does more need to be said?', 'How about this...there is no parallel.', \"Who's your friend?\", \"Who's the Thing?\", 'Who do you trust?', 'Who can you afford to trust?', \"If you've never seen this movie...your in for a treat.\", 'The only other movie that had such an impact on me was The Matrix (the first movie)...where I left the theater touching the walls wondering if they were really real.', 'This movie will leaving you wondering....is the guy/gal next to you really real?']\n",
      "['\"Trust is a tough thing to come by these days.\"']\n",
      "[\"John Carpenter's The Thing is a seminal piece of horror that is not only a fine specimen of its era, but it also serves as a shining example of horror done absolutely right in any era.\", \"Combining gross-out special effects reminiscent of Hellraiser, the nail-bitingly intense, claustrophobic filmmaking of Alien, offering a story that is very well-paced, such as George A. Romero's Dawn of the Dead, and presenting the idea that true terror can be found at any time, in any place, and inside anyone, much like Alfred Hitchcock's Psycho, The Thing works on every level, and represents the peak of each and every aspect that may be utilized to make horror films effective.\", 'Granted, this amalgamation of styles is not the only formula for winning horror.']\n",
      "[\"The basic plot about this movie is Horror-moister John Carpenter (Halloween, Escape from New York) teams Kurt Russell's outstanding performance with incredible visuals to build this chilling version of the classic The Thing.\", 'In the winter of 1982, a twelve-man research team at a remote Antarctic research station discovers an alien buried in the snow for over 100,000 years.', 'Once unfrozen, the form-changing alien wreaks havoc, creates terror and becomes one of them.']\n",
      "[\"It is one of the best favorite horror films of the 80's ever.\", 'I love this film to death.', 'The Thing is the best classic horror film from master and genius John Carpenter!', \"'The Thing' is classic Carpenter and one of the few remakes that is better than the original.\", \"Kurt Russell's characters: Snake Plissken, R.J. MacReady and Jack Burton are Kurt's best favorite characters he ever played.\", 'I also love the music score from Ennio Morricone!', 'Awesome!!!', '10/10 Grade: Bad Ass Seal Of Approval']\n"
     ]
    }
   ],
   "source": [
    "string_sav =[]\n",
    "for string in review_soup.find(class_='text show-more__control').stripped_strings:\n",
    "    sent = sent_tokenize(string)\n",
    "    print(sent)"
   ]
  },
  {
   "cell_type": "markdown",
   "id": "aff75405-21a1-4c6c-b91e-f08ca23cabce",
   "metadata": {},
   "source": [
    "### 3. Output All the Chunks"
   ]
  },
  {
   "cell_type": "code",
   "execution_count": null,
   "id": "76e886f5-c91f-403e-8a10-6e9a7bb38b9b",
   "metadata": {},
   "outputs": [],
   "source": []
  }
 ],
 "metadata": {
  "kernelspec": {
   "display_name": "Python 3 (ipykernel)",
   "language": "python",
   "name": "python3"
  },
  "language_info": {
   "codemirror_mode": {
    "name": "ipython",
    "version": 3
   },
   "file_extension": ".py",
   "mimetype": "text/x-python",
   "name": "python",
   "nbconvert_exporter": "python",
   "pygments_lexer": "ipython3",
   "version": "3.9.15"
  }
 },
 "nbformat": 4,
 "nbformat_minor": 5
}
