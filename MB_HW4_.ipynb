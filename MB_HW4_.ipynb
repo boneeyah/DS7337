{
 "cells": [
  {
   "cell_type": "markdown",
   "id": "097150a3-4463-43ff-86ae-9c07b0be28e1",
   "metadata": {},
   "source": [
    "# NLP - Homework 4\n",
    "### Miguel Bonilla"
   ]
  },
  {
   "cell_type": "markdown",
   "id": "030f900e-4707-499c-8d1b-1bf2d4e285a6",
   "metadata": {},
   "source": [
    "1. [Run First POS Tagger](#1.-Run-First-POS-Tagger)\n",
    "2. [Run Second POS Tagger](#2.-Run-Second-POS-Tagger)\n",
    "3. [Random Sentence From Article](#3.-Random-Sentence-From-Article)"
   ]
  },
  {
   "cell_type": "markdown",
   "id": "be317402-e4d7-4ced-8457-71fe72691f88",
   "metadata": {},
   "source": [
    "1.\tRun one of the part-of-speech (POS) taggers available in Python. \n",
    "    a.\tFind the longest sentence you can, longer than 10 words, that the POS tagger tags correctly. Show the input and output.  \n",
    "    b.\tFind the shortest sentence you can, shorter than 10 words, that the POS tagger fails to tag 100 percent correctly. Show the input and output. Explain your conjecture as to why the tagger might have been less than perfect with this sentence.\n",
    "\n",
    "2.\tRun a different POS tagger in Python. Process the same two sentences from question 1.\n",
    "    a.\tDoes it produce the same or different output?  \n",
    "    b.\tExplain any differences as best you can.\n",
    "\n",
    "3.\tIn a news article from this week’s news, find a random sentence of at least 10 words.\n",
    "    a.\tLooking at the Penn tag set, manually POS tag the sentence yourself.  \n",
    "    b.\tNow run the same sentences through both taggers that you implemented for questions 1 and 2. Did either of the taggers produce the same results as you had created manually?  \n",
    "    c.\tExplain any differences between the two taggers and your manual tagging as much as you can.\n"
   ]
  },
  {
   "cell_type": "code",
   "execution_count": 3,
   "id": "a8bf03ce-8a6d-475c-8b7b-f706c73dca7b",
   "metadata": {},
   "outputs": [],
   "source": [
    "import nltk\n",
    "from nltk.tokenize import word_tokenize"
   ]
  },
  {
   "cell_type": "markdown",
   "id": "0457d9a9-9ac4-420c-ba1c-7b13aedfa576",
   "metadata": {},
   "source": [
    "## 1. Run First POS Tagger"
   ]
  },
  {
   "cell_type": "markdown",
   "id": "4aaf825e-9314-41fc-a7b1-ed6b5c607eb3",
   "metadata": {},
   "source": [
    "#### a. Long Sentence"
   ]
  },
  {
   "cell_type": "code",
   "execution_count": 4,
   "id": "cf4be75f-3c92-4f85-9537-ce79d510495a",
   "metadata": {},
   "outputs": [],
   "source": [
    "sent = '''One powerful liberal voice never failed to dissent from this view of the Russian intelligentsia'''"
   ]
  },
  {
   "cell_type": "code",
   "execution_count": 26,
   "id": "17ad31a9-a5e1-4ecb-aa1d-22b3045684d0",
   "metadata": {},
   "outputs": [],
   "source": [
    "sent_long = '''Although the most extreme forms of this faith, with their dehumanising visions of individuals as instruments of abstract historical forces, have led to criminal perversions of political practice, Berlin emphasies that the faith itself cannot be dismissed as the product of sick minds.'''"
   ]
  },
  {
   "cell_type": "code",
   "execution_count": 27,
   "id": "30af155e-f6fc-4ca9-93d3-0f012a3de289",
   "metadata": {},
   "outputs": [
    {
     "name": "stdout",
     "output_type": "stream",
     "text": [
      "Although the most extreme forms of this faith, with their dehumanising visions of individuals as instruments of abstract historical forces, have led to criminal perversions of political practice, Berlin emphasies that the faith itself cannot be dismissed as the product of sick minds.\n"
     ]
    }
   ],
   "source": [
    "print(sent_long)"
   ]
  },
  {
   "cell_type": "code",
   "execution_count": 28,
   "id": "1fc41d67-d9f0-4c65-a68d-6616754112eb",
   "metadata": {},
   "outputs": [
    {
     "name": "stdout",
     "output_type": "stream",
     "text": [
      "[('Although', 'IN'), ('the', 'DT'), ('most', 'RBS'), ('extreme', 'JJ'), ('forms', 'NNS'), ('of', 'IN'), ('this', 'DT'), ('faith', 'NN'), (',', ','), ('with', 'IN'), ('their', 'PRP$'), ('dehumanising', 'JJ'), ('visions', 'NNS'), ('of', 'IN'), ('individuals', 'NNS'), ('as', 'IN'), ('instruments', 'NNS'), ('of', 'IN'), ('abstract', 'JJ'), ('historical', 'JJ'), ('forces', 'NNS'), (',', ','), ('have', 'VBP'), ('led', 'VBN'), ('to', 'TO'), ('criminal', 'JJ'), ('perversions', 'NNS'), ('of', 'IN'), ('political', 'JJ'), ('practice', 'NN'), (',', ','), ('Berlin', 'NNP'), ('emphasies', 'VBZ'), ('that', 'IN'), ('the', 'DT'), ('faith', 'NN'), ('itself', 'PRP'), ('can', 'MD'), ('not', 'RB'), ('be', 'VB'), ('dismissed', 'VBN'), ('as', 'IN'), ('the', 'DT'), ('product', 'NN'), ('of', 'IN'), ('sick', 'JJ'), ('minds', 'NNS'), ('.', '.')]\n"
     ]
    }
   ],
   "source": [
    "word_long_tokens = word_tokenize(sent_long)\n",
    "long_tags = nltk.pos_tag(word_long_tokens)\n",
    "print(long_tags)"
   ]
  },
  {
   "cell_type": "markdown",
   "id": "62eecbdb-64e9-4dd9-a8b7-52c808ace9ca",
   "metadata": {},
   "source": [
    "#### b. Short Sentence"
   ]
  },
  {
   "cell_type": "code",
   "execution_count": 49,
   "id": "a02f0711-30eb-4e94-be7c-0e58d7859a79",
   "metadata": {},
   "outputs": [
    {
     "name": "stdout",
     "output_type": "stream",
     "text": [
      "I was alone\n"
     ]
    }
   ],
   "source": [
    "sent_short = '''I was alone'''\n",
    "print(sent_short)"
   ]
  },
  {
   "cell_type": "code",
   "execution_count": 50,
   "id": "c74a1ab2-459f-4938-bb1e-65ef57afefb4",
   "metadata": {},
   "outputs": [
    {
     "data": {
      "text/plain": [
       "[('I', 'PRP'), ('was', 'VBD'), ('alone', 'RB')]"
      ]
     },
     "execution_count": 50,
     "metadata": {},
     "output_type": "execute_result"
    }
   ],
   "source": [
    "word_short_tokens = word_tokenize(sent_short)\n",
    "short_tags = nltk.pos_tag(word_short_tokens)\n",
    "short_tags"
   ]
  },
  {
   "cell_type": "markdown",
   "id": "3b1cb01e-ddb8-4186-8101-96bcaade26a9",
   "metadata": {},
   "source": [
    "## 2. Run Second POS Tagger"
   ]
  },
  {
   "cell_type": "code",
   "execution_count": null,
   "id": "f37340fb-c41d-4bb2-afd3-87631c26b47c",
   "metadata": {},
   "outputs": [],
   "source": []
  },
  {
   "cell_type": "code",
   "execution_count": null,
   "id": "91d15a7a-c1bd-45ec-b0b9-9efd44fed5a9",
   "metadata": {},
   "outputs": [],
   "source": []
  },
  {
   "cell_type": "markdown",
   "id": "744dbf96-09ae-4eca-b71b-9ebc62f1f05c",
   "metadata": {},
   "source": [
    "## 3. Random Sentence From Article"
   ]
  },
  {
   "cell_type": "code",
   "execution_count": null,
   "id": "a50ba7f4-c6f6-454a-bcb3-5ce6b47e81e6",
   "metadata": {},
   "outputs": [],
   "source": []
  }
 ],
 "metadata": {
  "kernelspec": {
   "display_name": "Python 3 (ipykernel)",
   "language": "python",
   "name": "python3"
  },
  "language_info": {
   "codemirror_mode": {
    "name": "ipython",
    "version": 3
   },
   "file_extension": ".py",
   "mimetype": "text/x-python",
   "name": "python",
   "nbconvert_exporter": "python",
   "pygments_lexer": "ipython3",
   "version": "3.9.12"
  }
 },
 "nbformat": 4,
 "nbformat_minor": 5
}
