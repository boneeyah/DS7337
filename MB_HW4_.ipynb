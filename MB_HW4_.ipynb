{
 "cells": [
  {
   "cell_type": "markdown",
   "id": "097150a3-4463-43ff-86ae-9c07b0be28e1",
   "metadata": {},
   "source": [
    "# NLP - Homework 4\n",
    "### Miguel Bonilla"
   ]
  },
  {
   "cell_type": "markdown",
   "id": "030f900e-4707-499c-8d1b-1bf2d4e285a6",
   "metadata": {},
   "source": [
    "1. [Run First POS Tagger](#1.-Run-First-POS-Tagger)\n",
    "    - [a. Long Sentence](#a.-Long-Sentence)\n",
    "    - [b. Short Sentence](#b.-Short-Sentence)\n",
    "2. [Run Second POS Tagger](#2.-Run-Second-POS-Tagger)\n",
    "    - [a. Does it Produce the Same Outcome?](#a.-Does-it-Produce-the-Same-Outcome?)\n",
    "    - [b. Explain Any Differences](#b.-Explain-Any-Differences)\n",
    "3. [Random Sentence From Article](#3.-Random-Sentence-From-Article)\n",
    "    - [a. Manual Tagging with Penn Tagset](#a.-Manual-Tagging-with-Penn-Tagset:)\n",
    "    - [b. Run Sentence Through Both Taggers](#b.-Run-Sentence-Through-Both-Taggers)\n",
    "    - [c. Explain the Differences](#c.-Explain-the-Differences)"
   ]
  },
  {
   "cell_type": "markdown",
   "id": "be317402-e4d7-4ced-8457-71fe72691f88",
   "metadata": {},
   "source": [
    "1.\tRun one of the part-of-speech (POS) taggers available in Python. \n",
    "    a.\tFind the longest sentence you can, longer than 10 words, that the POS tagger tags correctly. Show the input and output.  \n",
    "    b.\tFind the shortest sentence you can, shorter than 10 words, that the POS tagger fails to tag 100 percent correctly. Show the input and output. Explain your conjecture as to why the tagger might have been less than perfect with this sentence.\n",
    "\n",
    "2.\tRun a different POS tagger in Python. Process the same two sentences from question 1.\n",
    "    a.\tDoes it produce the same or different output?  \n",
    "    b.\tExplain any differences as best you can.\n",
    "\n",
    "3.\tIn a news article from this week’s news, find a random sentence of at least 10 words.\n",
    "    a.\tLooking at the Penn tag set, manually POS tag the sentence yourself.  \n",
    "    b.\tNow run the same sentences through both taggers that you implemented for questions 1 and 2. Did either of the taggers produce the same results as you had created manually?  \n",
    "    c.\tExplain any differences between the two taggers and your manual tagging as much as you can.\n"
   ]
  },
  {
   "cell_type": "code",
   "execution_count": 1,
   "id": "a8bf03ce-8a6d-475c-8b7b-f706c73dca7b",
   "metadata": {},
   "outputs": [],
   "source": [
    "import nltk\n",
    "from nltk.tokenize import word_tokenize"
   ]
  },
  {
   "cell_type": "markdown",
   "id": "0457d9a9-9ac4-420c-ba1c-7b13aedfa576",
   "metadata": {},
   "source": [
    "## 1. Run First POS Tagger"
   ]
  },
  {
   "cell_type": "markdown",
   "id": "4aaf825e-9314-41fc-a7b1-ed6b5c607eb3",
   "metadata": {},
   "source": [
    "#### a. Long Sentence"
   ]
  },
  {
   "cell_type": "code",
   "execution_count": 2,
   "id": "17ad31a9-a5e1-4ecb-aa1d-22b3045684d0",
   "metadata": {},
   "outputs": [],
   "source": [
    "### 43 word long sentence, from Russian Thinkers by Isaiah Berlin\n",
    "sent_long = '''Although the most extreme forms of this faith, with their dehumanising visions of individuals as instruments of abstract historical forces, have led to criminal perversions of political practice, Berlin emphasises that the faith itself cannot be dismissed as the product of sick minds.'''"
   ]
  },
  {
   "cell_type": "code",
   "execution_count": 3,
   "id": "30af155e-f6fc-4ca9-93d3-0f012a3de289",
   "metadata": {},
   "outputs": [
    {
     "name": "stdout",
     "output_type": "stream",
     "text": [
      "Although the most extreme forms of this faith, with their dehumanising visions of individuals as instruments of abstract historical forces, have led to criminal perversions of political practice, Berlin emphasises that the faith itself cannot be dismissed as the product of sick minds.\n"
     ]
    }
   ],
   "source": [
    "print(sent_long)"
   ]
  },
  {
   "cell_type": "code",
   "execution_count": 4,
   "id": "1fc41d67-d9f0-4c65-a68d-6616754112eb",
   "metadata": {},
   "outputs": [
    {
     "name": "stdout",
     "output_type": "stream",
     "text": [
      "[('Although', 'IN'), ('the', 'DT'), ('most', 'RBS'), ('extreme', 'JJ'), ('forms', 'NNS'), ('of', 'IN'), ('this', 'DT'), ('faith', 'NN'), (',', ','), ('with', 'IN'), ('their', 'PRP$'), ('dehumanising', 'JJ'), ('visions', 'NNS'), ('of', 'IN'), ('individuals', 'NNS'), ('as', 'IN'), ('instruments', 'NNS'), ('of', 'IN'), ('abstract', 'JJ'), ('historical', 'JJ'), ('forces', 'NNS'), (',', ','), ('have', 'VBP'), ('led', 'VBN'), ('to', 'TO'), ('criminal', 'JJ'), ('perversions', 'NNS'), ('of', 'IN'), ('political', 'JJ'), ('practice', 'NN'), (',', ','), ('Berlin', 'NNP'), ('emphasises', 'VBZ'), ('that', 'IN'), ('the', 'DT'), ('faith', 'NN'), ('itself', 'PRP'), ('can', 'MD'), ('not', 'RB'), ('be', 'VB'), ('dismissed', 'VBN'), ('as', 'IN'), ('the', 'DT'), ('product', 'NN'), ('of', 'IN'), ('sick', 'JJ'), ('minds', 'NNS'), ('.', '.')]\n"
     ]
    }
   ],
   "source": [
    "## tag words using the pos_tag function from NLTK, which uses a version of the Penntree tagset\n",
    "word_long_tokens = word_tokenize(sent_long)\n",
    "long_tags = nltk.pos_tag(word_long_tokens)\n",
    "print(long_tags)"
   ]
  },
  {
   "cell_type": "markdown",
   "id": "60b1b42e-db2f-41ab-99de-aba6dbdef8d0",
   "metadata": {},
   "source": [
    "The default tagger, surprisingly, tags this 43 word sentence correctly. Moreover, the sentence is written in UK English, with words that are spelled differently from American English. Perhaps most surprisingly, it properly tagged \"dehumanising\" and \"abstract\" as adjectives, based on the context."
   ]
  },
  {
   "cell_type": "markdown",
   "id": "62eecbdb-64e9-4dd9-a8b7-52c808ace9ca",
   "metadata": {},
   "source": [
    "#### b. Short Sentence"
   ]
  },
  {
   "cell_type": "code",
   "execution_count": 5,
   "id": "a02f0711-30eb-4e94-be7c-0e58d7859a79",
   "metadata": {},
   "outputs": [
    {
     "name": "stdout",
     "output_type": "stream",
     "text": [
      "John was alone\n"
     ]
    }
   ],
   "source": [
    "sent_short = '''John was alone'''\n",
    "print(sent_short)"
   ]
  },
  {
   "cell_type": "code",
   "execution_count": 6,
   "id": "c74a1ab2-459f-4938-bb1e-65ef57afefb4",
   "metadata": {},
   "outputs": [
    {
     "data": {
      "text/plain": [
       "[('John', 'NNP'), ('was', 'VBD'), ('alone', 'RB')]"
      ]
     },
     "execution_count": 6,
     "metadata": {},
     "output_type": "execute_result"
    }
   ],
   "source": [
    "word_short_tokens = word_tokenize(sent_short)\n",
    "short_tags = nltk.pos_tag(word_short_tokens)\n",
    "short_tags"
   ]
  },
  {
   "cell_type": "markdown",
   "id": "1afe9527-8f0a-4141-bc79-4c5d350723cd",
   "metadata": {},
   "source": [
    "In this case, the tagger incorregly tagged the word alone as an adverb, when in this context it is an adjective, since it's not modifying the verb (or an adjective or other adverb). A multi-step tagging process would have included the default tagger first, which would have ensured no words were left untagged. "
   ]
  },
  {
   "cell_type": "markdown",
   "id": "3b1cb01e-ddb8-4186-8101-96bcaade26a9",
   "metadata": {},
   "source": [
    "## 2. Run Second POS Tagger"
   ]
  },
  {
   "cell_type": "code",
   "execution_count": 7,
   "id": "f37340fb-c41d-4bb2-afd3-87631c26b47c",
   "metadata": {},
   "outputs": [],
   "source": [
    "from nltk.corpus import brown\n",
    "from nltk.corpus import treebank\n",
    "from nltk.tag import UnigramTagger"
   ]
  },
  {
   "cell_type": "code",
   "execution_count": 8,
   "id": "ba1bb88a-06f2-4168-bf12-10994c0a6bb8",
   "metadata": {},
   "outputs": [],
   "source": [
    "tagger = UnigramTagger(treebank.tagged_sents())"
   ]
  },
  {
   "cell_type": "code",
   "execution_count": null,
   "id": "6ba970d2-b2a8-4111-8133-aa6f211e97e0",
   "metadata": {},
   "outputs": [],
   "source": [
    "# define a UnigramTagger function for the sentences tagged previously.\n",
    "def pos_unigram(sent):\n",
    "    tags = tagger.tag(sent)\n",
    "    print(tags)"
   ]
  },
  {
   "cell_type": "code",
   "execution_count": 10,
   "id": "88003b9f-a16d-4db6-b8b3-4977e0317fc8",
   "metadata": {},
   "outputs": [
    {
     "name": "stdout",
     "output_type": "stream",
     "text": [
      "[('Although', 'IN'), ('the', 'DT'), ('most', 'JJS'), ('extreme', None), ('forms', 'NNS'), ('of', 'IN'), ('this', 'DT'), ('faith', 'NN'), (',', ','), ('with', 'IN'), ('their', 'PRP$'), ('dehumanising', None), ('visions', None), ('of', 'IN'), ('individuals', 'NNS'), ('as', 'IN'), ('instruments', 'NNS'), ('of', 'IN'), ('abstract', None), ('historical', 'JJ'), ('forces', 'NNS'), (',', ','), ('have', 'VBP'), ('led', 'VBN'), ('to', 'TO'), ('criminal', 'JJ'), ('perversions', None), ('of', 'IN'), ('political', 'JJ'), ('practice', 'NN'), (',', ','), ('Berlin', 'NNP'), ('emphasises', None), ('that', 'IN'), ('the', 'DT'), ('faith', 'NN'), ('itself', 'PRP'), ('can', 'MD'), ('not', 'RB'), ('be', 'VB'), ('dismissed', 'VBN'), ('as', 'IN'), ('the', 'DT'), ('product', 'NN'), ('of', 'IN'), ('sick', None), ('minds', None), ('.', '.')]\n"
     ]
    }
   ],
   "source": [
    "pos_unigram(word_long_tokens)"
   ]
  },
  {
   "cell_type": "code",
   "execution_count": null,
   "id": "08907112-5788-4caa-a41c-4d0600c5d44f",
   "metadata": {},
   "outputs": [],
   "source": [
    "pos_unigram(word_short_tokens)"
   ]
  },
  {
   "cell_type": "markdown",
   "id": "dec5b58a-05f0-4dc3-a8d1-075b40741c74",
   "metadata": {},
   "source": [
    "#### a. Does it Produce the Same Outcome?"
   ]
  },
  {
   "cell_type": "markdown",
   "id": "8cf4a5c2-920f-465a-a42e-92a1ff9e5ec1",
   "metadata": {},
   "source": [
    "For the longer sentence, we can see that it produces a different outcome from the tags in part 1. There are several words which did not get tagged, a multi-step tagging process would have begun by introducing the default tagger, which would have ensured no words were left untagged.\n",
    "\n",
    "the short sentence, was tagged the same exact way as it was tagged in part 1, but it should be noted both instances are incorrect, since as mentioned previously, the word alone is an adjective in the context of the short sentence."
   ]
  },
  {
   "cell_type": "markdown",
   "id": "19b4db80-d520-486e-aaa8-87478abd1512",
   "metadata": {},
   "source": [
    "#### b. Explain Any Differences"
   ]
  },
  {
   "cell_type": "markdown",
   "id": "d7fb6ea3-e610-42f0-be32-bdb09ea50847",
   "metadata": {},
   "source": [
    "For the longer sentence, we can see that for the word sequence \"the most extreme\", the unigram tagger improperly tags \"most\" as an adjective and leaves extreme untagged. The unigram tagger in this case was unable to identify that the word most was modifying the word extreme, which is itself an adjective, meaning most is in this case an adverb. A bigram tagger should have been able to properly tag that bigram.\n",
    "\n",
    "The words dehumanising, visions and abstract, were both properly tagged as adjective in step 1, but both failed to get tagged by the unigram tagger. The POS tagger probably uses a more sophisticated, n-gram approach, looking at a sequence of words and being able to make a determination based on the statistical probabilities of the preceeding and proceeding words."
   ]
  },
  {
   "cell_type": "markdown",
   "id": "744dbf96-09ae-4eca-b71b-9ebc62f1f05c",
   "metadata": {},
   "source": [
    "## 3. Random Sentence From Article"
   ]
  },
  {
   "cell_type": "code",
   "execution_count": 16,
   "id": "0eeaf0ce-13f1-40b3-a18e-c8ef8ea12f35",
   "metadata": {},
   "outputs": [],
   "source": [
    "### news sentence, 13 words long. From \"Jimmy Carter's Presidency Was Not What You Think\", from the NYTimes.\n",
    "news_sent = '''He decided to use power righteously, ignore politics and do the right thing.'''"
   ]
  },
  {
   "cell_type": "markdown",
   "id": "11f79d54-75ec-4a0c-96a9-dc9d3296bf11",
   "metadata": {},
   "source": [
    "#### a. Manual Tagging with Penn Tagset:\n",
    "\n",
    "word | tag\n",
    "-----|----\n",
    "He | PRP (Personal Pronoun)\n",
    "decided | VBD (Verb past tense)\n",
    "to | TO (infinitive 'to')\n",
    "use | VB (Verb base form)\n",
    "power | NN (Noun singular)\n",
    "righteously | RB (Adverb)\n",
    "ignore | VB (Verb base form)\n",
    "politics | NNS (Noun, plural)\n",
    "and | CC (Coordinating Conjunction)\n",
    "do | VB (Verb base form)\n",
    "the | DT (Determiner)\n",
    "right | JJ (Adjective)\n",
    "thing | NN (Noun, singular)"
   ]
  },
  {
   "cell_type": "markdown",
   "id": "b01fe7b2-35a3-46c8-ba70-671a719d6019",
   "metadata": {},
   "source": [
    "#### b. Run Sentence Through Both Taggers"
   ]
  },
  {
   "cell_type": "code",
   "execution_count": 18,
   "id": "e3c8e4b8-85c3-4f60-9454-53269f3cffe1",
   "metadata": {},
   "outputs": [
    {
     "name": "stdout",
     "output_type": "stream",
     "text": [
      "[('He', 'PRP'), ('decided', 'VBD'), ('to', 'TO'), ('use', 'VB'), ('power', 'NN'), ('righteously', 'RB'), (',', ','), ('ignore', 'NN'), ('politics', 'NNS'), ('and', 'CC'), ('do', 'VBP'), ('the', 'DT'), ('right', 'JJ'), ('thing', 'NN'), ('.', '.')]\n"
     ]
    }
   ],
   "source": [
    "##tokenize sentence\n",
    "word_news_tokens = word_tokenize(news_sent)\n",
    "\n",
    "#tagger from part 1\n",
    "news_tags = nltk.pos_tag(word_news_tokens)\n",
    "print(news_tags)"
   ]
  },
  {
   "cell_type": "code",
   "execution_count": 17,
   "id": "d4f1d16c-876b-40e7-a2cf-b0b4ed52ed6f",
   "metadata": {},
   "outputs": [
    {
     "name": "stdout",
     "output_type": "stream",
     "text": [
      "[('He', 'PRP'), ('decided', 'VBD'), ('to', 'TO'), ('use', 'NN'), ('power', 'NN'), ('righteously', None), (',', ','), ('ignore', None), ('politics', 'NNS'), ('and', 'CC'), ('do', 'VBP'), ('the', 'DT'), ('right', 'NN'), ('thing', 'NN'), ('.', '.')]\n"
     ]
    }
   ],
   "source": [
    "### tagger from part 2\n",
    "pos_unigram(word_news_tokens)"
   ]
  },
  {
   "cell_type": "markdown",
   "id": "26f55cf0-bcce-4e1e-9479-d63436904b4a",
   "metadata": {},
   "source": [
    "Neither of the taggers produced the exact same results as my manually tagged sentence. The first tagger, improperly tagged \"ignore\" as a noun, when it is in this case a verb. Additionally, the word \"do\" was tagged as VBP, meaning Verb non-3rd ps. singular present (not sure in this case if mine is the correct tag or if the automated tagger is correct in this case). \n",
    "\n",
    "The unigram tagger incorrectly tagged \"use\" as a noun when it is a verb, it also failed to tag righteously as an adverb and ignore as a verb."
   ]
  },
  {
   "cell_type": "markdown",
   "id": "b7f08b4a-bb1e-455b-a160-2b1da9ce44b6",
   "metadata": {},
   "source": [
    "#### c. Explain the Differences"
   ]
  },
  {
   "cell_type": "code",
   "execution_count": null,
   "id": "fb57d2ce-aa09-4b46-b4b9-151f1d41d39c",
   "metadata": {},
   "outputs": [],
   "source": []
  }
 ],
 "metadata": {
  "kernelspec": {
   "display_name": "Python 3 (ipykernel)",
   "language": "python",
   "name": "python3"
  },
  "language_info": {
   "codemirror_mode": {
    "name": "ipython",
    "version": 3
   },
   "file_extension": ".py",
   "mimetype": "text/x-python",
   "name": "python",
   "nbconvert_exporter": "python",
   "pygments_lexer": "ipython3",
   "version": "3.9.15"
  }
 },
 "nbformat": 4,
 "nbformat_minor": 5
}
