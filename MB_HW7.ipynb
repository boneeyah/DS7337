{
 "cells": [
  {
   "cell_type": "markdown",
   "id": "9991eaaa-b2c9-4281-ba14-1f0fb68390c8",
   "metadata": {},
   "source": [
    "# NLP - HW7\n",
    "### Miguel Bonilla"
   ]
  },
  {
   "cell_type": "code",
   "execution_count": 1,
   "id": "f75157ca-fb0f-47c7-a895-8fd2af807a32",
   "metadata": {},
   "outputs": [],
   "source": [
    "import nltk\n",
    "from nltk.tokenize import sent_tokenize\n",
    "from nltk.tokenize import word_tokenize\n",
    "import pandas as pd\n",
    "import numpy as np\n",
    "from bs4 import BeautifulSoup\n",
    "from requests import get\n",
    "import re\n",
    "import contractions\n",
    "from sklearn.feature_extraction.text import CountVectorizer"
   ]
  },
  {
   "cell_type": "markdown",
   "id": "cd02ee14-a509-4702-8350-a82eece81417",
   "metadata": {},
   "source": [
    "- [1. Clustering with K-Means](#1.-Clustering-with-K-Means)\n",
    "- [2. Characterize Each Cluster](#2.-Characterize-Each-Cluster)"
   ]
  },
  {
   "cell_type": "markdown",
   "id": "606a2d2c-b0fc-4e51-9c15-1cbeee09893d",
   "metadata": {},
   "source": [
    "Cluster the reviews that you collected in homework 5, by doing the following:  \n",
    "1. In Python, select any one of the clustering methods covered in this course. Run it over the\n",
    "collection of reviews, and show at least two different ways of clustering the reviews, e.g.,\n",
    "changing k in k-Means clustering or changing where you “cut” in Agnes or Diana.  \n",
    "2. Try to write a short phrase to characterize (give a natural interpretation of) what each\n",
    "cluster is generally centered on semantically. Is this hard to do in some cases? If so, make\n",
    "note of that fact.  \n",
    "3. Explain which of the two clustering results from question 1 is preferable (if one of them is),\n",
    "and why.  \n",
    "Submit all of your inputs and outputs and your code for this assignment, along with a brief written\n",
    "explanation of your findings"
   ]
  },
  {
   "cell_type": "markdown",
   "id": "4cca48a1-79e2-4d12-a77f-b6afb325845c",
   "metadata": {},
   "source": [
    "### 1. Clustering with K-Means\n",
    "#### a. Loading and Normalizing Data"
   ]
  },
  {
   "cell_type": "code",
   "execution_count": 2,
   "id": "7942e703-4dc3-47b6-85c1-b06c07838a75",
   "metadata": {},
   "outputs": [],
   "source": [
    "### assign headers since IMDB rejects the requests without it\n",
    "headers = {'User-Agent':'Mozilla/5.0 (X11; Linux x86_64) AppleWebKit/537.36 (KHTML, like Gecko) Chrome/110.0.0.0 Safari/537.36 Edg/110.0.1587.50'}"
   ]
  },
  {
   "cell_type": "code",
   "execution_count": 3,
   "id": "9537e1d5-8197-4f90-b91c-96608e3b3ca1",
   "metadata": {},
   "outputs": [],
   "source": [
    "## load static URL list (from HW5)\n",
    "\n",
    "url_list = pd.read_csv(\"https://raw.githubusercontent.com/boneeyah/DS7337/main/mb_hw5_urls.csv\")"
   ]
  },
  {
   "cell_type": "code",
   "execution_count": 4,
   "id": "366ca4f6-df14-4f3e-bce5-6f1e6b70fd6d",
   "metadata": {},
   "outputs": [],
   "source": [
    "# function goes through the table with the URLs to get each direct URL\n",
    "# Parses through the content of each URL to grab the main review\n",
    "# tokenizes the sentences of each review\n",
    "# returns a dataframe with the movie title, review id, and the setence tokens\n",
    "def grab_review(links_table):\n",
    "    text = []\n",
    "    for i in range(len(links_table)):\n",
    "        review = get(links_table.url[i],headers)\n",
    "        review_soup = BeautifulSoup(review.content, 'html.parser')\n",
    "        text.append(review_soup.find(class_='text show-more__control').text)\n",
    "    return(pd.DataFrame({'movie':links_table.movie,\n",
    "                         'review':links_table.review,\n",
    "                         'text':text                         \n",
    "                        }))"
   ]
  },
  {
   "cell_type": "code",
   "execution_count": 5,
   "id": "845d6146-e895-427c-9427-f4644bc26bf0",
   "metadata": {},
   "outputs": [],
   "source": [
    "review_text = grab_review(url_list)"
   ]
  },
  {
   "cell_type": "code",
   "execution_count": 169,
   "id": "734af08f-a933-442b-a0a6-1bc199fe2a48",
   "metadata": {},
   "outputs": [],
   "source": [
    "special = ['\\x96',':',',','-','(',')','[',']','–','/','#','``',';','.','&','\"',\"''\",'?','!','....','--','...','*','..',\"'\"]\n",
    "stop_words = nltk.corpus.stopwords.words('english') + ['movie','film','horror', 'thing','quiet','place','alien','covenant','shining','films']\n",
    "special = stop_words + [\"'s\",\"'t\",\"'d\",\"'ll\",\"'m\",\"'re\",\"'ve\",\"n't\"] + special"
   ]
  },
  {
   "cell_type": "code",
   "execution_count": 170,
   "id": "eec7a1cb-8780-4fac-b39c-466c799e724b",
   "metadata": {},
   "outputs": [],
   "source": [
    "def normalize_list(review_list):\n",
    "    term = [word_tokenize(term.lower()) for term in review_list]\n",
    "    blank_list = []\n",
    "    for i in range(len(review_list)):\n",
    "        blank_list.append(' '.join([w for w in term[i] if w not in special]))\n",
    "    return(np.array(blank_list))"
   ]
  },
  {
   "cell_type": "code",
   "execution_count": 171,
   "id": "15aa1884-927c-4dba-8fdd-14f8b7e20893",
   "metadata": {},
   "outputs": [],
   "source": [
    "norm_corpus = normalize_list(review_text.text)"
   ]
  },
  {
   "cell_type": "markdown",
   "id": "4f12495a-ccac-487b-beb7-980e23fbdd03",
   "metadata": {},
   "source": [
    "#### b. K-Means with K = 6"
   ]
  },
  {
   "cell_type": "code",
   "execution_count": 172,
   "id": "92d2d2a3-2a8f-44be-be8d-7d1eead9b772",
   "metadata": {},
   "outputs": [
    {
     "data": {
      "text/plain": [
       "(100, 40)"
      ]
     },
     "execution_count": 172,
     "metadata": {},
     "output_type": "execute_result"
    }
   ],
   "source": [
    "cv = CountVectorizer(ngram_range=(1,2), max_df=.8,min_df=25)\n",
    "cv_matrix = cv.fit_transform(norm_corpus)\n",
    "cv_matrix.shape"
   ]
  },
  {
   "cell_type": "code",
   "execution_count": 173,
   "id": "59660801-e661-41e2-bbdd-021592f8addf",
   "metadata": {},
   "outputs": [
    {
     "data": {
      "text/html": [
       "<style>#sk-container-id-33 {color: black;background-color: white;}#sk-container-id-33 pre{padding: 0;}#sk-container-id-33 div.sk-toggleable {background-color: white;}#sk-container-id-33 label.sk-toggleable__label {cursor: pointer;display: block;width: 100%;margin-bottom: 0;padding: 0.3em;box-sizing: border-box;text-align: center;}#sk-container-id-33 label.sk-toggleable__label-arrow:before {content: \"▸\";float: left;margin-right: 0.25em;color: #696969;}#sk-container-id-33 label.sk-toggleable__label-arrow:hover:before {color: black;}#sk-container-id-33 div.sk-estimator:hover label.sk-toggleable__label-arrow:before {color: black;}#sk-container-id-33 div.sk-toggleable__content {max-height: 0;max-width: 0;overflow: hidden;text-align: left;background-color: #f0f8ff;}#sk-container-id-33 div.sk-toggleable__content pre {margin: 0.2em;color: black;border-radius: 0.25em;background-color: #f0f8ff;}#sk-container-id-33 input.sk-toggleable__control:checked~div.sk-toggleable__content {max-height: 200px;max-width: 100%;overflow: auto;}#sk-container-id-33 input.sk-toggleable__control:checked~label.sk-toggleable__label-arrow:before {content: \"▾\";}#sk-container-id-33 div.sk-estimator input.sk-toggleable__control:checked~label.sk-toggleable__label {background-color: #d4ebff;}#sk-container-id-33 div.sk-label input.sk-toggleable__control:checked~label.sk-toggleable__label {background-color: #d4ebff;}#sk-container-id-33 input.sk-hidden--visually {border: 0;clip: rect(1px 1px 1px 1px);clip: rect(1px, 1px, 1px, 1px);height: 1px;margin: -1px;overflow: hidden;padding: 0;position: absolute;width: 1px;}#sk-container-id-33 div.sk-estimator {font-family: monospace;background-color: #f0f8ff;border: 1px dotted black;border-radius: 0.25em;box-sizing: border-box;margin-bottom: 0.5em;}#sk-container-id-33 div.sk-estimator:hover {background-color: #d4ebff;}#sk-container-id-33 div.sk-parallel-item::after {content: \"\";width: 100%;border-bottom: 1px solid gray;flex-grow: 1;}#sk-container-id-33 div.sk-label:hover label.sk-toggleable__label {background-color: #d4ebff;}#sk-container-id-33 div.sk-serial::before {content: \"\";position: absolute;border-left: 1px solid gray;box-sizing: border-box;top: 0;bottom: 0;left: 50%;z-index: 0;}#sk-container-id-33 div.sk-serial {display: flex;flex-direction: column;align-items: center;background-color: white;padding-right: 0.2em;padding-left: 0.2em;position: relative;}#sk-container-id-33 div.sk-item {position: relative;z-index: 1;}#sk-container-id-33 div.sk-parallel {display: flex;align-items: stretch;justify-content: center;background-color: white;position: relative;}#sk-container-id-33 div.sk-item::before, #sk-container-id-33 div.sk-parallel-item::before {content: \"\";position: absolute;border-left: 1px solid gray;box-sizing: border-box;top: 0;bottom: 0;left: 50%;z-index: -1;}#sk-container-id-33 div.sk-parallel-item {display: flex;flex-direction: column;z-index: 1;position: relative;background-color: white;}#sk-container-id-33 div.sk-parallel-item:first-child::after {align-self: flex-end;width: 50%;}#sk-container-id-33 div.sk-parallel-item:last-child::after {align-self: flex-start;width: 50%;}#sk-container-id-33 div.sk-parallel-item:only-child::after {width: 0;}#sk-container-id-33 div.sk-dashed-wrapped {border: 1px dashed gray;margin: 0 0.4em 0.5em 0.4em;box-sizing: border-box;padding-bottom: 0.4em;background-color: white;}#sk-container-id-33 div.sk-label label {font-family: monospace;font-weight: bold;display: inline-block;line-height: 1.2em;}#sk-container-id-33 div.sk-label-container {text-align: center;}#sk-container-id-33 div.sk-container {/* jupyter's `normalize.less` sets `[hidden] { display: none; }` but bootstrap.min.css set `[hidden] { display: none !important; }` so we also need the `!important` here to be able to override the default hidden behavior on the sphinx rendered scikit-learn.org. See: https://github.com/scikit-learn/scikit-learn/issues/21755 */display: inline-block !important;position: relative;}#sk-container-id-33 div.sk-text-repr-fallback {display: none;}</style><div id=\"sk-container-id-33\" class=\"sk-top-container\"><div class=\"sk-text-repr-fallback\"><pre>KMeans(max_iter=1000, n_clusters=6, n_init=500, random_state=326)</pre><b>In a Jupyter environment, please rerun this cell to show the HTML representation or trust the notebook. <br />On GitHub, the HTML representation is unable to render, please try loading this page with nbviewer.org.</b></div><div class=\"sk-container\" hidden><div class=\"sk-item\"><div class=\"sk-estimator sk-toggleable\"><input class=\"sk-toggleable__control sk-hidden--visually\" id=\"sk-estimator-id-33\" type=\"checkbox\" checked><label for=\"sk-estimator-id-33\" class=\"sk-toggleable__label sk-toggleable__label-arrow\">KMeans</label><div class=\"sk-toggleable__content\"><pre>KMeans(max_iter=1000, n_clusters=6, n_init=500, random_state=326)</pre></div></div></div></div></div>"
      ],
      "text/plain": [
       "KMeans(max_iter=1000, n_clusters=6, n_init=500, random_state=326)"
      ]
     },
     "execution_count": 173,
     "metadata": {},
     "output_type": "execute_result"
    }
   ],
   "source": [
    "from sklearn.cluster import KMeans\n",
    "NUM_Clusters = 6\n",
    "km = KMeans(n_clusters=NUM_Clusters, max_iter=1000,n_init=500,random_state=326).fit(cv_matrix)\n",
    "km"
   ]
  },
  {
   "cell_type": "code",
   "execution_count": 174,
   "id": "62d25163-e29f-4941-9bda-e14e15328278",
   "metadata": {},
   "outputs": [
    {
     "data": {
      "text/plain": [
       "Counter({2: 7, 3: 51, 0: 23, 1: 8, 4: 3, 5: 8})"
      ]
     },
     "execution_count": 174,
     "metadata": {},
     "output_type": "execute_result"
    }
   ],
   "source": [
    "from collections import Counter\n",
    "Counter(km.labels_)"
   ]
  },
  {
   "cell_type": "code",
   "execution_count": 175,
   "id": "cd404c33-3550-4730-99c1-a647f83e4dec",
   "metadata": {},
   "outputs": [],
   "source": [
    "review_text['kmeans_cluster'] = km.labels_"
   ]
  },
  {
   "cell_type": "code",
   "execution_count": 176,
   "id": "7f9ba391-2fd3-4a8e-a235-a2ab1fdfbfd2",
   "metadata": {},
   "outputs": [],
   "source": [
    "movie_clusters = (review_text[['movie','review','kmeans_cluster']].sort_values(by='kmeans_cluster',ascending=False))"
   ]
  },
  {
   "cell_type": "code",
   "execution_count": 177,
   "id": "95eca1c7-9b2d-40d6-9e0d-53ae18a4351a",
   "metadata": {},
   "outputs": [
    {
     "name": "stdout",
     "output_type": "stream",
     "text": [
      "CLUSTER#1\n",
      "Key Features: ['one', 'time', 'seen', 'see', 'the', 'best', 'ever', 'good', 'well', 'world']\n",
      "Movies:\n",
      "The_Shining      11\n",
      "The_Thing         8\n",
      "A_Quiet_Place     4\n",
      "---------------------\n",
      "CLUSTER#2\n",
      "Key Features: ['like', 'even', 'story', 'movies', 'make', 'one', 'would', 'making', 'never', 'characters']\n",
      "Movies:\n",
      "Alien_Covenant    3\n",
      "The_Shining       2\n",
      "A_Quiet_Place     2\n",
      "The_Thing         1\n",
      "---------------------\n",
      "CLUSTER#3\n",
      "Key Features: ['one', 'much', 'best', 'story', 'also', 'well', 'way', 'like', 'made', 'even']\n",
      "Movies:\n",
      "The_Thing         3\n",
      "The_Shining       2\n",
      "Alien_Covenant    1\n",
      "A_Quiet_Place     1\n",
      "---------------------\n",
      "CLUSTER#4\n",
      "Key Features: ['get', 'even', 'one', 'characters', 'like', 'time', 'good', 'well', 'see', 'much']\n",
      "Movies:\n",
      "Alien_Covenant    19\n",
      "A_Quiet_Place     12\n",
      "The_Thing         11\n",
      "The_Shining        9\n",
      "---------------------\n",
      "CLUSTER#5\n",
      "Key Features: ['also', 'the', 'like', 'would', 'story', 'one', 'make', 'could', 'even', 'many']\n",
      "Movies:\n",
      "The_Thing      2\n",
      "The_Shining    1\n",
      "---------------------\n",
      "CLUSTER#6\n",
      "Key Features: ['would', 'one', 'get', 'could', 'made', 'time', 'much', 'watch', 'like', 'make']\n",
      "Movies:\n",
      "A_Quiet_Place     6\n",
      "Alien_Covenant    2\n",
      "---------------------\n"
     ]
    }
   ],
   "source": [
    "feature_names = cv.get_feature_names_out()\n",
    "topn_features = 10\n",
    "ordered_centroids = km.cluster_centers_.argsort()[:,::-1]\n",
    "for cluster_num in range(NUM_Clusters):\n",
    "    key_features = [feature_names[index] for index in ordered_centroids[cluster_num,:topn_features]]\n",
    "    movies = movie_clusters[movie_clusters['kmeans_cluster'] == \n",
    "                           cluster_num]['movie'].value_counts().to_string()\n",
    "    print('CLUSTER#'+str(cluster_num+1))\n",
    "    print('Key Features:',key_features)\n",
    "    print('Movies:\\n', movies,sep='')\n",
    "    print('---------------------')"
   ]
  },
  {
   "cell_type": "markdown",
   "id": "1d282aa1-6a08-4df5-9860-193b471f8ec0",
   "metadata": {},
   "source": [
    "#### c. K-Means with K = 3"
   ]
  },
  {
   "cell_type": "code",
   "execution_count": 188,
   "id": "342a80df-f10c-4ecb-aed9-49b11746bdc3",
   "metadata": {},
   "outputs": [
    {
     "data": {
      "text/html": [
       "<style>#sk-container-id-36 {color: black;background-color: white;}#sk-container-id-36 pre{padding: 0;}#sk-container-id-36 div.sk-toggleable {background-color: white;}#sk-container-id-36 label.sk-toggleable__label {cursor: pointer;display: block;width: 100%;margin-bottom: 0;padding: 0.3em;box-sizing: border-box;text-align: center;}#sk-container-id-36 label.sk-toggleable__label-arrow:before {content: \"▸\";float: left;margin-right: 0.25em;color: #696969;}#sk-container-id-36 label.sk-toggleable__label-arrow:hover:before {color: black;}#sk-container-id-36 div.sk-estimator:hover label.sk-toggleable__label-arrow:before {color: black;}#sk-container-id-36 div.sk-toggleable__content {max-height: 0;max-width: 0;overflow: hidden;text-align: left;background-color: #f0f8ff;}#sk-container-id-36 div.sk-toggleable__content pre {margin: 0.2em;color: black;border-radius: 0.25em;background-color: #f0f8ff;}#sk-container-id-36 input.sk-toggleable__control:checked~div.sk-toggleable__content {max-height: 200px;max-width: 100%;overflow: auto;}#sk-container-id-36 input.sk-toggleable__control:checked~label.sk-toggleable__label-arrow:before {content: \"▾\";}#sk-container-id-36 div.sk-estimator input.sk-toggleable__control:checked~label.sk-toggleable__label {background-color: #d4ebff;}#sk-container-id-36 div.sk-label input.sk-toggleable__control:checked~label.sk-toggleable__label {background-color: #d4ebff;}#sk-container-id-36 input.sk-hidden--visually {border: 0;clip: rect(1px 1px 1px 1px);clip: rect(1px, 1px, 1px, 1px);height: 1px;margin: -1px;overflow: hidden;padding: 0;position: absolute;width: 1px;}#sk-container-id-36 div.sk-estimator {font-family: monospace;background-color: #f0f8ff;border: 1px dotted black;border-radius: 0.25em;box-sizing: border-box;margin-bottom: 0.5em;}#sk-container-id-36 div.sk-estimator:hover {background-color: #d4ebff;}#sk-container-id-36 div.sk-parallel-item::after {content: \"\";width: 100%;border-bottom: 1px solid gray;flex-grow: 1;}#sk-container-id-36 div.sk-label:hover label.sk-toggleable__label {background-color: #d4ebff;}#sk-container-id-36 div.sk-serial::before {content: \"\";position: absolute;border-left: 1px solid gray;box-sizing: border-box;top: 0;bottom: 0;left: 50%;z-index: 0;}#sk-container-id-36 div.sk-serial {display: flex;flex-direction: column;align-items: center;background-color: white;padding-right: 0.2em;padding-left: 0.2em;position: relative;}#sk-container-id-36 div.sk-item {position: relative;z-index: 1;}#sk-container-id-36 div.sk-parallel {display: flex;align-items: stretch;justify-content: center;background-color: white;position: relative;}#sk-container-id-36 div.sk-item::before, #sk-container-id-36 div.sk-parallel-item::before {content: \"\";position: absolute;border-left: 1px solid gray;box-sizing: border-box;top: 0;bottom: 0;left: 50%;z-index: -1;}#sk-container-id-36 div.sk-parallel-item {display: flex;flex-direction: column;z-index: 1;position: relative;background-color: white;}#sk-container-id-36 div.sk-parallel-item:first-child::after {align-self: flex-end;width: 50%;}#sk-container-id-36 div.sk-parallel-item:last-child::after {align-self: flex-start;width: 50%;}#sk-container-id-36 div.sk-parallel-item:only-child::after {width: 0;}#sk-container-id-36 div.sk-dashed-wrapped {border: 1px dashed gray;margin: 0 0.4em 0.5em 0.4em;box-sizing: border-box;padding-bottom: 0.4em;background-color: white;}#sk-container-id-36 div.sk-label label {font-family: monospace;font-weight: bold;display: inline-block;line-height: 1.2em;}#sk-container-id-36 div.sk-label-container {text-align: center;}#sk-container-id-36 div.sk-container {/* jupyter's `normalize.less` sets `[hidden] { display: none; }` but bootstrap.min.css set `[hidden] { display: none !important; }` so we also need the `!important` here to be able to override the default hidden behavior on the sphinx rendered scikit-learn.org. See: https://github.com/scikit-learn/scikit-learn/issues/21755 */display: inline-block !important;position: relative;}#sk-container-id-36 div.sk-text-repr-fallback {display: none;}</style><div id=\"sk-container-id-36\" class=\"sk-top-container\"><div class=\"sk-text-repr-fallback\"><pre>KMeans(max_iter=1000, n_clusters=3, n_init=500, random_state=326)</pre><b>In a Jupyter environment, please rerun this cell to show the HTML representation or trust the notebook. <br />On GitHub, the HTML representation is unable to render, please try loading this page with nbviewer.org.</b></div><div class=\"sk-container\" hidden><div class=\"sk-item\"><div class=\"sk-estimator sk-toggleable\"><input class=\"sk-toggleable__control sk-hidden--visually\" id=\"sk-estimator-id-36\" type=\"checkbox\" checked><label for=\"sk-estimator-id-36\" class=\"sk-toggleable__label sk-toggleable__label-arrow\">KMeans</label><div class=\"sk-toggleable__content\"><pre>KMeans(max_iter=1000, n_clusters=3, n_init=500, random_state=326)</pre></div></div></div></div></div>"
      ],
      "text/plain": [
       "KMeans(max_iter=1000, n_clusters=3, n_init=500, random_state=326)"
      ]
     },
     "execution_count": 188,
     "metadata": {},
     "output_type": "execute_result"
    }
   ],
   "source": [
    "NUM_Clusters = 3\n",
    "km2 = KMeans(n_clusters=NUM_Clusters, max_iter=1000,n_init=500,random_state=326).fit(cv_matrix)\n",
    "km2"
   ]
  },
  {
   "cell_type": "code",
   "execution_count": 189,
   "id": "96120791-1320-4c7a-9432-64cf187e0d5c",
   "metadata": {},
   "outputs": [
    {
     "data": {
      "text/plain": [
       "Counter({0: 10, 2: 57, 1: 33})"
      ]
     },
     "execution_count": 189,
     "metadata": {},
     "output_type": "execute_result"
    }
   ],
   "source": [
    "Counter(km2.labels_)"
   ]
  },
  {
   "cell_type": "code",
   "execution_count": 190,
   "id": "754ffc94-97a6-42cf-bf61-9e415b568278",
   "metadata": {},
   "outputs": [],
   "source": [
    "df = review_text.copy(deep=True)\n",
    "df['kmeans_cluster'] = km2.labels_"
   ]
  },
  {
   "cell_type": "code",
   "execution_count": 191,
   "id": "8f906e92-1005-41b4-8ea7-c8817a883100",
   "metadata": {},
   "outputs": [],
   "source": [
    "movie_clusters2 = (df[['movie','review','kmeans_cluster']].sort_values(by='kmeans_cluster',ascending=False))"
   ]
  },
  {
   "cell_type": "code",
   "execution_count": 192,
   "id": "bd4ee19f-417f-40a3-b807-61ffc470cee7",
   "metadata": {},
   "outputs": [
    {
     "name": "stdout",
     "output_type": "stream",
     "text": [
      "CLUSTER#1\n",
      "Key Features: ['one', 'also', 'story', 'time', 'like', 'much', 'could', 'the', 'even', 'well']\n",
      "Movies:\n",
      "The_Thing         5\n",
      "The_Shining       3\n",
      "Alien_Covenant    2\n",
      "---------------------\n",
      "CLUSTER#2\n",
      "Key Features: ['one', 'like', 'would', 'time', 'well', 'the', 'good', 'best', 'seen', 'even']\n",
      "Movies:\n",
      "The_Shining       12\n",
      "A_Quiet_Place     10\n",
      "The_Thing          8\n",
      "Alien_Covenant     3\n",
      "---------------------\n",
      "CLUSTER#3\n",
      "Key Features: ['get', 'like', 'even', 'one', 'characters', 'good', 'would', 'time', 'see', 'well']\n",
      "Movies:\n",
      "Alien_Covenant    20\n",
      "A_Quiet_Place     15\n",
      "The_Thing         12\n",
      "The_Shining       10\n",
      "---------------------\n"
     ]
    }
   ],
   "source": [
    "topn_features = 10\n",
    "ordered_centroids2 = km2.cluster_centers_.argsort()[:,::-1]\n",
    "for cluster_num in range(NUM_Clusters):\n",
    "    key_features = [feature_names[index] for index in ordered_centroids2[cluster_num,:topn_features]]\n",
    "    movies = movie_clusters2[movie_clusters2['kmeans_cluster'] == \n",
    "                           cluster_num]['movie'].value_counts().to_string()\n",
    "    print('CLUSTER#'+str(cluster_num+1))\n",
    "    print('Key Features:',key_features)\n",
    "    print('Movies:\\n', movies,sep='')\n",
    "    print('---------------------')"
   ]
  },
  {
   "cell_type": "markdown",
   "id": "7c25a024-fd46-4bf2-83f6-e45506dfcc9b",
   "metadata": {},
   "source": [
    "### 2. Characterize Each Cluster"
   ]
  },
  {
   "cell_type": "code",
   "execution_count": null,
   "id": "f08e8d02-fbee-451f-9016-f215b35f9329",
   "metadata": {},
   "outputs": [],
   "source": []
  },
  {
   "cell_type": "code",
   "execution_count": null,
   "id": "9da68790-8f78-4ec1-9299-10ac418409a8",
   "metadata": {},
   "outputs": [],
   "source": []
  },
  {
   "cell_type": "code",
   "execution_count": null,
   "id": "239da2c9-cbbd-4ae3-8a94-f8e3e3916791",
   "metadata": {},
   "outputs": [],
   "source": []
  },
  {
   "cell_type": "code",
   "execution_count": 32,
   "id": "1c83f2c1-1a00-4929-a802-ccd375243592",
   "metadata": {},
   "outputs": [
    {
     "data": {
      "text/plain": [
       "Counter({0: 11, 2: 75, 1: 14})"
      ]
     },
     "execution_count": 32,
     "metadata": {},
     "output_type": "execute_result"
    }
   ],
   "source": [
    "from sklearn.cluster import BisectingKMeans\n",
    "\n",
    "bisect_means = BisectingKMeans(n_clusters=3,random_state=328).fit(cv_matrix)\n",
    "Counter(bisect_means.labels_)"
   ]
  },
  {
   "cell_type": "code",
   "execution_count": 33,
   "id": "648ee3a2-0053-478e-ace0-8f955f4f0c0c",
   "metadata": {},
   "outputs": [
    {
     "data": {
      "text/plain": [
       "Counter({0: 15, 1: 85})"
      ]
     },
     "execution_count": 33,
     "metadata": {},
     "output_type": "execute_result"
    }
   ],
   "source": [
    "from sklearn.cluster import AgglomerativeClustering\n",
    "agglo = AgglomerativeClustering(n_clusters=2,compute_full_tree=True).fit(cv_matrix.toarray())\n",
    "Counter(agglo.labels_)"
   ]
  },
  {
   "cell_type": "code",
   "execution_count": null,
   "id": "1d646e2b-533b-418b-b4c3-a22798866bab",
   "metadata": {},
   "outputs": [],
   "source": []
  }
 ],
 "metadata": {
  "kernelspec": {
   "display_name": "Python 3 (ipykernel)",
   "language": "python",
   "name": "python3"
  },
  "language_info": {
   "codemirror_mode": {
    "name": "ipython",
    "version": 3
   },
   "file_extension": ".py",
   "mimetype": "text/x-python",
   "name": "python",
   "nbconvert_exporter": "python",
   "pygments_lexer": "ipython3",
   "version": "3.9.15"
  }
 },
 "nbformat": 4,
 "nbformat_minor": 5
}
