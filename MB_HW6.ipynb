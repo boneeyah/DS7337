{
 "cells": [
  {
   "cell_type": "markdown",
   "id": "90926bcd-478f-4695-b0cc-b8a4a4c57a12",
   "metadata": {},
   "source": [
    "# NLP - HW6\n",
    "### Miguel Bonilla"
   ]
  },
  {
   "cell_type": "markdown",
   "id": "3e29d0c2-d0e8-45a9-b931-55c83b35e55b",
   "metadata": {},
   "source": [
    "- [1. Evaluate Text Similarity](#1.-Evaluate-Text-Similarity)\n",
    "- [2. Evaluate Using Major Text Engine](#2.-Evaluate-Using-Major-Text-Engine)"
   ]
  },
  {
   "cell_type": "markdown",
   "id": "3c93fac2-326d-4d76-8dd2-33870efcb532",
   "metadata": {},
   "source": [
    "1. Evaluate text similarity of Amazon book search results by doing the following:  \n",
    "a. Do a book search on Amazon via the search box. Manually copy the full book title \n",
    "(including subtitle) of each of the top 24 books listed in the first two pages of search \n",
    "results. You need to share the search query you use.  \n",
    "b. In Python, run one of the text-similarity measures covered in this course, e.g., cosine \n",
    "similarity. Compare each of the book titles, pairwise, to every other one.  \n",
    "c. Which two titles are the most similar to each other? Which are the most dissimilar? \n",
    "Where do they rank, among the first 24 results?  \n",
    "2. Now evaluate using a major search engine.  \n",
    "a. Enter one of the book titles from question 1a into Google, Bing, or Yahoo!. Copy the \n",
    "capsule of the first organic result and the 20th organic result. Take web results only (i.e.,\n",
    "not video results), and skip sponsored results.  \n",
    "b. Run the same text similarity calculation that you used for question 1b on each of these \n",
    "capsules in comparison to the original query (book title).  \n",
    "c. Which one has the highest similarity measure?  \n",
    "\n",
    "Submit all of your inputs and outputs and your code for this assignment, along with a brief written \n",
    "explanation of your findings. "
   ]
  },
  {
   "cell_type": "code",
   "execution_count": 1,
   "id": "d90861cf-ccd7-4ab0-8fbb-bc0f33b00eef",
   "metadata": {},
   "outputs": [],
   "source": [
    "import pandas as pd\n",
    "import nltk\n",
    "import numpy as np\n",
    "from nltk.tokenize import word_tokenize\n",
    "from sklearn.metrics.pairwise import cosine_similarity\n",
    "from sklearn.feature_extraction.text import TfidfVectorizer"
   ]
  },
  {
   "cell_type": "markdown",
   "id": "a46e4621-1573-4813-8d4e-5f92bd585375",
   "metadata": {},
   "source": [
    "### 1. Evaluate Text Similarity"
   ]
  },
  {
   "cell_type": "markdown",
   "id": "a97580fc-6368-4103-960c-6b136ea72fcf",
   "metadata": {},
   "source": [
    "Titles saved manually from an Amazon.com books search for \"Latin American Literature\". The first 24 non-sponsored results were saved into a csv file and then loaded into a pandas dataframe."
   ]
  },
  {
   "cell_type": "code",
   "execution_count": 22,
   "id": "31d284d5-19fa-414e-8f18-930489d2424b",
   "metadata": {},
   "outputs": [
    {
     "data": {
      "text/plain": [
       "['Chronicle of a Death Foretold',\n",
       " 'Chronicle of a Death Foretold - Teacher Guide by Novel Units',\n",
       " 'Chronicle of a Death Foretold 1st (first) edition Text Only',\n",
       " 'Chronicle of a Death Foretold (Chinese Edition)',\n",
       " 'Chronicle of a Death Foretold (SparkNotes Literature Guide) (SparkNotes Literature Guide Series)',\n",
       " 'Crónica de una muerte anunciada / Chronicle of a Death Foretold (Spanish Edition)',\n",
       " 'Chronicle of a Death Foretold by Gabriel García Márquez (Book Analysis): Detailed Summary, Analysis and Reading Guide (BrightSummaries.com)',\n",
       " 'Crónica de una muerte anunciada [Chronicle of a Death Foretold]',\n",
       " 'GradeSaver(tm) ClassicNotes Chronicle of a Death Foretold',\n",
       " 'Destiny & A Chronicle of Deaths Foretold (Books One, Two and Three)',\n",
       " 'Cien años de soledad (50 Aniversario) / One Hundred Years of Solitude: Illustrated Fiftieth Anniversary edition of One Hundred Years of Solitude (Spanish Edition)',\n",
       " 'A Study Guide for Gabriel Garcia Marquez\\'s \"Chronicle of a Death Foretold\" (For Students)',\n",
       " 'Destiny: A Chronicle of Deaths Foretold (1997)',\n",
       " 'Crónica de una muerte Anunciada [Chronicle of a Death Foretold] Cronica',\n",
       " 'Death Foretold: Prophecy and Prognosis in Medical Care',\n",
       " \"Hogwash: an Idiot's Guide to the JFK Assassination: Chronicle of a Death Foretold\",\n",
       " 'Destiny: A Chronicle of Deaths Foretold (1997) #1',\n",
       " 'Destiny: A Chronicle of Deaths Foretold (1997) #2',\n",
       " 'Chronicle of a Death Not Foretold',\n",
       " 'Destiny: A Chronicle of Deaths Foretold (1997) #3',\n",
       " 'Three Novellas: \" Leaf Storm \" , \" No One Writes to the Colonel \" and \" Chronicle of a Death Foretold \"',\n",
       " 'Collected novellas: Leaf storm; No one writes to the colonel; chronicle of a death foretold.',\n",
       " 'Lesson Plans Chronicle of a Death Foretold',\n",
       " \"Gabo and Mimouni: Chronicle of a foretold literary complicity: Honor and religion in García Márquez's Chronicle of a Death Foretold and Rachid Mimouni's L'honneur de la tribe\"]"
      ]
     },
     "execution_count": 22,
     "metadata": {},
     "output_type": "execute_result"
    }
   ],
   "source": [
    "titles = pd.read_csv('https://raw.githubusercontent.com/boneeyah/DS7337/main/Book_titles.csv')\n",
    "titles = titles['Book title'].to_list()\n",
    "titles"
   ]
  },
  {
   "cell_type": "code",
   "execution_count": 23,
   "id": "aa8a0bc7-52ae-42ac-9e48-69991f7d4cac",
   "metadata": {},
   "outputs": [],
   "source": [
    "### words and special characters to be removed from titles using spanish and english stop words since some titles appear in spanish\n",
    "#stop_words = nltk.corpus.stopwords.words('english') + nltk.corpus.stopwords.words('spanish')\n",
    "special = [':',',','-','(',')','[',']','–','/','#','``',';','.','&','\"',\"''\"]"
   ]
  },
  {
   "cell_type": "code",
   "execution_count": 27,
   "id": "ccc3418b-77be-436b-98ef-e5de76a1a510",
   "metadata": {},
   "outputs": [],
   "source": [
    "def normalize_list(title_list):\n",
    "    term = [word_tokenize(term.lower()) for term in title_list]\n",
    "    blank_list = []\n",
    "    for i in range(len(title_list)):\n",
    "        blank_list.append(' '.join([w for w in term[i] if w not in special]))\n",
    "    return(np.array(blank_list))"
   ]
  },
  {
   "cell_type": "code",
   "execution_count": 28,
   "id": "b3d40511-2c72-498c-a529-abdb491a93e0",
   "metadata": {},
   "outputs": [],
   "source": [
    "norm_corpus = normalize_list(titles)"
   ]
  },
  {
   "cell_type": "code",
   "execution_count": 29,
   "id": "f36621c4-c061-4f13-b234-94e6d3188cf4",
   "metadata": {},
   "outputs": [
    {
     "data": {
      "text/plain": [
       "array(['chronicle of a death foretold',\n",
       "       'chronicle of a death foretold teacher guide by novel units',\n",
       "       'chronicle of a death foretold 1st first edition text only',\n",
       "       'chronicle of a death foretold chinese edition',\n",
       "       'chronicle of a death foretold sparknotes literature guide sparknotes literature guide series',\n",
       "       'crónica de una muerte anunciada chronicle of a death foretold spanish edition',\n",
       "       'chronicle of a death foretold by gabriel garcía márquez book analysis detailed summary analysis and reading guide brightsummaries.com',\n",
       "       'crónica de una muerte anunciada chronicle of a death foretold',\n",
       "       'gradesaver tm classicnotes chronicle of a death foretold',\n",
       "       'destiny a chronicle of deaths foretold books one two and three',\n",
       "       'cien años de soledad 50 aniversario one hundred years of solitude illustrated fiftieth anniversary edition of one hundred years of solitude spanish edition',\n",
       "       \"a study guide for gabriel garcia marquez 's chronicle of a death foretold for students\",\n",
       "       'destiny a chronicle of deaths foretold 1997',\n",
       "       'crónica de una muerte anunciada chronicle of a death foretold cronica',\n",
       "       'death foretold prophecy and prognosis in medical care',\n",
       "       \"hogwash an idiot 's guide to the jfk assassination chronicle of a death foretold\",\n",
       "       'destiny a chronicle of deaths foretold 1997 1',\n",
       "       'destiny a chronicle of deaths foretold 1997 2',\n",
       "       'chronicle of a death not foretold',\n",
       "       'destiny a chronicle of deaths foretold 1997 3',\n",
       "       'three novellas leaf storm no one writes to the colonel and chronicle of a death foretold',\n",
       "       'collected novellas leaf storm no one writes to the colonel chronicle of a death foretold',\n",
       "       'lesson plans chronicle of a death foretold',\n",
       "       \"gabo and mimouni chronicle of a foretold literary complicity honor and religion in garcía márquez 's chronicle of a death foretold and rachid mimouni 's l'honneur de la tribe\"],\n",
       "      dtype='<U174')"
      ]
     },
     "execution_count": 29,
     "metadata": {},
     "output_type": "execute_result"
    }
   ],
   "source": [
    "norm_corpus"
   ]
  },
  {
   "cell_type": "code",
   "execution_count": 30,
   "id": "42551111-549f-4781-845e-21a27d0854ba",
   "metadata": {},
   "outputs": [],
   "source": [
    "tf = TfidfVectorizer(ngram_range=(1, 2), min_df=0, analyzer='char_wb')\n",
    "tfidf_matrix = tf.fit_transform(norm_corpus)"
   ]
  },
  {
   "cell_type": "code",
   "execution_count": 31,
   "id": "c3f6e8c8-318e-462b-b2e2-4f1e3d15c59d",
   "metadata": {},
   "outputs": [],
   "source": [
    "index = []\n",
    "for i in range(len(titles)):\n",
    "    index.append('Book{}'.format(i+1))"
   ]
  },
  {
   "cell_type": "code",
   "execution_count": 32,
   "id": "ebb3c7a8-29a8-4ba0-bd2d-bbbf2331f664",
   "metadata": {},
   "outputs": [
    {
     "data": {
      "text/html": [
       "<div>\n",
       "<style scoped>\n",
       "    .dataframe tbody tr th:only-of-type {\n",
       "        vertical-align: middle;\n",
       "    }\n",
       "\n",
       "    .dataframe tbody tr th {\n",
       "        vertical-align: top;\n",
       "    }\n",
       "\n",
       "    .dataframe thead th {\n",
       "        text-align: right;\n",
       "    }\n",
       "</style>\n",
       "<table border=\"1\" class=\"dataframe\">\n",
       "  <thead>\n",
       "    <tr style=\"text-align: right;\">\n",
       "      <th></th>\n",
       "      <th>Book1</th>\n",
       "      <th>Book2</th>\n",
       "      <th>Book3</th>\n",
       "      <th>Book4</th>\n",
       "      <th>Book5</th>\n",
       "      <th>Book6</th>\n",
       "      <th>Book7</th>\n",
       "      <th>Book8</th>\n",
       "      <th>Book9</th>\n",
       "      <th>Book10</th>\n",
       "      <th>...</th>\n",
       "      <th>Book15</th>\n",
       "      <th>Book16</th>\n",
       "      <th>Book17</th>\n",
       "      <th>Book18</th>\n",
       "      <th>Book19</th>\n",
       "      <th>Book20</th>\n",
       "      <th>Book21</th>\n",
       "      <th>Book22</th>\n",
       "      <th>Book23</th>\n",
       "      <th>Book24</th>\n",
       "    </tr>\n",
       "  </thead>\n",
       "  <tbody>\n",
       "    <tr>\n",
       "      <th>Book1</th>\n",
       "      <td>1.000000</td>\n",
       "      <td>0.858996</td>\n",
       "      <td>0.809811</td>\n",
       "      <td>0.898119</td>\n",
       "      <td>0.697976</td>\n",
       "      <td>0.831611</td>\n",
       "      <td>0.686730</td>\n",
       "      <td>0.842867</td>\n",
       "      <td>0.822993</td>\n",
       "      <td>0.865894</td>\n",
       "      <td>...</td>\n",
       "      <td>0.697705</td>\n",
       "      <td>0.793894</td>\n",
       "      <td>0.816838</td>\n",
       "      <td>0.824996</td>\n",
       "      <td>0.946549</td>\n",
       "      <td>0.824996</td>\n",
       "      <td>0.874578</td>\n",
       "      <td>0.858359</td>\n",
       "      <td>0.870948</td>\n",
       "      <td>0.822371</td>\n",
       "    </tr>\n",
       "    <tr>\n",
       "      <th>Book2</th>\n",
       "      <td>0.858996</td>\n",
       "      <td>1.000000</td>\n",
       "      <td>0.752948</td>\n",
       "      <td>0.811050</td>\n",
       "      <td>0.748553</td>\n",
       "      <td>0.808989</td>\n",
       "      <td>0.738397</td>\n",
       "      <td>0.812901</td>\n",
       "      <td>0.798692</td>\n",
       "      <td>0.820105</td>\n",
       "      <td>...</td>\n",
       "      <td>0.667756</td>\n",
       "      <td>0.779060</td>\n",
       "      <td>0.749092</td>\n",
       "      <td>0.756573</td>\n",
       "      <td>0.847260</td>\n",
       "      <td>0.756573</td>\n",
       "      <td>0.863140</td>\n",
       "      <td>0.842993</td>\n",
       "      <td>0.775280</td>\n",
       "      <td>0.813160</td>\n",
       "    </tr>\n",
       "    <tr>\n",
       "      <th>Book3</th>\n",
       "      <td>0.809811</td>\n",
       "      <td>0.752948</td>\n",
       "      <td>1.000000</td>\n",
       "      <td>0.810859</td>\n",
       "      <td>0.629626</td>\n",
       "      <td>0.744778</td>\n",
       "      <td>0.621437</td>\n",
       "      <td>0.704483</td>\n",
       "      <td>0.706205</td>\n",
       "      <td>0.774129</td>\n",
       "      <td>...</td>\n",
       "      <td>0.616255</td>\n",
       "      <td>0.750159</td>\n",
       "      <td>0.758016</td>\n",
       "      <td>0.748221</td>\n",
       "      <td>0.833449</td>\n",
       "      <td>0.748221</td>\n",
       "      <td>0.773665</td>\n",
       "      <td>0.759215</td>\n",
       "      <td>0.741715</td>\n",
       "      <td>0.726851</td>\n",
       "    </tr>\n",
       "    <tr>\n",
       "      <th>Book4</th>\n",
       "      <td>0.898119</td>\n",
       "      <td>0.811050</td>\n",
       "      <td>0.810859</td>\n",
       "      <td>1.000000</td>\n",
       "      <td>0.696957</td>\n",
       "      <td>0.833387</td>\n",
       "      <td>0.659242</td>\n",
       "      <td>0.782577</td>\n",
       "      <td>0.773853</td>\n",
       "      <td>0.832231</td>\n",
       "      <td>...</td>\n",
       "      <td>0.681862</td>\n",
       "      <td>0.784950</td>\n",
       "      <td>0.775979</td>\n",
       "      <td>0.783729</td>\n",
       "      <td>0.856036</td>\n",
       "      <td>0.783729</td>\n",
       "      <td>0.831679</td>\n",
       "      <td>0.820889</td>\n",
       "      <td>0.816846</td>\n",
       "      <td>0.794915</td>\n",
       "    </tr>\n",
       "    <tr>\n",
       "      <th>Book5</th>\n",
       "      <td>0.697976</td>\n",
       "      <td>0.748553</td>\n",
       "      <td>0.629626</td>\n",
       "      <td>0.696957</td>\n",
       "      <td>1.000000</td>\n",
       "      <td>0.718408</td>\n",
       "      <td>0.652015</td>\n",
       "      <td>0.677527</td>\n",
       "      <td>0.726433</td>\n",
       "      <td>0.683920</td>\n",
       "      <td>...</td>\n",
       "      <td>0.592820</td>\n",
       "      <td>0.680363</td>\n",
       "      <td>0.623737</td>\n",
       "      <td>0.629966</td>\n",
       "      <td>0.696257</td>\n",
       "      <td>0.629966</td>\n",
       "      <td>0.709271</td>\n",
       "      <td>0.695291</td>\n",
       "      <td>0.683941</td>\n",
       "      <td>0.712227</td>\n",
       "    </tr>\n",
       "  </tbody>\n",
       "</table>\n",
       "<p>5 rows × 24 columns</p>\n",
       "</div>"
      ],
      "text/plain": [
       "          Book1     Book2     Book3     Book4     Book5     Book6     Book7  \\\n",
       "Book1  1.000000  0.858996  0.809811  0.898119  0.697976  0.831611  0.686730   \n",
       "Book2  0.858996  1.000000  0.752948  0.811050  0.748553  0.808989  0.738397   \n",
       "Book3  0.809811  0.752948  1.000000  0.810859  0.629626  0.744778  0.621437   \n",
       "Book4  0.898119  0.811050  0.810859  1.000000  0.696957  0.833387  0.659242   \n",
       "Book5  0.697976  0.748553  0.629626  0.696957  1.000000  0.718408  0.652015   \n",
       "\n",
       "          Book8     Book9    Book10  ...    Book15    Book16    Book17  \\\n",
       "Book1  0.842867  0.822993  0.865894  ...  0.697705  0.793894  0.816838   \n",
       "Book2  0.812901  0.798692  0.820105  ...  0.667756  0.779060  0.749092   \n",
       "Book3  0.704483  0.706205  0.774129  ...  0.616255  0.750159  0.758016   \n",
       "Book4  0.782577  0.773853  0.832231  ...  0.681862  0.784950  0.775979   \n",
       "Book5  0.677527  0.726433  0.683920  ...  0.592820  0.680363  0.623737   \n",
       "\n",
       "         Book18    Book19    Book20    Book21    Book22    Book23    Book24  \n",
       "Book1  0.824996  0.946549  0.824996  0.874578  0.858359  0.870948  0.822371  \n",
       "Book2  0.756573  0.847260  0.756573  0.863140  0.842993  0.775280  0.813160  \n",
       "Book3  0.748221  0.833449  0.748221  0.773665  0.759215  0.741715  0.726851  \n",
       "Book4  0.783729  0.856036  0.783729  0.831679  0.820889  0.816846  0.794915  \n",
       "Book5  0.629966  0.696257  0.629966  0.709271  0.695291  0.683941  0.712227  \n",
       "\n",
       "[5 rows x 24 columns]"
      ]
     },
     "execution_count": 32,
     "metadata": {},
     "output_type": "execute_result"
    }
   ],
   "source": [
    "doc_sim = cosine_similarity(tfidf_matrix)\n",
    "doc_sim_df = pd.DataFrame(doc_sim,index=index,columns=index)\n",
    "doc_sim_df.head()"
   ]
  },
  {
   "cell_type": "code",
   "execution_count": 33,
   "id": "5355afa0-0de5-47f5-900c-2a01580f6f7d",
   "metadata": {},
   "outputs": [],
   "source": [
    "doc_sim_df.to_csv('matrix.csv')"
   ]
  },
  {
   "cell_type": "code",
   "execution_count": null,
   "id": "461f3503-dbe6-403e-8e90-392c2aa9c001",
   "metadata": {},
   "outputs": [],
   "source": [
    "doc_sim.flatten()[48]"
   ]
  },
  {
   "cell_type": "code",
   "execution_count": null,
   "id": "09e9e690-834c-433d-8579-45b9b073276a",
   "metadata": {},
   "outputs": [],
   "source": [
    "np.argsort(-doc_sim.flatten())[24:]"
   ]
  },
  {
   "cell_type": "code",
   "execution_count": null,
   "id": "0352ce91-2279-4dcb-bef0-a7d23de214b1",
   "metadata": {},
   "outputs": [],
   "source": [
    "doc_sim.flatten()"
   ]
  },
  {
   "cell_type": "code",
   "execution_count": null,
   "id": "5959a275-ec5b-4dd5-9319-14e04339b072",
   "metadata": {},
   "outputs": [],
   "source": []
  }
 ],
 "metadata": {
  "kernelspec": {
   "display_name": "Python 3 (ipykernel)",
   "language": "python",
   "name": "python3"
  },
  "language_info": {
   "codemirror_mode": {
    "name": "ipython",
    "version": 3
   },
   "file_extension": ".py",
   "mimetype": "text/x-python",
   "name": "python",
   "nbconvert_exporter": "python",
   "pygments_lexer": "ipython3",
   "version": "3.9.12"
  }
 },
 "nbformat": 4,
 "nbformat_minor": 5
}
