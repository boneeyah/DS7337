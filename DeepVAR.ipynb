{
  "nbformat": 4,
  "nbformat_minor": 0,
  "metadata": {
    "colab": {
      "provenance": [],
      "authorship_tag": "ABX9TyM/1VcQdwmxvJyKXq4ITXUd",
      "include_colab_link": true
    },
    "kernelspec": {
      "name": "python3",
      "display_name": "Python 3"
    },
    "language_info": {
      "name": "python"
    }
  },
  "cells": [
    {
      "cell_type": "markdown",
      "metadata": {
        "id": "view-in-github",
        "colab_type": "text"
      },
      "source": [
        "<a href=\"https://colab.research.google.com/github/boneeyah/DS7337/blob/main/DeepVAR.ipynb\" target=\"_parent\"><img src=\"https://colab.research.google.com/assets/colab-badge.svg\" alt=\"Open In Colab\"/></a>"
      ]
    },
    {
      "cell_type": "code",
      "source": [
        "!pip install gluonts==0.12.6"
      ],
      "metadata": {
        "colab": {
          "base_uri": "https://localhost:8080/"
        },
        "id": "CL8vP3iZal5f",
        "outputId": "521fbb0d-54b4-4e94-b8f2-49abfbf7ea53"
      },
      "execution_count": 1,
      "outputs": [
        {
          "output_type": "stream",
          "name": "stdout",
          "text": [
            "Looking in indexes: https://pypi.org/simple, https://us-python.pkg.dev/colab-wheels/public/simple/\n",
            "Collecting gluonts==0.12.6\n",
            "  Downloading gluonts-0.12.6-py3-none-any.whl (1.2 MB)\n",
            "\u001b[2K     \u001b[90m━━━━━━━━━━━━━━━━━━━━━━━━━━━━━━━━━━━━━━━━\u001b[0m \u001b[32m1.2/1.2 MB\u001b[0m \u001b[31m43.0 MB/s\u001b[0m eta \u001b[36m0:00:00\u001b[0m\n",
            "\u001b[?25hRequirement already satisfied: numpy~=1.16 in /usr/local/lib/python3.10/dist-packages (from gluonts==0.12.6) (1.22.4)\n",
            "Requirement already satisfied: pandas<3,>=1.0 in /usr/local/lib/python3.10/dist-packages (from gluonts==0.12.6) (1.5.3)\n",
            "Requirement already satisfied: pydantic~=1.7 in /usr/local/lib/python3.10/dist-packages (from gluonts==0.12.6) (1.10.7)\n",
            "Requirement already satisfied: tqdm~=4.23 in /usr/local/lib/python3.10/dist-packages (from gluonts==0.12.6) (4.65.0)\n",
            "Requirement already satisfied: toolz~=0.10 in /usr/local/lib/python3.10/dist-packages (from gluonts==0.12.6) (0.12.0)\n",
            "Requirement already satisfied: typing-extensions~=4.0 in /usr/local/lib/python3.10/dist-packages (from gluonts==0.12.6) (4.5.0)\n",
            "Requirement already satisfied: python-dateutil>=2.8.1 in /usr/local/lib/python3.10/dist-packages (from pandas<3,>=1.0->gluonts==0.12.6) (2.8.2)\n",
            "Requirement already satisfied: pytz>=2020.1 in /usr/local/lib/python3.10/dist-packages (from pandas<3,>=1.0->gluonts==0.12.6) (2022.7.1)\n",
            "Requirement already satisfied: six>=1.5 in /usr/local/lib/python3.10/dist-packages (from python-dateutil>=2.8.1->pandas<3,>=1.0->gluonts==0.12.6) (1.16.0)\n",
            "Installing collected packages: gluonts\n",
            "Successfully installed gluonts-0.12.6\n"
          ]
        }
      ]
    },
    {
      "cell_type": "code",
      "execution_count": 3,
      "metadata": {
        "colab": {
          "base_uri": "https://localhost:8080/"
        },
        "id": "AGZ1Vf1taYn2",
        "outputId": "49e3b50a-2d1a-49bb-8759-b749a5dafb51"
      },
      "outputs": [
        {
          "output_type": "stream",
          "name": "stdout",
          "text": [
            "Looking in indexes: https://pypi.org/simple, https://us-python.pkg.dev/colab-wheels/public/simple/\n",
            "Collecting mxnet==1.6\n",
            "  Downloading mxnet-1.6.0-py2.py3-none-any.whl (68.7 MB)\n",
            "\u001b[2K     \u001b[90m━━━━━━━━━━━━━━━━━━━━━━━━━━━━━━━━━━━━━━━━\u001b[0m \u001b[32m68.7/68.7 MB\u001b[0m \u001b[31m5.8 MB/s\u001b[0m eta \u001b[36m0:00:00\u001b[0m\n",
            "\u001b[?25hRequirement already satisfied: numpy<2.0.0,>1.16.0 in /usr/local/lib/python3.10/dist-packages (from mxnet==1.6) (1.22.4)\n",
            "Requirement already satisfied: requests<3,>=2.20.0 in /usr/local/lib/python3.10/dist-packages (from mxnet==1.6) (2.27.1)\n",
            "Collecting graphviz<0.9.0,>=0.8.1 (from mxnet==1.6)\n",
            "  Downloading graphviz-0.8.4-py2.py3-none-any.whl (16 kB)\n",
            "Requirement already satisfied: urllib3<1.27,>=1.21.1 in /usr/local/lib/python3.10/dist-packages (from requests<3,>=2.20.0->mxnet==1.6) (1.26.15)\n",
            "Requirement already satisfied: certifi>=2017.4.17 in /usr/local/lib/python3.10/dist-packages (from requests<3,>=2.20.0->mxnet==1.6) (2022.12.7)\n",
            "Requirement already satisfied: charset-normalizer~=2.0.0 in /usr/local/lib/python3.10/dist-packages (from requests<3,>=2.20.0->mxnet==1.6) (2.0.12)\n",
            "Requirement already satisfied: idna<4,>=2.5 in /usr/local/lib/python3.10/dist-packages (from requests<3,>=2.20.0->mxnet==1.6) (3.4)\n",
            "Installing collected packages: graphviz, mxnet\n",
            "  Attempting uninstall: graphviz\n",
            "    Found existing installation: graphviz 0.20.1\n",
            "    Uninstalling graphviz-0.20.1:\n",
            "      Successfully uninstalled graphviz-0.20.1\n",
            "Successfully installed graphviz-0.8.4 mxnet-1.6.0\n",
            "Looking in indexes: https://pypi.org/simple, https://us-python.pkg.dev/colab-wheels/public/simple/\n",
            "Requirement already satisfied: orjson in /usr/local/lib/python3.10/dist-packages (3.9.1)\n"
          ]
        }
      ],
      "source": [
        "!pip install mxnet==1.6\n",
        "!pip install orjson"
      ]
    },
    {
      "cell_type": "code",
      "source": [
        "import numpy as np\n",
        "from gluonts.mx.trainer import Trainer\n",
        "from gluonts.mx.model.deepvar import DeepVAREstimator\n",
        "from gluonts.dataset.common import ListDataset"
      ],
      "metadata": {
        "id": "zoX4K8iqcfmi"
      },
      "execution_count": 4,
      "outputs": []
    },
    {
      "cell_type": "code",
      "source": [
        "df_50 = np.loadtxt(\"https://raw.githubusercontent.com/boneeyah/DS7337/main/nonlinear_synthetic_50.csv\",delimiter=\",\",skiprows=1,usecols=(0,4,5))\n",
        "\n",
        "h_list = [[3,5,8],[5,10,25],[50,100,200]]\n",
        "freq_list = [\"M\",\"W\",\"D\"]"
      ],
      "metadata": {
        "id": "Z-tnRQPzcxLk"
      },
      "execution_count": 5,
      "outputs": []
    },
    {
      "cell_type": "code",
      "source": [
        "df_50 = df_50[df_50[:,0]==1]"
      ],
      "metadata": {
        "id": "0cwhSvTjhks8"
      },
      "execution_count": 13,
      "outputs": []
    },
    {
      "cell_type": "code",
      "source": [
        "def model_fit(data_list,horizon_list,freq_list):\n",
        "  a_preds = {}\n",
        "  for data in data_list:\n",
        "    labels = list(set(data[:,0]))\n",
        "    freq = freq_list[data_list.index(data)]\n",
        "    for series in labels:\n",
        "      df = data[data[:,0]==series]\n",
        "      df = df[:,1:3]\n",
        "      for h in horizon_list[data_list.index(data)]:\n",
        "        train = df[:-h]\n",
        "        test = df[-h:]\n",
        "        train = ListDataset([{\"start\":\"2000-01-01\",\"target\":train.T}],one_dim_target=False,freq=freq)\n",
        "        estimator = DeepVAREstimator(freq=freq, prediction_length=h,target_dim=2,scaling=True)\n",
        "        predictor = estimator.train(training_data=train)\n",
        "        preds = predictor.predict(train)\n",
        "        preds = list(preds)[0].quantile(0.5)\n",
        "        a_preds.update({'Data{}{}_h{}'.format(data_list.index(data),series,h):preds})\n",
        "  return(a_preds)"
      ],
      "metadata": {
        "id": "fI81GUtdzP1u"
      },
      "execution_count": 14,
      "outputs": []
    },
    {
      "cell_type": "code",
      "source": [
        "model_fit([df_50],[[3]],[\"M\"])"
      ],
      "metadata": {
        "colab": {
          "base_uri": "https://localhost:8080/"
        },
        "id": "Wo04us7ldP-t",
        "outputId": "debf41c0-cab6-4647-b5a1-5f4732f81b7e"
      },
      "execution_count": 15,
      "outputs": [
        {
          "output_type": "stream",
          "name": "stderr",
          "text": [
            "100%|██████████| 50/50 [00:01<00:00, 35.38it/s, epoch=1/100, avg_epoch_loss=6.77]\n",
            "100%|██████████| 50/50 [00:01<00:00, 36.67it/s, epoch=2/100, avg_epoch_loss=5.37]\n",
            "100%|██████████| 50/50 [00:01<00:00, 38.39it/s, epoch=3/100, avg_epoch_loss=4.84]\n",
            "100%|██████████| 50/50 [00:01<00:00, 37.16it/s, epoch=4/100, avg_epoch_loss=4.16]\n",
            "100%|██████████| 50/50 [00:01<00:00, 36.12it/s, epoch=5/100, avg_epoch_loss=3.88]\n",
            "100%|██████████| 50/50 [00:01<00:00, 28.61it/s, epoch=6/100, avg_epoch_loss=3.62]\n",
            "100%|██████████| 50/50 [00:02<00:00, 23.15it/s, epoch=7/100, avg_epoch_loss=3.42]\n",
            "100%|██████████| 50/50 [00:01<00:00, 33.09it/s, epoch=8/100, avg_epoch_loss=3.33]\n",
            "100%|██████████| 50/50 [00:01<00:00, 36.75it/s, epoch=9/100, avg_epoch_loss=3.19]\n",
            "100%|██████████| 50/50 [00:01<00:00, 36.74it/s, epoch=10/100, avg_epoch_loss=3.06]\n",
            "100%|██████████| 50/50 [00:01<00:00, 37.38it/s, epoch=11/100, avg_epoch_loss=2.94]\n",
            "100%|██████████| 50/50 [00:01<00:00, 36.97it/s, epoch=12/100, avg_epoch_loss=2.83]\n",
            "100%|██████████| 50/50 [00:01<00:00, 36.76it/s, epoch=13/100, avg_epoch_loss=2.75]\n",
            "100%|██████████| 50/50 [00:01<00:00, 25.12it/s, epoch=14/100, avg_epoch_loss=3]\n",
            "100%|██████████| 50/50 [00:03<00:00, 15.94it/s, epoch=15/100, avg_epoch_loss=2.71]\n",
            "100%|██████████| 50/50 [00:01<00:00, 30.45it/s, epoch=16/100, avg_epoch_loss=2.59]\n",
            "100%|██████████| 50/50 [00:01<00:00, 38.32it/s, epoch=17/100, avg_epoch_loss=2.93]\n",
            "100%|██████████| 50/50 [00:01<00:00, 36.35it/s, epoch=18/100, avg_epoch_loss=2.55]\n",
            "100%|██████████| 50/50 [00:01<00:00, 37.63it/s, epoch=19/100, avg_epoch_loss=2.47]\n",
            "100%|██████████| 50/50 [00:01<00:00, 37.10it/s, epoch=20/100, avg_epoch_loss=2.4]\n",
            "100%|██████████| 50/50 [00:01<00:00, 37.27it/s, epoch=21/100, avg_epoch_loss=2.28]\n",
            "100%|██████████| 50/50 [00:01<00:00, 38.58it/s, epoch=22/100, avg_epoch_loss=2.3]\n",
            "100%|██████████| 50/50 [00:01<00:00, 34.06it/s, epoch=23/100, avg_epoch_loss=2.2]\n",
            "100%|██████████| 50/50 [00:01<00:00, 25.42it/s, epoch=24/100, avg_epoch_loss=2.21]\n",
            "100%|██████████| 50/50 [00:01<00:00, 26.79it/s, epoch=25/100, avg_epoch_loss=2.17]\n",
            "100%|██████████| 50/50 [00:01<00:00, 38.56it/s, epoch=26/100, avg_epoch_loss=2.02]\n",
            "100%|██████████| 50/50 [00:01<00:00, 37.45it/s, epoch=27/100, avg_epoch_loss=1.93]\n",
            "100%|██████████| 50/50 [00:01<00:00, 38.25it/s, epoch=28/100, avg_epoch_loss=1.98]\n",
            "100%|██████████| 50/50 [00:01<00:00, 36.58it/s, epoch=29/100, avg_epoch_loss=2.19]\n",
            "100%|██████████| 50/50 [00:01<00:00, 37.13it/s, epoch=30/100, avg_epoch_loss=1.92]\n",
            "100%|██████████| 50/50 [00:01<00:00, 37.71it/s, epoch=31/100, avg_epoch_loss=1.9]\n",
            "100%|██████████| 50/50 [00:01<00:00, 38.74it/s, epoch=32/100, avg_epoch_loss=1.87]\n",
            "100%|██████████| 50/50 [00:01<00:00, 26.06it/s, epoch=33/100, avg_epoch_loss=1.91]\n",
            "100%|██████████| 50/50 [00:02<00:00, 18.28it/s, epoch=34/100, avg_epoch_loss=1.89]\n",
            "100%|██████████| 50/50 [00:01<00:00, 36.24it/s, epoch=35/100, avg_epoch_loss=1.92]\n",
            "100%|██████████| 50/50 [00:01<00:00, 36.94it/s, epoch=36/100, avg_epoch_loss=1.71]\n",
            "100%|██████████| 50/50 [00:01<00:00, 36.87it/s, epoch=37/100, avg_epoch_loss=1.82]\n",
            "100%|██████████| 50/50 [00:01<00:00, 38.63it/s, epoch=38/100, avg_epoch_loss=1.69]\n",
            "100%|██████████| 50/50 [00:01<00:00, 37.42it/s, epoch=39/100, avg_epoch_loss=1.66]\n",
            "100%|██████████| 50/50 [00:01<00:00, 38.07it/s, epoch=40/100, avg_epoch_loss=1.55]\n",
            "100%|██████████| 50/50 [00:01<00:00, 37.19it/s, epoch=41/100, avg_epoch_loss=1.61]\n",
            "100%|██████████| 50/50 [00:02<00:00, 23.87it/s, epoch=42/100, avg_epoch_loss=1.55]\n",
            "100%|██████████| 50/50 [00:01<00:00, 25.43it/s, epoch=43/100, avg_epoch_loss=1.52]\n",
            "100%|██████████| 50/50 [00:01<00:00, 37.49it/s, epoch=44/100, avg_epoch_loss=1.54]\n",
            "100%|██████████| 50/50 [00:01<00:00, 36.51it/s, epoch=45/100, avg_epoch_loss=1.47]\n",
            "100%|██████████| 50/50 [00:01<00:00, 35.26it/s, epoch=46/100, avg_epoch_loss=1.43]\n",
            "100%|██████████| 50/50 [00:01<00:00, 36.04it/s, epoch=47/100, avg_epoch_loss=1.48]\n",
            "100%|██████████| 50/50 [00:01<00:00, 36.44it/s, epoch=48/100, avg_epoch_loss=1.81]\n",
            "100%|██████████| 50/50 [00:01<00:00, 37.16it/s, epoch=49/100, avg_epoch_loss=1.85]\n",
            "100%|██████████| 50/50 [00:01<00:00, 38.11it/s, epoch=50/100, avg_epoch_loss=1.55]\n",
            "100%|██████████| 50/50 [00:02<00:00, 24.91it/s, epoch=51/100, avg_epoch_loss=1.34]\n",
            "100%|██████████| 50/50 [00:02<00:00, 24.66it/s, epoch=52/100, avg_epoch_loss=1.38]\n",
            "100%|██████████| 50/50 [00:01<00:00, 39.36it/s, epoch=53/100, avg_epoch_loss=1.68]\n",
            "100%|██████████| 50/50 [00:01<00:00, 37.92it/s, epoch=54/100, avg_epoch_loss=1.4]\n",
            "100%|██████████| 50/50 [00:01<00:00, 37.19it/s, epoch=55/100, avg_epoch_loss=1.35]\n",
            "100%|██████████| 50/50 [00:01<00:00, 38.36it/s, epoch=56/100, avg_epoch_loss=1.43]\n",
            "100%|██████████| 50/50 [00:01<00:00, 37.47it/s, epoch=57/100, avg_epoch_loss=1.27]\n",
            "100%|██████████| 50/50 [00:01<00:00, 36.55it/s, epoch=58/100, avg_epoch_loss=1.2]\n",
            "100%|██████████| 50/50 [00:01<00:00, 37.50it/s, epoch=59/100, avg_epoch_loss=1.19]\n",
            "100%|██████████| 50/50 [00:02<00:00, 23.94it/s, epoch=60/100, avg_epoch_loss=1.2]\n",
            "100%|██████████| 50/50 [00:02<00:00, 17.51it/s, epoch=61/100, avg_epoch_loss=1.14]\n",
            "100%|██████████| 50/50 [00:02<00:00, 22.38it/s, epoch=62/100, avg_epoch_loss=1.28]\n",
            "100%|██████████| 50/50 [00:01<00:00, 36.70it/s, epoch=63/100, avg_epoch_loss=1.36]\n",
            "100%|██████████| 50/50 [00:01<00:00, 38.14it/s, epoch=64/100, avg_epoch_loss=1.18]\n",
            "100%|██████████| 50/50 [00:01<00:00, 39.09it/s, epoch=65/100, avg_epoch_loss=1.1]\n",
            "100%|██████████| 50/50 [00:01<00:00, 38.29it/s, epoch=66/100, avg_epoch_loss=0.988]\n",
            "100%|██████████| 50/50 [00:01<00:00, 37.60it/s, epoch=67/100, avg_epoch_loss=1.6]\n",
            "100%|██████████| 50/50 [00:01<00:00, 38.67it/s, epoch=68/100, avg_epoch_loss=1.24]\n",
            "100%|██████████| 50/50 [00:01<00:00, 38.31it/s, epoch=69/100, avg_epoch_loss=1.11]\n",
            "100%|██████████| 50/50 [00:01<00:00, 28.06it/s, epoch=70/100, avg_epoch_loss=0.97]\n",
            "100%|██████████| 50/50 [00:02<00:00, 24.67it/s, epoch=71/100, avg_epoch_loss=1.16]\n",
            "100%|██████████| 50/50 [00:01<00:00, 33.71it/s, epoch=72/100, avg_epoch_loss=1.04]\n",
            "100%|██████████| 50/50 [00:01<00:00, 38.06it/s, epoch=73/100, avg_epoch_loss=1]\n",
            "100%|██████████| 50/50 [00:01<00:00, 36.29it/s, epoch=74/100, avg_epoch_loss=0.914]\n",
            "100%|██████████| 50/50 [00:01<00:00, 36.88it/s, epoch=75/100, avg_epoch_loss=0.908]\n",
            "100%|██████████| 50/50 [00:01<00:00, 37.24it/s, epoch=76/100, avg_epoch_loss=1.06]\n",
            "100%|██████████| 50/50 [00:01<00:00, 37.37it/s, epoch=77/100, avg_epoch_loss=0.909]\n",
            "100%|██████████| 50/50 [00:01<00:00, 36.44it/s, epoch=78/100, avg_epoch_loss=0.922]\n",
            "100%|██████████| 50/50 [00:01<00:00, 30.93it/s, epoch=79/100, avg_epoch_loss=0.898]\n",
            "100%|██████████| 50/50 [00:02<00:00, 23.99it/s, epoch=80/100, avg_epoch_loss=0.855]\n",
            "100%|██████████| 50/50 [00:01<00:00, 29.41it/s, epoch=81/100, avg_epoch_loss=1.31]\n",
            "100%|██████████| 50/50 [00:01<00:00, 36.81it/s, epoch=82/100, avg_epoch_loss=1.64]\n",
            "100%|██████████| 50/50 [00:01<00:00, 36.63it/s, epoch=83/100, avg_epoch_loss=1.32]\n",
            "100%|██████████| 50/50 [00:01<00:00, 36.22it/s, epoch=84/100, avg_epoch_loss=1.05]\n",
            "100%|██████████| 50/50 [00:01<00:00, 35.27it/s, epoch=85/100, avg_epoch_loss=0.977]\n",
            "100%|██████████| 50/50 [00:01<00:00, 37.49it/s, epoch=86/100, avg_epoch_loss=0.994]\n",
            "100%|██████████| 50/50 [00:01<00:00, 34.90it/s, epoch=87/100, avg_epoch_loss=0.885]\n",
            "100%|██████████| 50/50 [00:01<00:00, 29.45it/s, epoch=88/100, avg_epoch_loss=0.825]\n",
            "100%|██████████| 50/50 [00:02<00:00, 23.96it/s, epoch=89/100, avg_epoch_loss=0.734]\n",
            "100%|██████████| 50/50 [00:01<00:00, 30.70it/s, epoch=90/100, avg_epoch_loss=0.73]\n",
            "100%|██████████| 50/50 [00:01<00:00, 38.10it/s, epoch=91/100, avg_epoch_loss=0.823]\n",
            "100%|██████████| 50/50 [00:01<00:00, 36.99it/s, epoch=92/100, avg_epoch_loss=0.777]\n",
            "100%|██████████| 50/50 [00:01<00:00, 36.15it/s, epoch=93/100, avg_epoch_loss=0.844]\n",
            "100%|██████████| 50/50 [00:01<00:00, 35.95it/s, epoch=94/100, avg_epoch_loss=1.12]\n",
            "100%|██████████| 50/50 [00:01<00:00, 36.76it/s, epoch=95/100, avg_epoch_loss=1.19]\n",
            "100%|██████████| 50/50 [00:01<00:00, 37.45it/s, epoch=96/100, avg_epoch_loss=0.891]\n",
            "100%|██████████| 50/50 [00:01<00:00, 31.34it/s, epoch=97/100, avg_epoch_loss=0.717]\n",
            "100%|██████████| 50/50 [00:02<00:00, 24.33it/s, epoch=98/100, avg_epoch_loss=1.14]\n",
            "100%|██████████| 50/50 [00:01<00:00, 28.99it/s, epoch=99/100, avg_epoch_loss=0.818]\n",
            "100%|██████████| 50/50 [00:01<00:00, 38.22it/s, epoch=100/100, avg_epoch_loss=0.767]\n"
          ]
        },
        {
          "output_type": "execute_result",
          "data": {
            "text/plain": [
              "{'Data01.0_h3': array([[-9.885832 , 12.268226 ],\n",
              "        [-5.5410643, 12.552703 ],\n",
              "        [-2.78959  , 10.465377 ]], dtype=float32)}"
            ]
          },
          "metadata": {},
          "execution_count": 15
        }
      ]
    },
    {
      "cell_type": "code",
      "source": [
        "df = df_50[df_50[:,0]==1]\n",
        "df = df[:,1:3]\n",
        "\n",
        "train = df[:-5]\n",
        "test = df[-5:]\n",
        "train = ListDataset([{\"start\":\"2000-01-01\",\"target\":train.T}],one_dim_target=False,freq=\"M\")\n",
        "estimator = DeepVAREstimator(freq=\"M\", prediction_length=5,target_dim=2,scaling=True)\n",
        "predictor = estimator.train(training_data=train,num_workers = 4)\n",
        "preds = predictor.predict(train)"
      ],
      "metadata": {
        "colab": {
          "base_uri": "https://localhost:8080/"
        },
        "id": "UHA1cFT8pljW",
        "outputId": "1af4588f-8720-4815-ca9b-333c64d38a1e"
      },
      "execution_count": 11,
      "outputs": [
        {
          "output_type": "stream",
          "name": "stderr",
          "text": [
            "100%|██████████| 50/50 [00:01<00:00, 28.72it/s, epoch=1/100, avg_epoch_loss=6.05]\n",
            "100%|██████████| 50/50 [00:01<00:00, 31.00it/s, epoch=2/100, avg_epoch_loss=4.99]\n",
            "100%|██████████| 50/50 [00:01<00:00, 30.34it/s, epoch=3/100, avg_epoch_loss=3.92]\n",
            "100%|██████████| 50/50 [00:01<00:00, 30.30it/s, epoch=4/100, avg_epoch_loss=3.55]\n",
            "100%|██████████| 50/50 [00:02<00:00, 20.31it/s, epoch=5/100, avg_epoch_loss=3.56]\n",
            "100%|██████████| 50/50 [00:02<00:00, 23.95it/s, epoch=6/100, avg_epoch_loss=3.19]\n",
            "100%|██████████| 50/50 [00:01<00:00, 30.63it/s, epoch=7/100, avg_epoch_loss=3.08]\n",
            "100%|██████████| 50/50 [00:01<00:00, 30.65it/s, epoch=8/100, avg_epoch_loss=2.93]\n",
            "100%|██████████| 50/50 [00:01<00:00, 30.13it/s, epoch=9/100, avg_epoch_loss=2.84]\n",
            "100%|██████████| 50/50 [00:01<00:00, 30.61it/s, epoch=10/100, avg_epoch_loss=2.68]\n",
            "100%|██████████| 50/50 [00:01<00:00, 30.62it/s, epoch=11/100, avg_epoch_loss=2.61]\n",
            "100%|██████████| 50/50 [00:02<00:00, 23.99it/s, epoch=12/100, avg_epoch_loss=2.62]\n",
            "100%|██████████| 50/50 [00:02<00:00, 19.60it/s, epoch=13/100, avg_epoch_loss=2.5]\n",
            "100%|██████████| 50/50 [00:01<00:00, 30.12it/s, epoch=14/100, avg_epoch_loss=2.51]\n",
            "100%|██████████| 50/50 [00:01<00:00, 25.69it/s, epoch=15/100, avg_epoch_loss=2.42]\n",
            "100%|██████████| 50/50 [00:02<00:00, 19.56it/s, epoch=16/100, avg_epoch_loss=2.7]\n",
            "100%|██████████| 50/50 [00:01<00:00, 27.90it/s, epoch=17/100, avg_epoch_loss=2.48]\n",
            "100%|██████████| 50/50 [00:01<00:00, 30.15it/s, epoch=18/100, avg_epoch_loss=2.29]\n",
            "100%|██████████| 50/50 [00:02<00:00, 21.92it/s, epoch=19/100, avg_epoch_loss=2.13]\n",
            "100%|██████████| 50/50 [00:02<00:00, 21.50it/s, epoch=20/100, avg_epoch_loss=2.15]\n",
            "100%|██████████| 50/50 [00:01<00:00, 30.60it/s, epoch=21/100, avg_epoch_loss=2.08]\n",
            "100%|██████████| 50/50 [00:01<00:00, 30.79it/s, epoch=22/100, avg_epoch_loss=2.05]\n",
            "100%|██████████| 50/50 [00:01<00:00, 30.82it/s, epoch=23/100, avg_epoch_loss=2.08]\n",
            "100%|██████████| 50/50 [00:01<00:00, 31.01it/s, epoch=24/100, avg_epoch_loss=1.96]\n",
            "100%|██████████| 50/50 [00:01<00:00, 30.63it/s, epoch=25/100, avg_epoch_loss=1.96]\n",
            "100%|██████████| 50/50 [00:01<00:00, 27.00it/s, epoch=26/100, avg_epoch_loss=1.97]\n",
            "100%|██████████| 50/50 [00:02<00:00, 19.82it/s, epoch=27/100, avg_epoch_loss=2.13]\n",
            "100%|██████████| 50/50 [00:01<00:00, 26.17it/s, epoch=28/100, avg_epoch_loss=2.2]\n",
            "100%|██████████| 50/50 [00:01<00:00, 30.70it/s, epoch=29/100, avg_epoch_loss=1.97]\n",
            "100%|██████████| 50/50 [00:01<00:00, 30.51it/s, epoch=30/100, avg_epoch_loss=1.77]\n",
            "100%|██████████| 50/50 [00:01<00:00, 30.81it/s, epoch=31/100, avg_epoch_loss=1.71]\n",
            "100%|██████████| 50/50 [00:01<00:00, 30.38it/s, epoch=32/100, avg_epoch_loss=3.26]\n",
            "100%|██████████| 50/50 [00:01<00:00, 30.53it/s, epoch=33/100, avg_epoch_loss=2.3]\n",
            "100%|██████████| 50/50 [00:02<00:00, 23.13it/s, epoch=34/100, avg_epoch_loss=1.88]\n",
            "100%|██████████| 50/50 [00:02<00:00, 20.66it/s, epoch=35/100, avg_epoch_loss=1.62]\n",
            "100%|██████████| 50/50 [00:01<00:00, 30.29it/s, epoch=36/100, avg_epoch_loss=1.57]\n",
            "100%|██████████| 50/50 [00:01<00:00, 30.57it/s, epoch=37/100, avg_epoch_loss=1.49]\n",
            "100%|██████████| 50/50 [00:01<00:00, 30.42it/s, epoch=38/100, avg_epoch_loss=1.45]\n",
            "100%|██████████| 50/50 [00:01<00:00, 31.11it/s, epoch=39/100, avg_epoch_loss=1.49]\n",
            "100%|██████████| 50/50 [00:01<00:00, 30.48it/s, epoch=40/100, avg_epoch_loss=1.48]\n",
            "100%|██████████| 50/50 [00:01<00:00, 29.09it/s, epoch=41/100, avg_epoch_loss=1.38]\n",
            "100%|██████████| 50/50 [00:02<00:00, 19.89it/s, epoch=42/100, avg_epoch_loss=1.45]\n",
            "100%|██████████| 50/50 [00:02<00:00, 24.19it/s, epoch=43/100, avg_epoch_loss=1.35]\n",
            "100%|██████████| 50/50 [00:01<00:00, 30.43it/s, epoch=44/100, avg_epoch_loss=1.34]\n",
            "100%|██████████| 50/50 [00:01<00:00, 30.33it/s, epoch=45/100, avg_epoch_loss=1.32]\n",
            "100%|██████████| 50/50 [00:01<00:00, 30.89it/s, epoch=46/100, avg_epoch_loss=1.31]\n",
            "100%|██████████| 50/50 [00:01<00:00, 29.99it/s, epoch=47/100, avg_epoch_loss=1.3]\n",
            "100%|██████████| 50/50 [00:01<00:00, 30.55it/s, epoch=48/100, avg_epoch_loss=1.18]\n",
            "100%|██████████| 50/50 [00:02<00:00, 23.30it/s, epoch=49/100, avg_epoch_loss=1.15]\n",
            "100%|██████████| 50/50 [00:02<00:00, 19.99it/s, epoch=50/100, avg_epoch_loss=1.23]\n",
            "100%|██████████| 50/50 [00:01<00:00, 31.04it/s, epoch=51/100, avg_epoch_loss=1.2]\n",
            "100%|██████████| 50/50 [00:01<00:00, 30.59it/s, epoch=52/100, avg_epoch_loss=1.09]\n",
            "100%|██████████| 50/50 [00:01<00:00, 30.40it/s, epoch=53/100, avg_epoch_loss=1.17]\n",
            "100%|██████████| 50/50 [00:01<00:00, 30.26it/s, epoch=54/100, avg_epoch_loss=1.05]\n",
            "100%|██████████| 50/50 [00:01<00:00, 30.61it/s, epoch=55/100, avg_epoch_loss=1.1]\n",
            "100%|██████████| 50/50 [00:01<00:00, 31.02it/s, epoch=56/100, avg_epoch_loss=1.08]\n",
            "100%|██████████| 50/50 [00:02<00:00, 20.09it/s, epoch=57/100, avg_epoch_loss=1.16]\n",
            "100%|██████████| 50/50 [00:02<00:00, 23.49it/s, epoch=58/100, avg_epoch_loss=0.993]\n",
            "100%|██████████| 50/50 [00:01<00:00, 30.94it/s, epoch=59/100, avg_epoch_loss=0.995]\n",
            "100%|██████████| 50/50 [00:01<00:00, 30.68it/s, epoch=60/100, avg_epoch_loss=0.887]\n",
            "100%|██████████| 50/50 [00:01<00:00, 30.82it/s, epoch=61/100, avg_epoch_loss=0.985]\n",
            "100%|██████████| 50/50 [00:01<00:00, 30.41it/s, epoch=62/100, avg_epoch_loss=0.877]\n",
            "100%|██████████| 50/50 [00:01<00:00, 30.71it/s, epoch=63/100, avg_epoch_loss=1.36]\n",
            "100%|██████████| 50/50 [00:01<00:00, 25.01it/s, epoch=64/100, avg_epoch_loss=0.954]\n",
            "100%|██████████| 50/50 [00:02<00:00, 19.80it/s, epoch=65/100, avg_epoch_loss=0.898]\n",
            "100%|██████████| 50/50 [00:01<00:00, 28.87it/s, epoch=66/100, avg_epoch_loss=0.922]\n",
            "100%|██████████| 50/50 [00:01<00:00, 30.68it/s, epoch=67/100, avg_epoch_loss=0.921]\n",
            "100%|██████████| 50/50 [00:01<00:00, 30.40it/s, epoch=68/100, avg_epoch_loss=0.957]\n",
            "100%|██████████| 50/50 [00:01<00:00, 30.81it/s, epoch=69/100, avg_epoch_loss=0.833]\n",
            "100%|██████████| 50/50 [00:01<00:00, 30.68it/s, epoch=70/100, avg_epoch_loss=0.738]\n",
            "100%|██████████| 50/50 [00:01<00:00, 30.29it/s, epoch=71/100, avg_epoch_loss=0.798]\n",
            "100%|██████████| 50/50 [00:02<00:00, 21.49it/s, epoch=72/100, avg_epoch_loss=0.771]\n",
            "100%|██████████| 50/50 [00:02<00:00, 21.95it/s, epoch=73/100, avg_epoch_loss=0.805]\n",
            "100%|██████████| 50/50 [00:01<00:00, 30.80it/s, epoch=74/100, avg_epoch_loss=0.68]\n",
            "100%|██████████| 50/50 [00:01<00:00, 30.57it/s, epoch=75/100, avg_epoch_loss=0.667]\n",
            "100%|██████████| 50/50 [00:01<00:00, 29.57it/s, epoch=76/100, avg_epoch_loss=0.778]\n",
            "100%|██████████| 50/50 [00:01<00:00, 29.70it/s, epoch=77/100, avg_epoch_loss=0.716]\n",
            "100%|██████████| 50/50 [00:01<00:00, 30.58it/s, epoch=78/100, avg_epoch_loss=1.03]\n",
            "100%|██████████| 50/50 [00:01<00:00, 26.48it/s, epoch=79/100, avg_epoch_loss=0.806]\n",
            "100%|██████████| 50/50 [00:02<00:00, 19.66it/s, epoch=80/100, avg_epoch_loss=0.608]\n",
            "100%|██████████| 50/50 [00:01<00:00, 26.72it/s, epoch=81/100, avg_epoch_loss=0.62]\n",
            "100%|██████████| 50/50 [00:01<00:00, 30.27it/s, epoch=82/100, avg_epoch_loss=0.508]\n",
            "100%|██████████| 50/50 [00:01<00:00, 30.32it/s, epoch=83/100, avg_epoch_loss=0.602]\n",
            "100%|██████████| 50/50 [00:01<00:00, 29.92it/s, epoch=84/100, avg_epoch_loss=0.816]\n",
            "100%|██████████| 50/50 [00:01<00:00, 30.39it/s, epoch=85/100, avg_epoch_loss=0.548]\n",
            "100%|██████████| 50/50 [00:01<00:00, 30.17it/s, epoch=86/100, avg_epoch_loss=0.638]\n",
            "100%|██████████| 50/50 [00:02<00:00, 21.46it/s, epoch=87/100, avg_epoch_loss=0.583]\n",
            "100%|██████████| 50/50 [00:02<00:00, 21.58it/s, epoch=88/100, avg_epoch_loss=0.438]\n",
            "100%|██████████| 50/50 [00:01<00:00, 30.56it/s, epoch=89/100, avg_epoch_loss=0.487]\n",
            "100%|██████████| 50/50 [00:01<00:00, 30.06it/s, epoch=90/100, avg_epoch_loss=0.497]\n",
            "100%|██████████| 50/50 [00:01<00:00, 30.14it/s, epoch=91/100, avg_epoch_loss=0.41]\n",
            "100%|██████████| 50/50 [00:01<00:00, 29.52it/s, epoch=92/100, avg_epoch_loss=0.41]\n",
            "100%|██████████| 50/50 [00:02<00:00, 23.51it/s, epoch=93/100, avg_epoch_loss=0.433]\n",
            "100%|██████████| 50/50 [00:02<00:00, 18.15it/s, epoch=94/100, avg_epoch_loss=0.562]\n",
            "100%|██████████| 50/50 [00:02<00:00, 18.02it/s, epoch=95/100, avg_epoch_loss=0.348]\n",
            "100%|██████████| 50/50 [00:01<00:00, 26.63it/s, epoch=96/100, avg_epoch_loss=0.314]\n",
            "100%|██████████| 50/50 [00:01<00:00, 30.90it/s, epoch=97/100, avg_epoch_loss=0.345]\n",
            "100%|██████████| 50/50 [00:01<00:00, 29.54it/s, epoch=98/100, avg_epoch_loss=0.238]\n",
            "100%|██████████| 50/50 [00:01<00:00, 30.59it/s, epoch=99/100, avg_epoch_loss=0.342]\n",
            "100%|██████████| 50/50 [00:01<00:00, 30.61it/s, epoch=100/100, avg_epoch_loss=0.306]\n"
          ]
        }
      ]
    }
  ]
}