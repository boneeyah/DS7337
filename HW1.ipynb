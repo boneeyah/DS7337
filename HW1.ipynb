{
 "cells": [
  {
   "cell_type": "markdown",
   "id": "e14d1978-f2ad-44da-a6d8-4877173d11d1",
   "metadata": {},
   "source": [
    "# NLP - Homework 1\n",
    "### Miguel Bonilla"
   ]
  },
  {
   "cell_type": "markdown",
   "id": "dbe79ed2-928f-4aa5-b2da-7a4431871894",
   "metadata": {},
   "source": [
    "- 1. Install Python (if you don’t have it already) and install NLTK.  \n",
    "- 2. Follow the instructions in chapter 1 of Bird-Klein for implementing a “lexical diversity” scoring \n",
    "routine.\n",
    "- 3. Go to http://www.gutenberg.org/ebooks/bookshelf/215  and select texts of different grade levels \n",
    "(e.g., fourth reader, fifth reader et al)\n",
    "Report the lexical diversity score of each. Explain whether the result was surprising.\n",
    "- 4. Also compare the vocabulary size of the same three texts. Explain whether the result was \n",
    "surprising.  \n",
    "- 5. Write a paragraph arguing whether vocabulary size and lexical diversity in combination could be \n",
    "a better measure of text difficulty (or reading level) than either measure is by itself."
   ]
  },
  {
   "cell_type": "code",
   "execution_count": 8,
   "id": "b688e48e-ea1a-4390-8b32-a8aa2c460585",
   "metadata": {},
   "outputs": [],
   "source": [
    "import nltk\n",
    "from nltk.tokenize import word_tokenize"
   ]
  },
  {
   "cell_type": "markdown",
   "id": "51634f3f-6bfd-44e5-9f61-613ffa2ea8fe",
   "metadata": {},
   "source": [
    "- First https://www.gutenberg.org/cache/epub/14640/pg14640.txt\n",
    "- Second https://www.gutenberg.org/cache/epub/14668/pg14668.txt\n",
    "- Third https://www.gutenberg.org/cache/epub/14766/pg14766.txt"
   ]
  },
  {
   "cell_type": "code",
   "execution_count": 59,
   "id": "873fce82-9fb1-4ac5-b83e-5e54347a7843",
   "metadata": {},
   "outputs": [],
   "source": [
    "from urllib import request\n",
    "url1 = \"https://www.gutenberg.org/cache/epub/14640/pg14640.txt\"\n",
    "url2 = \"https://www.gutenberg.org/cache/epub/14668/pg14668.txt\"\n",
    "url3 = \"https://www.gutenberg.org/cache/epub/14766/pg14766.txt\"\n",
    "\n",
    "#import books\n",
    "text1 = request.urlopen(url1).read().decode('utf8')\n",
    "text2 = request.urlopen(url2).read().decode('utf8')\n",
    "text3 = request.urlopen(url3).read().decode('utf8')\n",
    "\n",
    "# tokenize books\n",
    "text1 = word_tokenize(text1)\n",
    "text2 = word_tokenize(text2)\n",
    "text3 = word_tokenize(text3)"
   ]
  },
  {
   "cell_type": "code",
   "execution_count": 60,
   "id": "b829a806-9910-469d-a2db-0dd9690d7cb0",
   "metadata": {},
   "outputs": [
    {
     "name": "stdout",
     "output_type": "stream",
     "text": [
      "beginning of text is:  1125\n",
      "end of text is:  9335\n"
     ]
    }
   ],
   "source": [
    "## text 1 find beginning and end\n",
    "print('beginning of text is: ',text1.index('LESSON')) #beginning\n",
    "print('end of text is: ',text1.index('PHONIC')-1) #end"
   ]
  },
  {
   "cell_type": "code",
   "execution_count": 70,
   "id": "cfb1e113-cdf0-4d84-b067-87a0d3a98d7b",
   "metadata": {},
   "outputs": [
    {
     "name": "stdout",
     "output_type": "stream",
     "text": [
      "beginning of text is:  1500\n",
      "end of text is:  22004\n"
     ]
    }
   ],
   "source": [
    "## text 2 find beginning and end\n",
    "print('beginning of text is: ',text2.index('LESSON')) #beginning\n",
    "print('end of text is: ',text2.index('Tennyson')) #end"
   ]
  },
  {
   "cell_type": "code",
   "execution_count": 79,
   "id": "44c5bf03-8b30-4049-8f04-00ab42c28efc",
   "metadata": {},
   "outputs": [
    {
     "name": "stdout",
     "output_type": "stream",
     "text": [
      "beginning of text is:  2116\n",
      "end of text is:  34675\n"
     ]
    }
   ],
   "source": [
    "## text 3 find beginning and end\n",
    "print('beginning of text is: ',text3.index('SHEPHERD')-4) #beginning\n",
    "print('end of text is: ',text3.index('Follen')) #end"
   ]
  },
  {
   "cell_type": "code",
   "execution_count": 80,
   "id": "051036e0-9ab8-4312-ba06-29e239d4a886",
   "metadata": {},
   "outputs": [],
   "source": [
    "text1 = text1[1125:9335]\n",
    "text2 = text2[1500:22004]\n",
    "text3 = text3[2116:34675]"
   ]
  },
  {
   "cell_type": "code",
   "execution_count": 94,
   "id": "9ab17d9d-6650-4137-adde-7c48167821cb",
   "metadata": {},
   "outputs": [],
   "source": [
    "## from textbook, define lexical diversity\n",
    "def lexical_diversity(text):\n",
    "    return(len(set(text))/len(text))"
   ]
  },
  {
   "cell_type": "code",
   "execution_count": 103,
   "id": "1e2da58d-c540-4ebc-8428-de53ffb7b2c6",
   "metadata": {},
   "outputs": [],
   "source": [
    "length1 = len(text1)\n",
    "length2 = len(text2)\n",
    "length3 = len(text3)\n",
    "ld1 = lexical_diversity(text1)\n",
    "ld2 = lexical_diversity(text2)\n",
    "ld3 = lexical_diversity(text3)"
   ]
  },
  {
   "cell_type": "code",
   "execution_count": 110,
   "id": "4e5d697f-9398-402c-ad2a-32160bf23025",
   "metadata": {},
   "outputs": [
    {
     "data": {
      "text/plain": [
       "0.14165651644336175"
      ]
     },
     "execution_count": 110,
     "metadata": {},
     "output_type": "execute_result"
    }
   ],
   "source": [
    "ld1"
   ]
  },
  {
   "cell_type": "markdown",
   "id": "e2f31664-53ee-410b-b2c8-e4d009d1fac5",
   "metadata": {},
   "source": [
    "Book | Length | Lexical Diversity\n",
    "-----|--------|---------------\n",
    "First Reader | {{length1}} | ld1\n",
    "Second Reader | length2 | ld2\n",
    "Third Reader | length3 | ld3"
   ]
  }
 ],
 "metadata": {
  "kernelspec": {
   "display_name": "Python 3 (ipykernel)",
   "language": "python",
   "name": "python3"
  },
  "language_info": {
   "codemirror_mode": {
    "name": "ipython",
    "version": 3
   },
   "file_extension": ".py",
   "mimetype": "text/x-python",
   "name": "python",
   "nbconvert_exporter": "python",
   "pygments_lexer": "ipython3",
   "version": "3.9.15"
  }
 },
 "nbformat": 4,
 "nbformat_minor": 5
}
