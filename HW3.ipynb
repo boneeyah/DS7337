{
 "cells": [
  {
   "cell_type": "markdown",
   "id": "05bebbe4-dec0-4d61-9a47-d90047fe6d1f",
   "metadata": {
    "tags": []
   },
   "source": [
    "# NLP - Homework 1\n",
    "### Miguel Bonilla"
   ]
  },
  {
   "cell_type": "markdown",
   "id": "c57094c7-4648-4873-a50b-0d1a8104d88e",
   "metadata": {},
   "source": [
    "- [Compare Name](#Compare-Name)\n",
    "    - [Edit Distance](#Edit-Distance)\n",
    "    - [String Match](#String-Match)\n",
    "- [Stop Words](#Stop-Words)\n",
    "- [Stemmer](#Stemmer)"
   ]
  },
  {
   "cell_type": "markdown",
   "id": "525f3431-b234-49d7-8101-8affd290490b",
   "metadata": {},
   "source": [
    "1. Compare your given name with your nickname (if you don’t have a nickname, invent one for this \n",
    "assignment) by answering the following questions:\n",
    "a. What is the edit distance between your nickname and your given name?\n",
    "b. What is the percentage string match between your nickname and your given name?\n",
    "Show your work for both calculations.\n",
    "2. Find a friend (or family member or classmate) who you know has read a certain book. Without \n",
    "your friend knowing, copy the first two sentences of that book. Now rewrite the words from \n",
    "those sentences, excluding stop words. Now tell your friend to guess which book the words are \n",
    "from by reading them just that list of words. Did you friend correctly guess the book on the first \n",
    "try? What did he or she guess? Explain why you think you friend either was or was not able to \n",
    "guess the book from hearing the list of words. \n",
    "3. Run one of the stemmers available in Python. Run the same two sentences from question 2 \n",
    "above through the stemmer and show the results. How many of the outputted stems are valid \n",
    "morphological roots of the corresponding words? Express this answer as a percentage."
   ]
  },
  {
   "cell_type": "code",
   "execution_count": 1,
   "id": "6fadab0f-fa55-4c8f-bfec-7762c3340b7c",
   "metadata": {},
   "outputs": [],
   "source": [
    "import copy\n",
    "import numpy as np\n",
    "import pandas as pd\n",
    "import nltk\n",
    "import contractions\n",
    "from nltk.tokenize import word_tokenize"
   ]
  },
  {
   "cell_type": "markdown",
   "id": "d4254d0a-2078-4b9b-84b6-a0a2bf3a9dee",
   "metadata": {},
   "source": [
    "### Compare Name\n",
    "#### Edit Distance"
   ]
  },
  {
   "cell_type": "markdown",
   "id": "f99af6bf-ce2a-4375-918a-2434d0ff68c7",
   "metadata": {},
   "source": [
    "Given Name: Miguel - Nickname: Migue \n",
    "\n",
    "Setting up the matrix manually:\n",
    "\n",
    "-|M|i|g|u|e|l\n",
    "-|-|-|-|-|-|-|\n",
    "M|0|1|2|3|4|5\n",
    "i|1|0|1|2|3|4\n",
    "g|2|1|0|1|2|3\n",
    "u|3|2|1|0|1|2\n",
    "e|4|3|2|1|0|1"
   ]
  },
  {
   "cell_type": "markdown",
   "id": "032916c8-858d-49a8-974d-993dbec729af",
   "metadata": {},
   "source": [
    "Distance between Miguel and Migue = 1. Since they are the same with one fewer letter for the nickname."
   ]
  },
  {
   "cell_type": "code",
   "execution_count": 2,
   "id": "c782f208-f59d-4483-8655-75e1df32a6e6",
   "metadata": {},
   "outputs": [],
   "source": [
    "## Calculating distance using formula from book:\n",
    "def levenshtein_edit_distance(u, v):\n",
    "    # convert to lower case\n",
    "    u = u.lower()\n",
    "    v = v.lower()\n",
    "    # base cases\n",
    "    if u == v: return 0\n",
    "    elif len(u) == 0: return len(v)\n",
    "    elif len(v) == 0: return len(u)\n",
    "    # initialize edit distance matrix\n",
    "    edit_matrix = []\n",
    "    # initialize two distance matrices\n",
    "    du = [0] * (len(v) + 1)\n",
    "    dv = [0] * (len(v) + 1)\n",
    "    # du: the previous row of edit distances\n",
    "    for i in range(len(du)):\n",
    "        du[i] = i\n",
    "    # dv : the current row of edit distances\n",
    "    for i in range(len(u)):\n",
    "        dv[0] = i + 1\n",
    "        # compute cost as per algorithm\n",
    "        for j in range(len(v)):\n",
    "            cost = 0 if u[i] == v[j] else 1\n",
    "            dv[j + 1] = min(dv[j] + 1, du[j + 1] + 1, du[j] + cost)\n",
    "        # assign dv to du for next iteration\n",
    "        for j in range(len(du)):\n",
    "            du[j] = dv[j]\n",
    "        # copy dv to the edit matrix\n",
    "        edit_matrix.append(copy.copy(dv))\n",
    "    # compute the final edit distance and edit matrix\n",
    "    distance = dv[len(v)]\n",
    "    edit_matrix = np.array(edit_matrix)\n",
    "    edit_matrix = edit_matrix.T\n",
    "    edit_matrix = edit_matrix[1:,]\n",
    "    edit_matrix = pd.DataFrame(data=edit_matrix,\n",
    "                               index=list(v),\n",
    "                               columns=list(u))\n",
    "    print(\"distance = \",distance)\n",
    "    return edit_matrix"
   ]
  },
  {
   "cell_type": "code",
   "execution_count": 3,
   "id": "b834f42f-1f62-4ff3-aed8-b9298f5c1ace",
   "metadata": {},
   "outputs": [
    {
     "name": "stdout",
     "output_type": "stream",
     "text": [
      "distance =  1\n"
     ]
    },
    {
     "data": {
      "text/html": [
       "<div>\n",
       "<style scoped>\n",
       "    .dataframe tbody tr th:only-of-type {\n",
       "        vertical-align: middle;\n",
       "    }\n",
       "\n",
       "    .dataframe tbody tr th {\n",
       "        vertical-align: top;\n",
       "    }\n",
       "\n",
       "    .dataframe thead th {\n",
       "        text-align: right;\n",
       "    }\n",
       "</style>\n",
       "<table border=\"1\" class=\"dataframe\">\n",
       "  <thead>\n",
       "    <tr style=\"text-align: right;\">\n",
       "      <th></th>\n",
       "      <th>m</th>\n",
       "      <th>i</th>\n",
       "      <th>g</th>\n",
       "      <th>u</th>\n",
       "      <th>e</th>\n",
       "      <th>l</th>\n",
       "    </tr>\n",
       "  </thead>\n",
       "  <tbody>\n",
       "    <tr>\n",
       "      <th>m</th>\n",
       "      <td>0</td>\n",
       "      <td>1</td>\n",
       "      <td>2</td>\n",
       "      <td>3</td>\n",
       "      <td>4</td>\n",
       "      <td>5</td>\n",
       "    </tr>\n",
       "    <tr>\n",
       "      <th>i</th>\n",
       "      <td>1</td>\n",
       "      <td>0</td>\n",
       "      <td>1</td>\n",
       "      <td>2</td>\n",
       "      <td>3</td>\n",
       "      <td>4</td>\n",
       "    </tr>\n",
       "    <tr>\n",
       "      <th>g</th>\n",
       "      <td>2</td>\n",
       "      <td>1</td>\n",
       "      <td>0</td>\n",
       "      <td>1</td>\n",
       "      <td>2</td>\n",
       "      <td>3</td>\n",
       "    </tr>\n",
       "    <tr>\n",
       "      <th>u</th>\n",
       "      <td>3</td>\n",
       "      <td>2</td>\n",
       "      <td>1</td>\n",
       "      <td>0</td>\n",
       "      <td>1</td>\n",
       "      <td>2</td>\n",
       "    </tr>\n",
       "    <tr>\n",
       "      <th>e</th>\n",
       "      <td>4</td>\n",
       "      <td>3</td>\n",
       "      <td>2</td>\n",
       "      <td>1</td>\n",
       "      <td>0</td>\n",
       "      <td>1</td>\n",
       "    </tr>\n",
       "  </tbody>\n",
       "</table>\n",
       "</div>"
      ],
      "text/plain": [
       "   m  i  g  u  e  l\n",
       "m  0  1  2  3  4  5\n",
       "i  1  0  1  2  3  4\n",
       "g  2  1  0  1  2  3\n",
       "u  3  2  1  0  1  2\n",
       "e  4  3  2  1  0  1"
      ]
     },
     "execution_count": 3,
     "metadata": {},
     "output_type": "execute_result"
    }
   ],
   "source": [
    "levenshtein_edit_distance('Miguel','Migue')"
   ]
  },
  {
   "cell_type": "markdown",
   "id": "7eb79d1f-46b8-41f7-aaf2-5659911e2983",
   "metadata": {},
   "source": [
    "The function given on the book, yields the same results as the hand calculations done above. As expected, given that the name and nickname are exactly the same, with the nickname having one fewer letter."
   ]
  },
  {
   "cell_type": "markdown",
   "id": "8263b129-6629-4770-85d9-af5c630e9729",
   "metadata": {},
   "source": [
    "#### String Match"
   ]
  },
  {
   "cell_type": "code",
   "execution_count": 4,
   "id": "32c30c4e-8c38-47db-9f8f-f9b3a433d2cc",
   "metadata": {},
   "outputs": [],
   "source": [
    "## will use cosine distance from the book\n",
    "## first do bag of characters (boc) vectorization\n",
    "name_list = ['Miguel','Migue']"
   ]
  },
  {
   "cell_type": "code",
   "execution_count": 5,
   "id": "9616bfed-bd18-4490-89a6-027718085866",
   "metadata": {
    "tags": []
   },
   "outputs": [],
   "source": [
    "def string_distance(word_list):\n",
    "    word_list = [word.lower() for word in word_list]\n",
    "    unique_chars = np.unique(\n",
    "                        np.hstack([list(word)\n",
    "                        for word in word_list]))\n",
    "    word_list_term_counts = [{char: count\n",
    "                                  for char, count in np.stack(\n",
    "                                  np.unique(list(word), return_counts=True), axis=1)}\n",
    "                                  for word in word_list]\n",
    "    boc_vectors = [np.array([int(word_term_counts.get(char, 0))\n",
    "                            for char in unique_chars])\n",
    "                   for word_term_counts in word_list_term_counts]\n",
    "    similarity = round((np.dot(boc_vectors[0],boc_vectors[1]) / (np.sqrt(sum(np.square(boc_vectors[0]))) * np.sqrt(sum(np.square(boc_vectors[1]))))),3)\n",
    "    display(pd.DataFrame(columns=list(unique_chars),data=boc_vectors, index=word_list))\n",
    "    print(\"The percentage string match is: {}%\".format(similarity*100))\n",
    "    #return list(unique_chars), boc_vectors"
   ]
  },
  {
   "cell_type": "code",
   "execution_count": 6,
   "id": "4e6a5e34-0aaf-4f4c-8b59-45301d664f55",
   "metadata": {},
   "outputs": [
    {
     "data": {
      "text/html": [
       "<div>\n",
       "<style scoped>\n",
       "    .dataframe tbody tr th:only-of-type {\n",
       "        vertical-align: middle;\n",
       "    }\n",
       "\n",
       "    .dataframe tbody tr th {\n",
       "        vertical-align: top;\n",
       "    }\n",
       "\n",
       "    .dataframe thead th {\n",
       "        text-align: right;\n",
       "    }\n",
       "</style>\n",
       "<table border=\"1\" class=\"dataframe\">\n",
       "  <thead>\n",
       "    <tr style=\"text-align: right;\">\n",
       "      <th></th>\n",
       "      <th>e</th>\n",
       "      <th>g</th>\n",
       "      <th>i</th>\n",
       "      <th>l</th>\n",
       "      <th>m</th>\n",
       "      <th>u</th>\n",
       "    </tr>\n",
       "  </thead>\n",
       "  <tbody>\n",
       "    <tr>\n",
       "      <th>miguel</th>\n",
       "      <td>1</td>\n",
       "      <td>1</td>\n",
       "      <td>1</td>\n",
       "      <td>1</td>\n",
       "      <td>1</td>\n",
       "      <td>1</td>\n",
       "    </tr>\n",
       "    <tr>\n",
       "      <th>migue</th>\n",
       "      <td>1</td>\n",
       "      <td>1</td>\n",
       "      <td>1</td>\n",
       "      <td>0</td>\n",
       "      <td>1</td>\n",
       "      <td>1</td>\n",
       "    </tr>\n",
       "  </tbody>\n",
       "</table>\n",
       "</div>"
      ],
      "text/plain": [
       "        e  g  i  l  m  u\n",
       "miguel  1  1  1  1  1  1\n",
       "migue   1  1  1  0  1  1"
      ]
     },
     "metadata": {},
     "output_type": "display_data"
    },
    {
     "name": "stdout",
     "output_type": "stream",
     "text": [
      "The percentage string match is: 91.3%\n"
     ]
    }
   ],
   "source": [
    "string_distance(name_list)"
   ]
  },
  {
   "cell_type": "markdown",
   "id": "e6ca8750-e91a-4b68-b51a-54b3c2b13928",
   "metadata": {},
   "source": [
    "### Stop Words"
   ]
  },
  {
   "cell_type": "code",
   "execution_count": 7,
   "id": "f5bfab51-bcea-4951-996c-0dfdccd0f244",
   "metadata": {},
   "outputs": [],
   "source": [
    "### from Harry Potter and The Sorcerer's Stone\n",
    "text_string = '''Tell me, Oh Muse, of that ingenious hero who traveled far and wide after he had sacked the famous town of Troy.\n",
    "Many cities did he visit, and many were the nations with whose manners and customs he was acquainted.'''"
   ]
  },
  {
   "cell_type": "code",
   "execution_count": 8,
   "id": "e1b382d8-2883-4623-87f3-203bc01c3ded",
   "metadata": {},
   "outputs": [],
   "source": [
    "stopwords = nltk.corpus.stopwords.words('english')\n",
    "def text_normalize(text):\n",
    "    word_tokens = word_tokenize(text)\n",
    "    content = [w.lower() for w in word_tokens if w.lower() not in stopwords and w.isalpha()]\n",
    "    return content"
   ]
  },
  {
   "cell_type": "code",
   "execution_count": 9,
   "id": "7e52003f-9100-4b5e-a3c7-950fa188c773",
   "metadata": {},
   "outputs": [
    {
     "name": "stdout",
     "output_type": "stream",
     "text": [
      "tell oh muse ingenious hero traveled far wide sacked famous town troy many cities visit many nations whose manners customs acquainted\n"
     ]
    }
   ],
   "source": [
    "content_words = text_normalize(text_string)\n",
    "print(' '.join(content_words))"
   ]
  },
  {
   "cell_type": "markdown",
   "id": "30f14ba7-df67-4efe-ab96-a571fccc3262",
   "metadata": {},
   "source": [
    "#### Results\n",
    "The friend presented with the text, was able to correctly identify it as being from The Odyssey by the end of the first sentence. They were able to identify the source because the content words retained enough information about the source material to make it identifiable. For example, the words \"muse\", \"hero\", \"traveled\", \"sacked\", \"troy\" give enough information on the context, the time, and a journey which make the text identifiable."
   ]
  },
  {
   "cell_type": "markdown",
   "id": "0a3a8b2f-8c23-4516-aa7a-9299c7f70440",
   "metadata": {},
   "source": [
    "### Stemmer"
   ]
  },
  {
   "cell_type": "code",
   "execution_count": 10,
   "id": "4f53435c-8e15-45fa-9d60-3c3d8bef83e6",
   "metadata": {},
   "outputs": [],
   "source": [
    "from nltk.stem import PorterStemmer"
   ]
  },
  {
   "cell_type": "code",
   "execution_count": 11,
   "id": "98a9efc4-0240-4cde-9e8c-f9d006bc3fd7",
   "metadata": {},
   "outputs": [],
   "source": [
    "ps = PorterStemmer()"
   ]
  },
  {
   "cell_type": "code",
   "execution_count": 12,
   "id": "22127f06-7ee2-47a3-92a5-05cf6604ad2d",
   "metadata": {},
   "outputs": [],
   "source": [
    "def ps_stemmer(text):\n",
    "    word_tokens = word_tokenize(text)\n",
    "    word_tokens = [w.lower() for w in word_tokens if w.isalpha()]\n",
    "    for w in word_tokens:\n",
    "        print(w, \" : \", ps.stem(w))"
   ]
  },
  {
   "cell_type": "code",
   "execution_count": 13,
   "id": "74a192e5-0e19-435c-ac17-e9c5059b6091",
   "metadata": {},
   "outputs": [
    {
     "name": "stdout",
     "output_type": "stream",
     "text": [
      "tell  :  tell\n",
      "oh  :  oh\n",
      "muse  :  muse\n",
      "ingenious  :  ingeni\n",
      "hero  :  hero\n",
      "traveled  :  travel\n",
      "far  :  far\n",
      "wide  :  wide\n",
      "sacked  :  sack\n",
      "famous  :  famou\n",
      "town  :  town\n",
      "troy  :  troy\n",
      "many  :  mani\n",
      "cities  :  citi\n",
      "visit  :  visit\n",
      "many  :  mani\n",
      "nations  :  nation\n",
      "whose  :  whose\n",
      "manners  :  manner\n",
      "customs  :  custom\n",
      "acquainted  :  acquaint\n"
     ]
    }
   ],
   "source": [
    "ps_stemmer(','.join(content_words))"
   ]
  },
  {
   "cell_type": "markdown",
   "id": "71273b32-69f8-48db-9433-a98b0a8fafbf",
   "metadata": {},
   "source": [
    "Out of the 20 unique stems that are returned by the function, only 4 (ingeni, famou, mani, and citi) are not valid morphological roots of their corresponding words. In other words 16/20*100 = 80% are valid morphological roots of their associated words."
   ]
  },
  {
   "cell_type": "code",
   "execution_count": null,
   "id": "d159f0f7-971a-49dd-bf23-0dc6506b3893",
   "metadata": {},
   "outputs": [],
   "source": []
  }
 ],
 "metadata": {
  "kernelspec": {
   "display_name": "Python 3 (ipykernel)",
   "language": "python",
   "name": "python3"
  },
  "language_info": {
   "codemirror_mode": {
    "name": "ipython",
    "version": 3
   },
   "file_extension": ".py",
   "mimetype": "text/x-python",
   "name": "python",
   "nbconvert_exporter": "python",
   "pygments_lexer": "ipython3",
   "version": "3.9.12"
  }
 },
 "nbformat": 4,
 "nbformat_minor": 5
}
