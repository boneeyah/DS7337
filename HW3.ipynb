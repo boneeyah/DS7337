{
 "cells": [
  {
   "cell_type": "markdown",
   "id": "05bebbe4-dec0-4d61-9a47-d90047fe6d1f",
   "metadata": {
    "tags": []
   },
   "source": [
    "# NLP - Homework 1\n",
    "### Miguel Bonilla"
   ]
  },
  {
   "cell_type": "markdown",
   "id": "c57094c7-4648-4873-a50b-0d1a8104d88e",
   "metadata": {},
   "source": [
    " [Compare Name](#1.-Compare-Name)"
   ]
  },
  {
   "cell_type": "markdown",
   "id": "525f3431-b234-49d7-8101-8affd290490b",
   "metadata": {},
   "source": [
    "1. Compare your given name with your nickname (if you don’t have a nickname, invent one for this \n",
    "assignment) by answering the following questions:\n",
    "a. What is the edit distance between your nickname and your given name?\n",
    "b. What is the percentage string match between your nickname and your given name?\n",
    "Show your work for both calculations.\n",
    "2. Find a friend (or family member or classmate) who you know has read a certain book. Without \n",
    "your friend knowing, copy the first two sentences of that book. Now rewrite the words from \n",
    "those sentences, excluding stop words. Now tell your friend to guess which book the words are \n",
    "from by reading them just that list of words. Did you friend correctly guess the book on the first \n",
    "try? What did he or she guess? Explain why you think you friend either was or was not able to \n",
    "guess the book from hearing the list of words. \n",
    "3. Run one of the stemmers available in Python. Run the same two sentences from question 2 \n",
    "above through the stemmer and show the results. How many of the outputted stems are valid \n",
    "morphological roots of the corresponding words? Express this answer as a percentage."
   ]
  },
  {
   "cell_type": "code",
   "execution_count": 31,
   "id": "6fadab0f-fa55-4c8f-bfec-7762c3340b7c",
   "metadata": {},
   "outputs": [],
   "source": [
    "import copy\n",
    "import numpy as np\n",
    "import pandas as pd\n",
    "import nltk\n",
    "import contractions"
   ]
  },
  {
   "cell_type": "markdown",
   "id": "d4254d0a-2078-4b9b-84b6-a0a2bf3a9dee",
   "metadata": {},
   "source": [
    "### 1. Compare Name\n",
    "#### Part a: Edit Distance"
   ]
  },
  {
   "cell_type": "markdown",
   "id": "f99af6bf-ce2a-4375-918a-2434d0ff68c7",
   "metadata": {},
   "source": [
    "Given Name: Miguel - Nickname: Migue \n",
    "\n",
    "Setting up the matrix manually:\n",
    "\n",
    "-|M|i|g|u|e|l\n",
    "-|-|-|-|-|-|-|\n",
    "M|0|1|2|3|4|5\n",
    "i|1|0|1|2|3|4\n",
    "g|2|1|0|1|2|3\n",
    "u|3|2|1|0|1|2\n",
    "e|4|3|2|1|0|1"
   ]
  },
  {
   "cell_type": "markdown",
   "id": "032916c8-858d-49a8-974d-993dbec729af",
   "metadata": {},
   "source": [
    "Distance between Miguel and Migue = 1. Since they are the same with one fewer letter for the nickname."
   ]
  },
  {
   "cell_type": "code",
   "execution_count": 17,
   "id": "c782f208-f59d-4483-8655-75e1df32a6e6",
   "metadata": {},
   "outputs": [],
   "source": [
    "## Calculating distance using formula from book:\n",
    "def levenshtein_edit_distance(u, v):\n",
    "    # convert to lower case\n",
    "    u = u.lower()\n",
    "    v = v.lower()\n",
    "    # base cases\n",
    "    if u == v: return 0\n",
    "    elif len(u) == 0: return len(v)\n",
    "    elif len(v) == 0: return len(u)\n",
    "    # initialize edit distance matrix\n",
    "    edit_matrix = []\n",
    "    # initialize two distance matrices\n",
    "    du = [0] * (len(v) + 1)\n",
    "    dv = [0] * (len(v) + 1)\n",
    "    # du: the previous row of edit distances\n",
    "    for i in range(len(du)):\n",
    "        du[i] = i\n",
    "    # dv : the current row of edit distances\n",
    "    for i in range(len(u)):\n",
    "        dv[0] = i + 1\n",
    "        # compute cost as per algorithm\n",
    "        for j in range(len(v)):\n",
    "            cost = 0 if u[i] == v[j] else 1\n",
    "            dv[j + 1] = min(dv[j] + 1, du[j + 1] + 1, du[j] + cost)\n",
    "        # assign dv to du for next iteration\n",
    "        for j in range(len(du)):\n",
    "            du[j] = dv[j]\n",
    "        # copy dv to the edit matrix\n",
    "        edit_matrix.append(copy.copy(dv))\n",
    "    # compute the final edit distance and edit matrix\n",
    "    distance = dv[len(v)]\n",
    "    edit_matrix = np.array(edit_matrix)\n",
    "    edit_matrix = edit_matrix.T\n",
    "    edit_matrix = edit_matrix[1:,]\n",
    "    edit_matrix = pd.DataFrame(data=edit_matrix,\n",
    "                               index=list(v),\n",
    "                               columns=list(u))\n",
    "    print(\"distance = \",distance)\n",
    "    return edit_matrix"
   ]
  },
  {
   "cell_type": "code",
   "execution_count": 13,
   "id": "b834f42f-1f62-4ff3-aed8-b9298f5c1ace",
   "metadata": {},
   "outputs": [
    {
     "name": "stdout",
     "output_type": "stream",
     "text": [
      "distance =  1\n"
     ]
    },
    {
     "data": {
      "text/html": [
       "<div>\n",
       "<style scoped>\n",
       "    .dataframe tbody tr th:only-of-type {\n",
       "        vertical-align: middle;\n",
       "    }\n",
       "\n",
       "    .dataframe tbody tr th {\n",
       "        vertical-align: top;\n",
       "    }\n",
       "\n",
       "    .dataframe thead th {\n",
       "        text-align: right;\n",
       "    }\n",
       "</style>\n",
       "<table border=\"1\" class=\"dataframe\">\n",
       "  <thead>\n",
       "    <tr style=\"text-align: right;\">\n",
       "      <th></th>\n",
       "      <th>m</th>\n",
       "      <th>i</th>\n",
       "      <th>g</th>\n",
       "      <th>u</th>\n",
       "      <th>e</th>\n",
       "      <th>l</th>\n",
       "    </tr>\n",
       "  </thead>\n",
       "  <tbody>\n",
       "    <tr>\n",
       "      <th>m</th>\n",
       "      <td>0</td>\n",
       "      <td>1</td>\n",
       "      <td>2</td>\n",
       "      <td>3</td>\n",
       "      <td>4</td>\n",
       "      <td>5</td>\n",
       "    </tr>\n",
       "    <tr>\n",
       "      <th>i</th>\n",
       "      <td>1</td>\n",
       "      <td>0</td>\n",
       "      <td>1</td>\n",
       "      <td>2</td>\n",
       "      <td>3</td>\n",
       "      <td>4</td>\n",
       "    </tr>\n",
       "    <tr>\n",
       "      <th>g</th>\n",
       "      <td>2</td>\n",
       "      <td>1</td>\n",
       "      <td>0</td>\n",
       "      <td>1</td>\n",
       "      <td>2</td>\n",
       "      <td>3</td>\n",
       "    </tr>\n",
       "    <tr>\n",
       "      <th>u</th>\n",
       "      <td>3</td>\n",
       "      <td>2</td>\n",
       "      <td>1</td>\n",
       "      <td>0</td>\n",
       "      <td>1</td>\n",
       "      <td>2</td>\n",
       "    </tr>\n",
       "    <tr>\n",
       "      <th>e</th>\n",
       "      <td>4</td>\n",
       "      <td>3</td>\n",
       "      <td>2</td>\n",
       "      <td>1</td>\n",
       "      <td>0</td>\n",
       "      <td>1</td>\n",
       "    </tr>\n",
       "  </tbody>\n",
       "</table>\n",
       "</div>"
      ],
      "text/plain": [
       "   m  i  g  u  e  l\n",
       "m  0  1  2  3  4  5\n",
       "i  1  0  1  2  3  4\n",
       "g  2  1  0  1  2  3\n",
       "u  3  2  1  0  1  2\n",
       "e  4  3  2  1  0  1"
      ]
     },
     "execution_count": 13,
     "metadata": {},
     "output_type": "execute_result"
    }
   ],
   "source": [
    "levenshtein_edit_distance('Miguel','Migue')"
   ]
  },
  {
   "cell_type": "markdown",
   "id": "8263b129-6629-4770-85d9-af5c630e9729",
   "metadata": {},
   "source": [
    "#### Part b: String Match"
   ]
  },
  {
   "cell_type": "code",
   "execution_count": 60,
   "id": "f5bfab51-bcea-4951-996c-0dfdccd0f244",
   "metadata": {},
   "outputs": [],
   "source": [
    "### from Harry Potter and The Sorcerer's Stone\n",
    "text_string = '''Mr. and Mrs. Dursley, of number four, Privet Drive, were proud to say that they were perfectly normal,\n",
    "thank you very much. They were the last people you'd expect to be involved in anything strange or mysterious,\n",
    "because they just didn't hold with such nonsense.'''"
   ]
  },
  {
   "cell_type": "code",
   "execution_count": 61,
   "id": "63c50ccf-b383-4e7f-9ae1-34859e855020",
   "metadata": {},
   "outputs": [],
   "source": [
    "### expanding contractions (dev.to/edualgo/handle-contractions-in-text-preprocessing-nlp-21p)\n",
    "expanded_words=[]\n",
    "for word in text_string.split():\n",
    "    expanded_words.append(contractions.fix(word))"
   ]
  },
  {
   "cell_type": "code",
   "execution_count": 62,
   "id": "ed74ed8c-c379-4f63-b647-e1c61e142abb",
   "metadata": {},
   "outputs": [],
   "source": [
    "stopwords = nltk.corpus.stopwords.words('english')"
   ]
  },
  {
   "cell_type": "code",
   "execution_count": 63,
   "id": "67c4d2f0-89e4-451e-8427-21e1188650d0",
   "metadata": {},
   "outputs": [],
   "source": [
    "content = [w for w in expanded_words if w.lower() not in stopwords]"
   ]
  },
  {
   "cell_type": "code",
   "execution_count": 64,
   "id": "96925fd0-a93e-40f8-b822-6ebde126ddad",
   "metadata": {},
   "outputs": [
    {
     "data": {
      "text/plain": [
       "['Mr.',\n",
       " 'Mrs.',\n",
       " 'Dursley,',\n",
       " 'number',\n",
       " 'four,',\n",
       " 'Privet',\n",
       " 'Drive,',\n",
       " 'proud',\n",
       " 'say',\n",
       " 'perfectly',\n",
       " 'normal,',\n",
       " 'thank',\n",
       " 'much.',\n",
       " 'last',\n",
       " 'people',\n",
       " 'you would',\n",
       " 'expect',\n",
       " 'involved',\n",
       " 'anything',\n",
       " 'strange',\n",
       " 'mysterious,',\n",
       " 'did not',\n",
       " 'hold',\n",
       " 'nonsense.']"
      ]
     },
     "execution_count": 64,
     "metadata": {},
     "output_type": "execute_result"
    }
   ],
   "source": [
    "content"
   ]
  }
 ],
 "metadata": {
  "kernelspec": {
   "display_name": "Python 3 (ipykernel)",
   "language": "python",
   "name": "python3"
  },
  "language_info": {
   "codemirror_mode": {
    "name": "ipython",
    "version": 3
   },
   "file_extension": ".py",
   "mimetype": "text/x-python",
   "name": "python",
   "nbconvert_exporter": "python",
   "pygments_lexer": "ipython3",
   "version": "3.9.15"
  }
 },
 "nbformat": 4,
 "nbformat_minor": 5
}
